{
 "cells": [
  {
   "cell_type": "code",
   "execution_count": 1,
   "metadata": {},
   "outputs": [],
   "source": [
    "import numpy as np"
   ]
  },
  {
   "cell_type": "code",
   "execution_count": 2,
   "metadata": {},
   "outputs": [],
   "source": [
    "from matplotlib import pyplot as plt"
   ]
  },
  {
   "cell_type": "code",
   "execution_count": 127,
   "metadata": {},
   "outputs": [],
   "source": [
    "kid_height_range = (4.9,5.9)\n",
    "adult_height_range = (4.8,5.4,5.9)\n",
    "pkid = 0.6"
   ]
  },
  {
   "cell_type": "code",
   "execution_count": 143,
   "metadata": {},
   "outputs": [],
   "source": [
    "def village(kid_height_range,adult_height_range,pkid):\n",
    "    \n",
    "    choice = np.random.choice([0,1],1,p=[pkid,1-pkid])\n",
    "    \n",
    "    if(choice == 0):\n",
    "        height = np.random.uniform(kid_height_range[0],kid_height_range[1],1)\n",
    "    else:\n",
    "        pick_dist = np.random.choice([0,1],1,p=[0.1,0.9])\n",
    "        \n",
    "        if(pick_dist == 0):\n",
    "            height = np.random.uniform(adult_height_range[0],adult_height_range[1],1)\n",
    "        else:\n",
    "            height = np.random.uniform(adult_height_range[1],adult_height_range[2],1)\n",
    "    \n",
    "    return np.hstack([choice,height])\n",
    "            "
   ]
  },
  {
   "cell_type": "code",
   "execution_count": 144,
   "metadata": {},
   "outputs": [],
   "source": [
    "ans = village(kid_height_range,adult_height_range,pkid)\n",
    "\n",
    "for t in range(999):\n",
    "    \n",
    "    ans = np.vstack([ans,village(kid_height_range,adult_height_range,pkid)])\n",
    "    \n"
   ]
  },
  {
   "cell_type": "code",
   "execution_count": 130,
   "metadata": {},
   "outputs": [
    {
     "data": {
      "text/plain": [
       "array([[0.        , 5.77998634],\n",
       "       [0.        , 5.4581815 ],\n",
       "       [1.        , 5.72719647],\n",
       "       ...,\n",
       "       [1.        , 5.58453026],\n",
       "       [1.        , 5.85276372],\n",
       "       [1.        , 5.65789065]])"
      ]
     },
     "execution_count": 130,
     "metadata": {},
     "output_type": "execute_result"
    }
   ],
   "source": [
    "ans"
   ]
  },
  {
   "cell_type": "code",
   "execution_count": 131,
   "metadata": {},
   "outputs": [
    {
     "data": {
      "text/plain": [
       "(array([621.,   0.,   0.,   0.,   0.,   0.,   0.,   0.,   0., 379.]),\n",
       " array([0. , 0.1, 0.2, 0.3, 0.4, 0.5, 0.6, 0.7, 0.8, 0.9, 1. ]),\n",
       " <a list of 10 Patch objects>)"
      ]
     },
     "execution_count": 131,
     "metadata": {},
     "output_type": "execute_result"
    },
    {
     "data": {
      "image/png": "[encoded data removed]",
      "text/plain": [
       "<Figure size 432x288 with 1 Axes>"
      ]
     },
     "metadata": {
      "needs_background": "light"
     },
     "output_type": "display_data"
    }
   ],
   "source": [
    "plt.hist(ans[:,0])"
   ]
  },
  {
   "cell_type": "code",
   "execution_count": 132,
   "metadata": {},
   "outputs": [
    {
     "data": {
      "text/plain": [
       "(array([ 12.,  65.,  75.,  84.,  72., 114., 144., 137., 151., 146.]),\n",
       " array([4.80080439, 4.91071148, 5.02061856, 5.13052565, 5.24043274,\n",
       "        5.35033983, 5.46024692, 5.57015401, 5.68006109, 5.78996818,\n",
       "        5.89987527]),\n",
       " <a list of 10 Patch objects>)"
      ]
     },
     "execution_count": 132,
     "metadata": {},
     "output_type": "execute_result"
    },
    {
     "data": {
      "image/png": "[encoded data removed]",
      "text/plain": [
       "<Figure size 432x288 with 1 Axes>"
      ]
     },
     "metadata": {
      "needs_background": "light"
     },
     "output_type": "display_data"
    }
   ],
   "source": [
    "plt.hist(ans[:,1])"
   ]
  },
  {
   "cell_type": "code",
   "execution_count": 133,
   "metadata": {},
   "outputs": [],
   "source": [
    "ind_kid = np.where(0 == ans[:,0])[0]"
   ]
  },
  {
   "cell_type": "code",
   "execution_count": 134,
   "metadata": {},
   "outputs": [],
   "source": [
    "kid_h = ans[ind_kid]"
   ]
  },
  {
   "cell_type": "code",
   "execution_count": 135,
   "metadata": {},
   "outputs": [
    {
     "data": {
      "text/plain": [
       "(array([308., 313.]),\n",
       " array([4.90084149, 5.39961676, 5.89839203]),\n",
       " <a list of 2 Patch objects>)"
      ]
     },
     "execution_count": 135,
     "metadata": {},
     "output_type": "execute_result"
    },
    {
     "data": {
      "image/png": "[encoded data removed]",
      "text/plain": [
       "<Figure size 432x288 with 1 Axes>"
      ]
     },
     "metadata": {
      "needs_background": "light"
     },
     "output_type": "display_data"
    }
   ],
   "source": [
    "plt.hist(kid_h[:,1],bins = 2)"
   ]
  },
  {
   "cell_type": "code",
   "execution_count": 136,
   "metadata": {},
   "outputs": [],
   "source": [
    "ind_adult = np.where(1 == ans[:,0])[0]"
   ]
  },
  {
   "cell_type": "code",
   "execution_count": 137,
   "metadata": {},
   "outputs": [],
   "source": [
    "adult_h = ans[ind_adult]"
   ]
  },
  {
   "cell_type": "code",
   "execution_count": 138,
   "metadata": {},
   "outputs": [
    {
     "data": {
      "text/plain": [
       "array([[1.        , 5.72719647],\n",
       "       [1.        , 5.4239644 ],\n",
       "       [1.        , 5.89301081],\n",
       "       [1.        , 5.68606138],\n",
       "       [1.        , 5.83411667],\n",
       "       [1.        , 5.44430633],\n",
       "       [1.        , 5.87076274],\n",
       "       [1.        , 5.89315106],\n",
       "       [1.        , 5.79455334],\n",
       "       [1.        , 5.59754182],\n",
       "       [1.        , 5.84120419],\n",
       "       [1.        , 5.64388364],\n",
       "       [1.        , 5.78957614],\n",
       "       [1.        , 5.58880113],\n",
       "       [1.        , 5.47326825],\n",
       "       [1.        , 5.52446917],\n",
       "       [1.        , 5.77272967],\n",
       "       [1.        , 5.47528543],\n",
       "       [1.        , 5.79625982],\n",
       "       [1.        , 5.06158548],\n",
       "       [1.        , 5.65396671],\n",
       "       [1.        , 5.24397132],\n",
       "       [1.        , 5.78081904],\n",
       "       [1.        , 5.43337586],\n",
       "       [1.        , 5.70983139],\n",
       "       [1.        , 5.7619289 ],\n",
       "       [1.        , 5.5174645 ],\n",
       "       [1.        , 5.47019031],\n",
       "       [1.        , 5.61594117],\n",
       "       [1.        , 5.57753195],\n",
       "       [1.        , 5.60189121],\n",
       "       [1.        , 5.66676672],\n",
       "       [1.        , 5.40736237],\n",
       "       [1.        , 5.67541076],\n",
       "       [1.        , 5.69822078],\n",
       "       [1.        , 5.62007582],\n",
       "       [1.        , 5.51747237],\n",
       "       [1.        , 5.4773446 ],\n",
       "       [1.        , 5.79086066],\n",
       "       [1.        , 5.88580413],\n",
       "       [1.        , 5.89642392],\n",
       "       [1.        , 5.71405239],\n",
       "       [1.        , 5.45556281],\n",
       "       [1.        , 5.83050825],\n",
       "       [1.        , 5.45774518],\n",
       "       [1.        , 5.56163555],\n",
       "       [1.        , 5.77515963],\n",
       "       [1.        , 5.61639888],\n",
       "       [1.        , 5.76332254],\n",
       "       [1.        , 5.75292418],\n",
       "       [1.        , 5.49756086],\n",
       "       [1.        , 5.05894506],\n",
       "       [1.        , 5.89387062],\n",
       "       [1.        , 5.88515026],\n",
       "       [1.        , 5.74799955],\n",
       "       [1.        , 5.71595909],\n",
       "       [1.        , 5.17112903],\n",
       "       [1.        , 5.79545793],\n",
       "       [1.        , 4.8386679 ],\n",
       "       [1.        , 5.50421808],\n",
       "       [1.        , 5.44266072],\n",
       "       [1.        , 5.45330158],\n",
       "       [1.        , 5.88176112],\n",
       "       [1.        , 5.70155487],\n",
       "       [1.        , 5.68265847],\n",
       "       [1.        , 5.75253195],\n",
       "       [1.        , 5.32667608],\n",
       "       [1.        , 5.77283307],\n",
       "       [1.        , 5.88899449],\n",
       "       [1.        , 5.65292787],\n",
       "       [1.        , 5.69780586],\n",
       "       [1.        , 5.49657919],\n",
       "       [1.        , 5.72500825],\n",
       "       [1.        , 5.89184504],\n",
       "       [1.        , 5.58668044],\n",
       "       [1.        , 5.65019423],\n",
       "       [1.        , 5.55904548],\n",
       "       [1.        , 5.46638855],\n",
       "       [1.        , 5.61336666],\n",
       "       [1.        , 4.87035479],\n",
       "       [1.        , 5.50638333],\n",
       "       [1.        , 5.79874199],\n",
       "       [1.        , 5.85843544],\n",
       "       [1.        , 5.67363081],\n",
       "       [1.        , 5.76846948],\n",
       "       [1.        , 5.19756863],\n",
       "       [1.        , 5.81477037],\n",
       "       [1.        , 5.46701326],\n",
       "       [1.        , 4.85768688],\n",
       "       [1.        , 5.49390077],\n",
       "       [1.        , 5.52597638],\n",
       "       [1.        , 5.64002773],\n",
       "       [1.        , 5.44075044],\n",
       "       [1.        , 5.8134592 ],\n",
       "       [1.        , 5.84771553],\n",
       "       [1.        , 5.63829482],\n",
       "       [1.        , 5.8960169 ],\n",
       "       [1.        , 5.54580322],\n",
       "       [1.        , 5.11530958],\n",
       "       [1.        , 5.64969764],\n",
       "       [1.        , 5.64166841],\n",
       "       [1.        , 5.57858638],\n",
       "       [1.        , 5.77510048],\n",
       "       [1.        , 5.75465231],\n",
       "       [1.        , 5.66650182],\n",
       "       [1.        , 5.49472234],\n",
       "       [1.        , 5.79206962],\n",
       "       [1.        , 5.57089672],\n",
       "       [1.        , 5.87254233],\n",
       "       [1.        , 5.75907811],\n",
       "       [1.        , 5.68057344],\n",
       "       [1.        , 5.68822412],\n",
       "       [1.        , 5.45713101],\n",
       "       [1.        , 5.47567783],\n",
       "       [1.        , 5.8060253 ],\n",
       "       [1.        , 5.79536776],\n",
       "       [1.        , 5.71387699],\n",
       "       [1.        , 5.43707379],\n",
       "       [1.        , 5.58678814],\n",
       "       [1.        , 5.760201  ],\n",
       "       [1.        , 5.71037335],\n",
       "       [1.        , 5.54749963],\n",
       "       [1.        , 5.62003397],\n",
       "       [1.        , 5.23523352],\n",
       "       [1.        , 5.68569788],\n",
       "       [1.        , 5.74376135],\n",
       "       [1.        , 5.72969562],\n",
       "       [1.        , 5.82108667],\n",
       "       [1.        , 5.70563739],\n",
       "       [1.        , 5.80898538],\n",
       "       [1.        , 5.37072159],\n",
       "       [1.        , 5.75290555],\n",
       "       [1.        , 5.84252598],\n",
       "       [1.        , 5.46066559],\n",
       "       [1.        , 5.47874797],\n",
       "       [1.        , 5.81056367],\n",
       "       [1.        , 5.65882672],\n",
       "       [1.        , 5.51526994],\n",
       "       [1.        , 5.81528579],\n",
       "       [1.        , 5.49844315],\n",
       "       [1.        , 5.65585405],\n",
       "       [1.        , 5.74052726],\n",
       "       [1.        , 5.75634219],\n",
       "       [1.        , 4.96657247],\n",
       "       [1.        , 5.70831619],\n",
       "       [1.        , 5.86970668],\n",
       "       [1.        , 5.76732503],\n",
       "       [1.        , 5.54011948],\n",
       "       [1.        , 5.86318797],\n",
       "       [1.        , 5.59918571],\n",
       "       [1.        , 5.86425247],\n",
       "       [1.        , 4.90143704],\n",
       "       [1.        , 5.63028775],\n",
       "       [1.        , 5.56319007],\n",
       "       [1.        , 5.71780148],\n",
       "       [1.        , 5.40999486],\n",
       "       [1.        , 5.61707425],\n",
       "       [1.        , 5.78872629],\n",
       "       [1.        , 5.61431168],\n",
       "       [1.        , 5.48401111],\n",
       "       [1.        , 5.84480393],\n",
       "       [1.        , 5.54935127],\n",
       "       [1.        , 5.77193634],\n",
       "       [1.        , 5.56902272],\n",
       "       [1.        , 5.81250785],\n",
       "       [1.        , 5.7463271 ],\n",
       "       [1.        , 5.78741425],\n",
       "       [1.        , 5.46663911],\n",
       "       [1.        , 5.74498495],\n",
       "       [1.        , 5.86659887],\n",
       "       [1.        , 5.46897549],\n",
       "       [1.        , 5.65085425],\n",
       "       [1.        , 5.49381178],\n",
       "       [1.        , 5.82428306],\n",
       "       [1.        , 5.45999827],\n",
       "       [1.        , 5.47702894],\n",
       "       [1.        , 5.8513736 ],\n",
       "       [1.        , 5.73787247],\n",
       "       [1.        , 5.6026507 ],\n",
       "       [1.        , 5.69853831],\n",
       "       [1.        , 4.8558785 ],\n",
       "       [1.        , 5.65760705],\n",
       "       [1.        , 5.89122432],\n",
       "       [1.        , 5.47986434],\n",
       "       [1.        , 5.57533013],\n",
       "       [1.        , 5.60328301],\n",
       "       [1.        , 4.97170809],\n",
       "       [1.        , 5.59811289],\n",
       "       [1.        , 5.46666565],\n",
       "       [1.        , 5.84192501],\n",
       "       [1.        , 5.40471517],\n",
       "       [1.        , 5.73193914],\n",
       "       [1.        , 5.86185675],\n",
       "       [1.        , 5.70589999],\n",
       "       [1.        , 5.62691039],\n",
       "       [1.        , 5.49750085],\n",
       "       [1.        , 5.44445861],\n",
       "       [1.        , 5.07443388],\n",
       "       [1.        , 5.39635209],\n",
       "       [1.        , 5.84281373],\n",
       "       [1.        , 5.75924731],\n",
       "       [1.        , 5.68252771],\n",
       "       [1.        , 5.82354403],\n",
       "       [1.        , 5.6935812 ],\n",
       "       [1.        , 5.75179473],\n",
       "       [1.        , 5.66845682],\n",
       "       [1.        , 5.72941587],\n",
       "       [1.        , 5.72149328],\n",
       "       [1.        , 5.21412746],\n",
       "       [1.        , 5.60023188],\n",
       "       [1.        , 5.6149155 ],\n",
       "       [1.        , 5.7187773 ],\n",
       "       [1.        , 5.701384  ],\n",
       "       [1.        , 4.81575811],\n",
       "       [1.        , 5.80796749],\n",
       "       [1.        , 5.55019895],\n",
       "       [1.        , 5.45776697],\n",
       "       [1.        , 5.41994582],\n",
       "       [1.        , 5.7598746 ],\n",
       "       [1.        , 5.54634158],\n",
       "       [1.        , 5.86799727],\n",
       "       [1.        , 5.81499962],\n",
       "       [1.        , 5.32182478],\n",
       "       [1.        , 5.48312359],\n",
       "       [1.        , 5.54200317],\n",
       "       [1.        , 5.59860693],\n",
       "       [1.        , 5.50819099],\n",
       "       [1.        , 5.56707428],\n",
       "       [1.        , 5.78953236],\n",
       "       [1.        , 5.63303771],\n",
       "       [1.        , 5.77373504],\n",
       "       [1.        , 5.61581305],\n",
       "       [1.        , 5.74408668],\n",
       "       [1.        , 5.69287833],\n",
       "       [1.        , 5.88873174],\n",
       "       [1.        , 5.41099374],\n",
       "       [1.        , 5.50500291],\n",
       "       [1.        , 5.54238261],\n",
       "       [1.        , 5.25231841],\n",
       "       [1.        , 5.58390077],\n",
       "       [1.        , 5.77924536],\n",
       "       [1.        , 5.50176372],\n",
       "       [1.        , 5.44116491],\n",
       "       [1.        , 5.53181835],\n",
       "       [1.        , 5.41666054],\n",
       "       [1.        , 5.73050711],\n",
       "       [1.        , 5.64629028],\n",
       "       [1.        , 5.59697984],\n",
       "       [1.        , 5.03392246],\n",
       "       [1.        , 5.70153159],\n",
       "       [1.        , 5.44353363],\n",
       "       [1.        , 5.53112773],\n",
       "       [1.        , 5.68313988],\n",
       "       [1.        , 5.41598453],\n",
       "       [1.        , 5.6344828 ],\n",
       "       [1.        , 5.54305038],\n",
       "       [1.        , 5.42066062],\n",
       "       [1.        , 5.42163239],\n",
       "       [1.        , 5.79434065],\n",
       "       [1.        , 5.83815872],\n",
       "       [1.        , 5.41466667],\n",
       "       [1.        , 5.5578477 ],\n",
       "       [1.        , 5.64280165],\n",
       "       [1.        , 5.8331928 ],\n",
       "       [1.        , 5.67141758],\n",
       "       [1.        , 5.53884896],\n",
       "       [1.        , 5.82908395],\n",
       "       [1.        , 5.68443854],\n",
       "       [1.        , 5.00340696],\n",
       "       [1.        , 5.60437791],\n",
       "       [1.        , 5.54744967],\n",
       "       [1.        , 5.46504839],\n",
       "       [1.        , 5.85549998],\n",
       "       [1.        , 5.88548434],\n",
       "       [1.        , 5.6329343 ],\n",
       "       [1.        , 5.59390624],\n",
       "       [1.        , 5.67290706],\n",
       "       [1.        , 5.50011427],\n",
       "       [1.        , 5.8193467 ],\n",
       "       [1.        , 5.04516854],\n",
       "       [1.        , 4.98607321],\n",
       "       [1.        , 5.49631825],\n",
       "       [1.        , 5.72483247],\n",
       "       [1.        , 5.52725461],\n",
       "       [1.        , 5.55188878],\n",
       "       [1.        , 5.54752247],\n",
       "       [1.        , 5.49699822],\n",
       "       [1.        , 5.00038447],\n",
       "       [1.        , 5.54733408],\n",
       "       [1.        , 5.675099  ],\n",
       "       [1.        , 5.60071712],\n",
       "       [1.        , 5.77900352],\n",
       "       [1.        , 5.62134442],\n",
       "       [1.        , 5.56227077],\n",
       "       [1.        , 5.8635325 ],\n",
       "       [1.        , 5.45994896],\n",
       "       [1.        , 5.89749336],\n",
       "       [1.        , 5.53258392],\n",
       "       [1.        , 5.82007821],\n",
       "       [1.        , 5.83540433],\n",
       "       [1.        , 5.50100097],\n",
       "       [1.        , 5.45068349],\n",
       "       [1.        , 5.89987527],\n",
       "       [1.        , 5.48771406],\n",
       "       [1.        , 5.61705544],\n",
       "       [1.        , 5.86104752],\n",
       "       [1.        , 5.8240294 ],\n",
       "       [1.        , 5.52858878],\n",
       "       [1.        , 5.88481626],\n",
       "       [1.        , 5.39681424],\n",
       "       [1.        , 5.68281055],\n",
       "       [1.        , 5.6176598 ],\n",
       "       [1.        , 5.63315283],\n",
       "       [1.        , 5.50209733],\n",
       "       [1.        , 5.79064131],\n",
       "       [1.        , 5.80124398],\n",
       "       [1.        , 5.48942605],\n",
       "       [1.        , 5.56342475],\n",
       "       [1.        , 5.70798363],\n",
       "       [1.        , 5.78833912],\n",
       "       [1.        , 5.58140506],\n",
       "       [1.        , 5.42472135],\n",
       "       [1.        , 5.62503977],\n",
       "       [1.        , 5.6746378 ],\n",
       "       [1.        , 5.63619754],\n",
       "       [1.        , 5.76714295],\n",
       "       [1.        , 5.4303255 ],\n",
       "       [1.        , 4.92887592],\n",
       "       [1.        , 5.40750203],\n",
       "       [1.        , 5.78158541],\n",
       "       [1.        , 5.55311836],\n",
       "       [1.        , 5.71429351],\n",
       "       [1.        , 5.54884037],\n",
       "       [1.        , 5.63923496],\n",
       "       [1.        , 5.6113116 ],\n",
       "       [1.        , 5.80976882],\n",
       "       [1.        , 5.88763352],\n",
       "       [1.        , 5.77545649],\n",
       "       [1.        , 5.44072409],\n",
       "       [1.        , 5.63367935],\n",
       "       [1.        , 5.4244351 ],\n",
       "       [1.        , 5.61986622],\n",
       "       [1.        , 5.59155608],\n",
       "       [1.        , 5.71829167],\n",
       "       [1.        , 5.87848293],\n",
       "       [1.        , 5.75356528],\n",
       "       [1.        , 5.49975356],\n",
       "       [1.        , 5.848109  ],\n",
       "       [1.        , 5.72537985],\n",
       "       [1.        , 5.5495772 ],\n",
       "       [1.        , 5.77686784],\n",
       "       [1.        , 5.70565019],\n",
       "       [1.        , 5.52999148],\n",
       "       [1.        , 5.40074009],\n",
       "       [1.        , 5.81073932],\n",
       "       [1.        , 5.69846978],\n",
       "       [1.        , 5.84167478],\n",
       "       [1.        , 5.4458471 ],\n",
       "       [1.        , 5.67317445],\n",
       "       [1.        , 5.50912151],\n",
       "       [1.        , 5.58633578],\n",
       "       [1.        , 5.32163948],\n",
       "       [1.        , 5.4922294 ],\n",
       "       [1.        , 5.63680528],\n",
       "       [1.        , 5.19526083],\n",
       "       [1.        , 5.82980138],\n",
       "       [1.        , 5.69158252],\n",
       "       [1.        , 5.49274076],\n",
       "       [1.        , 5.73158517],\n",
       "       [1.        , 5.69711638],\n",
       "       [1.        , 5.18444811],\n",
       "       [1.        , 4.80080439],\n",
       "       [1.        , 5.66305367],\n",
       "       [1.        , 5.86498624],\n",
       "       [1.        , 5.76299297],\n",
       "       [1.        , 5.47479952],\n",
       "       [1.        , 5.58453026],\n",
       "       [1.        , 5.85276372],\n",
       "       [1.        , 5.65789065]])"
      ]
     },
     "execution_count": 138,
     "metadata": {},
     "output_type": "execute_result"
    }
   ],
   "source": [
    "adult_h"
   ]
  },
  {
   "cell_type": "code",
   "execution_count": 139,
   "metadata": {},
   "outputs": [
    {
     "data": {
      "text/plain": [
       "(array([ 30., 349.]),\n",
       " array([4.80080439, 5.35033983, 5.89987527]),\n",
       " <a list of 2 Patch objects>)"
      ]
     },
     "execution_count": 139,
     "metadata": {},
     "output_type": "execute_result"
    },
    {
     "data": {
      "image/png": "[encoded data removed]",
      "text/plain": [
       "<Figure size 432x288 with 1 Axes>"
      ]
     },
     "metadata": {
      "needs_background": "light"
     },
     "output_type": "display_data"
    }
   ],
   "source": [
    "plt.hist(adult_h[:,1],bins = 2)\n"
   ]
  },
  {
   "cell_type": "code",
   "execution_count": 145,
   "metadata": {},
   "outputs": [],
   "source": [
    "def agent_action(obs,pkid):\n",
    "    \n",
    "    pkid_bayes = 1 * pkid\n",
    "    \n",
    "#     choice = np.random.choice([0,1],1,p=[0.1,0.9])\n",
    "    \n",
    "    if(obs < 5.4):\n",
    "        padult_bayes = 0.2 * (1-pkid)\n",
    "    else:\n",
    "        padult_bayes = 1.8 * (1-pkid)\n",
    "    \n",
    "    if(padult_bayes > pkid_bayes):\n",
    "        return 1\n",
    "    else:\n",
    "        return 0\n",
    "    "
   ]
  },
  {
   "cell_type": "code",
   "execution_count": 151,
   "metadata": {},
   "outputs": [],
   "source": [
    "loss = 0\n",
    "\n",
    "for q in range(100):\n",
    "    for t in ans:\n",
    "        action = agent_action(t[1],pkid)\n",
    "        if(t[0] != action):\n",
    "            loss += 1\n",
    "    "
   ]
  },
  {
   "cell_type": "code",
   "execution_count": 152,
   "metadata": {},
   "outputs": [
    {
     "data": {
      "text/plain": [
       "350.0"
      ]
     },
     "execution_count": 152,
     "metadata": {},
     "output_type": "execute_result"
    }
   ],
   "source": [
    "loss/100"
   ]
  },
  {
   "cell_type": "code",
   "execution_count": 204,
   "metadata": {},
   "outputs": [],
   "source": [
    "mean1 = 5.4\n",
    "var1 = 0.084\n",
    "\n",
    "mean2 = 5.6\n",
    "var2 = 0.043\n",
    "\n",
    "\n",
    "\n",
    "def village_2(pkid):\n",
    "    choice = np.random.choice([0,1],1,p=[pkid,1-pkid])\n",
    "    \n",
    "    if(choice == 0):\n",
    "        height = np.random.normal(mean1,var1,1)\n",
    "    else:\n",
    "        height = np.random.normal(mean2,var2,1)\n",
    "        \n",
    "    \n",
    "    return np.hstack([choice,height])"
   ]
  },
  {
   "cell_type": "code",
   "execution_count": 205,
   "metadata": {},
   "outputs": [],
   "source": [
    "ans2 = village_2(pkid)\n",
    "\n",
    "for t in range(999):\n",
    "    \n",
    "    ans2 = np.vstack([ans2,village_2(pkid)])"
   ]
  },
  {
   "cell_type": "code",
   "execution_count": 179,
   "metadata": {},
   "outputs": [
    {
     "data": {
      "text/plain": [
       "(array([611.,   0.,   0.,   0.,   0.,   0.,   0.,   0.,   0., 389.]),\n",
       " array([0. , 0.1, 0.2, 0.3, 0.4, 0.5, 0.6, 0.7, 0.8, 0.9, 1. ]),\n",
       " <a list of 10 Patch objects>)"
      ]
     },
     "execution_count": 179,
     "metadata": {},
     "output_type": "execute_result"
    },
    {
     "data": {
      "image/png": "[encoded data removed]",
      "text/plain": [
       "<Figure size 432x288 with 1 Axes>"
      ]
     },
     "metadata": {
      "needs_background": "light"
     },
     "output_type": "display_data"
    }
   ],
   "source": [
    "plt.hist(ans2[:,0])"
   ]
  },
  {
   "cell_type": "code",
   "execution_count": 180,
   "metadata": {},
   "outputs": [
    {
     "data": {
      "text/plain": [
       "(array([  4.,  18.,  74., 125., 184., 125., 104., 217., 130.,  19.]),\n",
       " array([5.12470939, 5.18583736, 5.24696532, 5.30809329, 5.36922125,\n",
       "        5.43034922, 5.49147718, 5.55260514, 5.61373311, 5.67486107,\n",
       "        5.73598904]),\n",
       " <a list of 10 Patch objects>)"
      ]
     },
     "execution_count": 180,
     "metadata": {},
     "output_type": "execute_result"
    },
    {
     "data": {
      "image/png": "[encoded data removed]",
      "text/plain": [
       "<Figure size 432x288 with 1 Axes>"
      ]
     },
     "metadata": {
      "needs_background": "light"
     },
     "output_type": "display_data"
    }
   ],
   "source": [
    "plt.hist(ans2[:,1])"
   ]
  },
  {
   "cell_type": "code",
   "execution_count": null,
   "metadata": {},
   "outputs": [],
   "source": []
  },
  {
   "cell_type": "code",
   "execution_count": 181,
   "metadata": {},
   "outputs": [],
   "source": [
    "ind_kids = np.where(0==ans2[:,0])[0]"
   ]
  },
  {
   "cell_type": "code",
   "execution_count": 182,
   "metadata": {},
   "outputs": [],
   "source": [
    "kids_h = ans2[ind_kids][:,1]"
   ]
  },
  {
   "cell_type": "code",
   "execution_count": 183,
   "metadata": {},
   "outputs": [
    {
     "data": {
      "text/plain": [
       "(array([  4.,  10.,  43.,  96., 126., 164.,  93.,  51.,  22.,   2.]),\n",
       " array([5.12470939, 5.17814773, 5.23158607, 5.2850244 , 5.33846274,\n",
       "        5.39190107, 5.44533941, 5.49877774, 5.55221608, 5.60565441,\n",
       "        5.65909275]),\n",
       " <a list of 10 Patch objects>)"
      ]
     },
     "execution_count": 183,
     "metadata": {},
     "output_type": "execute_result"
    },
    {
     "data": {
      "image/png": "[encoded data removed]",
      "text/plain": [
       "<Figure size 432x288 with 1 Axes>"
      ]
     },
     "metadata": {
      "needs_background": "light"
     },
     "output_type": "display_data"
    }
   ],
   "source": [
    "plt.hist(kids_h)"
   ]
  },
  {
   "cell_type": "code",
   "execution_count": 184,
   "metadata": {},
   "outputs": [],
   "source": [
    "ind_ad = np.where(1==ans2[:,0])[0]"
   ]
  },
  {
   "cell_type": "code",
   "execution_count": 185,
   "metadata": {},
   "outputs": [],
   "source": [
    "adults_h = ans2[ind_ad][:,1]"
   ]
  },
  {
   "cell_type": "code",
   "execution_count": 192,
   "metadata": {},
   "outputs": [
    {
     "data": {
      "text/plain": [
       "(array([ 6., 18., 42., 89., 76., 83., 43., 18., 11.,  3.]),\n",
       " array([5.48598045, 5.51098131, 5.53598216, 5.56098302, 5.58598388,\n",
       "        5.61098474, 5.6359856 , 5.66098646, 5.68598732, 5.71098818,\n",
       "        5.73598904]),\n",
       " <a list of 10 Patch objects>)"
      ]
     },
     "execution_count": 192,
     "metadata": {},
     "output_type": "execute_result"
    },
    {
     "data": {
      "image/png": "[encoded data removed]",
      "text/plain": [
       "<Figure size 432x288 with 1 Axes>"
      ]
     },
     "metadata": {
      "needs_background": "light"
     },
     "output_type": "display_data"
    }
   ],
   "source": [
    "plt.hist(adults_h,bins=10)"
   ]
  },
  {
   "cell_type": "code",
   "execution_count": 201,
   "metadata": {},
   "outputs": [],
   "source": [
    "def agent_act(pkid,obs):\n",
    "    \n",
    "    kid_choice = (1/(np.sqrt(2*np.pi)*var1)) * np.exp((-1/2)*np.square((obs - mean1)/var1)) \n",
    "    adult_choice = (1/(np.sqrt(2*np.pi)*var2)) * np.exp((-1/2)*np.square((obs - mean2)/var2))\n",
    "    \n",
    "    kid_choice *= pkid\n",
    "    adult_choice *= (1-pkid)\n",
    "    \n",
    "    if(kid_choice > adult_choice):\n",
    "        return 0\n",
    "    else:\n",
    "        return 1\n",
    "    "
   ]
  },
  {
   "cell_type": "code",
   "execution_count": 206,
   "metadata": {},
   "outputs": [],
   "source": [
    "loss = 0\n",
    "for t in ans2:\n",
    "    \n",
    "    action = agent_act(pkid,t[1])\n",
    "    \n",
    "    if(action != t[0]):\n",
    "        loss += 1\n",
    "        \n",
    "        \n",
    "        \n",
    "    \n"
   ]
  },
  {
   "cell_type": "code",
   "execution_count": 207,
   "metadata": {},
   "outputs": [
    {
     "data": {
      "text/plain": [
       "59"
      ]
     },
     "execution_count": 207,
     "metadata": {},
     "output_type": "execute_result"
    }
   ],
   "source": [
    "loss"
   ]
  }
 ],
 "metadata": {
  "kernelspec": {
   "display_name": "Python 3",
   "language": "python",
   "name": "python3"
  },
  "language_info": {
   "codemirror_mode": {
    "name": "ipython",
    "version": 3
   },
   "file_extension": ".py",
   "mimetype": "text/x-python",
   "name": "python",
   "nbconvert_exporter": "python",
   "pygments_lexer": "ipython3",
   "version": "3.7.4"
  }
 },
 "nbformat": 4,
 "nbformat_minor": 2
}
