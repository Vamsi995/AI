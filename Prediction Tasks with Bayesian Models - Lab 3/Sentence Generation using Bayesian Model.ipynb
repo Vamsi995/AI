{
 "cells": [
  {
   "cell_type": "code",
   "execution_count": 2,
   "metadata": {},
   "outputs": [],
   "source": [
    "import numpy as np"
   ]
  },
  {
   "cell_type": "code",
   "execution_count": 2,
   "metadata": {},
   "outputs": [
    {
     "data": {
      "text/plain": [
       "array(['vamsi'], dtype='<U5')"
      ]
     },
     "execution_count": 2,
     "metadata": {},
     "output_type": "execute_result"
    }
   ],
   "source": [
    "np.array(['vamsi'])"
   ]
  },
  {
   "cell_type": "code",
   "execution_count": 4,
   "metadata": {},
   "outputs": [
    {
     "data": {
      "text/plain": [
       "array(['vamsi'], dtype='<U5')"
      ]
     },
     "execution_count": 4,
     "metadata": {},
     "output_type": "execute_result"
    }
   ],
   "source": [
    "np.array(['vamsi'],dtype=str)"
   ]
  },
  {
   "cell_type": "code",
   "execution_count": 35,
   "metadata": {},
   "outputs": [
    {
     "name": "stderr",
     "output_type": "stream",
     "text": [
      "D:\\Work\\Anaconda\\lib\\site-packages\\ipykernel_launcher.py:1: ConversionWarning: Some errors were detected !\n",
      "    Line #2 (got 63 columns instead of 24)\n",
      "    Line #3 (got 43 columns instead of 24)\n",
      "    Line #4 (got 50 columns instead of 24)\n",
      "    Line #5 (got 41 columns instead of 24)\n",
      "    Line #6 (got 27 columns instead of 24)\n",
      "  \"\"\"Entry point for launching an IPython kernel.\n"
     ]
    }
   ],
   "source": [
    "arr = np.genfromtxt('speeches.txt',dtype=str,autostrip=True,invalid_raise = False,max_rows = 100)"
   ]
  },
  {
   "cell_type": "code",
   "execution_count": 36,
   "metadata": {},
   "outputs": [
    {
     "data": {
      "text/plain": [
       "24"
      ]
     },
     "execution_count": 36,
     "metadata": {},
     "output_type": "execute_result"
    }
   ],
   "source": [
    "len(arr)"
   ]
  },
  {
   "cell_type": "code",
   "execution_count": 1,
   "metadata": {},
   "outputs": [],
   "source": [
    "x = ['this','is','it']"
   ]
  },
  {
   "cell_type": "code",
   "execution_count": 4,
   "metadata": {},
   "outputs": [
    {
     "data": {
      "text/plain": [
       "array(['this', 'is', 'it'], dtype='<U4')"
      ]
     },
     "execution_count": 4,
     "metadata": {},
     "output_type": "execute_result"
    }
   ],
   "source": [
    "np.array(x)"
   ]
  },
  {
   "cell_type": "code",
   "execution_count": 47,
   "metadata": {},
   "outputs": [],
   "source": [
    "file = open('speeches.txt','r')"
   ]
  },
  {
   "cell_type": "code",
   "execution_count": 48,
   "metadata": {},
   "outputs": [
    {
     "data": {
      "text/plain": [
       "'* Valid only at participating locations; while supplies last; batteries not included; objects in mirror may be closer than they appear; other necessary disclaimers. \\n'"
      ]
     },
     "execution_count": 48,
     "metadata": {},
     "output_type": "execute_result"
    }
   ],
   "source": [
    "file.readline()"
   ]
  },
  {
   "cell_type": "code",
   "execution_count": 49,
   "metadata": {},
   "outputs": [],
   "source": [
    "s = file.read()"
   ]
  },
  {
   "cell_type": "code",
   "execution_count": 50,
   "metadata": {},
   "outputs": [
    {
     "data": {
      "text/plain": [
       "'Inspired by Mark Obmascik\\'s nonfiction book, David Frankel\\'s film observes the migratory patterns of three breeds of birders. Do they criss-cross the country from Alaska\\'s Aleutians to Florida\\'s Everglades because they feel trapped by their lives? Or because by observing avian life they better understand humans? Yes and maybe, suggests this gently eccentric film from Frankel (The Devil Wears Prada, Marley & Me).\\nParker frames her tale as a love story between her great-aunt Mary and her husband, Thomas Henry Davison. She spices the story with an intriguing family heirloom -- the skirt Davison wore as she climbed into the lifeboat that took her to safety.\\nThey might have been tempted to quit when Andy Pettitte brushed back the government\\'s case against Roger Clemens with a high, hard one out of nowhere. Could have just bagged it all about the time one juror fell asleep, and another wondered just what Clemens was on trial for anyway.\\nCassady, the inspiration for Dean Moriarty in Jack Kerouac\\'s On the Road, comes off as especially manic. It\\'s actually scary to think that this motormouth beatnik was behind the wheel for most of the trip - the Merry Pranksters\\' designated driver!\\n\"I think we\\'d like to rest in a place outside of China,\" Chen said, appealing again for help from Washington. \"Help my family and me leave safely.\"'"
      ]
     },
     "execution_count": 50,
     "metadata": {},
     "output_type": "execute_result"
    }
   ],
   "source": [
    "s\n"
   ]
  },
  {
   "cell_type": "code",
   "execution_count": 51,
   "metadata": {},
   "outputs": [],
   "source": [
    "file.close()"
   ]
  },
  {
   "cell_type": "code",
   "execution_count": 52,
   "metadata": {},
   "outputs": [
    {
     "data": {
      "text/plain": [
       "'Inspired by Mark Obmascik\\'s nonfiction book, David Frankel\\'s film observes the migratory patterns of three breeds of birders. Do they criss-cross the country from Alaska\\'s Aleutians to Florida\\'s Everglades because they feel trapped by their lives? Or because by observing avian life they better understand humans? Yes and maybe, suggests this gently eccentric film from Frankel (The Devil Wears Prada, Marley & Me).\\nParker frames her tale as a love story between her great-aunt Mary and her husband, Thomas Henry Davison. She spices the story with an intriguing family heirloom -- the skirt Davison wore as she climbed into the lifeboat that took her to safety.\\nThey might have been tempted to quit when Andy Pettitte brushed back the government\\'s case against Roger Clemens with a high, hard one out of nowhere. Could have just bagged it all about the time one juror fell asleep, and another wondered just what Clemens was on trial for anyway.\\nCassady, the inspiration for Dean Moriarty in Jack Kerouac\\'s On the Road, comes off as especially manic. It\\'s actually scary to think that this motormouth beatnik was behind the wheel for most of the trip - the Merry Pranksters\\' designated driver!\\n\"I think we\\'d like to rest in a place outside of China,\" Chen said, appealing again for help from Washington. \"Help my family and me leave safely.\"'"
      ]
     },
     "execution_count": 52,
     "metadata": {},
     "output_type": "execute_result"
    }
   ],
   "source": [
    "s"
   ]
  },
  {
   "cell_type": "code",
   "execution_count": 66,
   "metadata": {},
   "outputs": [],
   "source": [
    "tobe = [';','.' , '\\\\' , '\\n','\\\"','-','?','(',')','!','*','&','']"
   ]
  },
  {
   "cell_type": "code",
   "execution_count": 67,
   "metadata": {},
   "outputs": [
    {
     "data": {
      "text/plain": [
       "[';', '.', '\\\\', '\\n', '\"', '-', '?', '(', ')', '!', '*', '&', '']"
      ]
     },
     "execution_count": 67,
     "metadata": {},
     "output_type": "execute_result"
    }
   ],
   "source": [
    "tobe"
   ]
  },
  {
   "cell_type": "code",
   "execution_count": 56,
   "metadata": {},
   "outputs": [],
   "source": [
    "s = s.strip()"
   ]
  },
  {
   "cell_type": "code",
   "execution_count": 57,
   "metadata": {},
   "outputs": [],
   "source": [
    "arr = s.split(' ')"
   ]
  },
  {
   "cell_type": "code",
   "execution_count": 58,
   "metadata": {},
   "outputs": [],
   "source": [
    "mystr = s"
   ]
  },
  {
   "cell_type": "code",
   "execution_count": 41,
   "metadata": {},
   "outputs": [],
   "source": [
    "unique_elements, counts_elements = np.unique(arr, return_counts=True)"
   ]
  },
  {
   "cell_type": "code",
   "execution_count": 42,
   "metadata": {},
   "outputs": [
    {
     "data": {
      "text/plain": [
       "array(['', \"Alaska's\", 'Aleutians', 'Andy', 'Chen', 'China,', 'Clemens',\n",
       "       'Could', 'David', 'Davison', 'Dean', 'Devil', 'Do', 'Everglades',\n",
       "       \"Florida's\", 'Frankel', \"Frankel's\", 'Help', 'Henry', 'Inspired',\n",
       "       \"It's\", 'Jack', \"Kerouac's\", 'Mark', 'Marley', 'Mary', 'MeParker',\n",
       "       'Merry', 'Moriarty', \"Obmascik's\", 'On', 'Or', 'Pettitte',\n",
       "       'Prada,', \"Pranksters'\", 'Road,', 'Roger', 'She', 'The', 'Thomas',\n",
       "       'Washington', 'Wears', 'Yes', 'a', 'about', 'actually', 'again',\n",
       "       'against', 'all', 'an', 'and', 'another', 'anywayCassady,',\n",
       "       'appealing', 'as', 'asleep,', 'avian', 'back', 'bagged', 'beatnik',\n",
       "       'because', 'been', 'behind', 'better', 'between', 'birders',\n",
       "       'book,', 'breeds', 'brushed', 'by', 'case', 'climbed', 'comes',\n",
       "       'country', 'crisscross', 'designated', 'driverI', 'eccentric',\n",
       "       'especially', 'family', 'feel', 'fell', 'film', 'for', 'frames',\n",
       "       'from', 'gently', \"government's\", 'greataunt', 'hard', 'have',\n",
       "       'heirloom', 'help', 'her', 'high,', 'humans', 'husband,', 'in',\n",
       "       'inspiration', 'into', 'intriguing', 'it', 'juror', 'just',\n",
       "       'leave', 'life', 'lifeboat', 'like', 'lives', 'love', 'manic',\n",
       "       'maybe,', 'me', 'might', 'migratory', 'most', 'motormouth', 'my',\n",
       "       'nonfiction', 'nowhere', 'observes', 'observing', 'of', 'off',\n",
       "       'on', 'one', 'out', 'outside', 'patterns', 'place', 'quit', 'rest',\n",
       "       'safely', 'safetyThey', 'said,', 'scary', 'she', 'skirt', 'spices',\n",
       "       'story', 'suggests', 'tale', 'tempted', 'that', 'the', 'their',\n",
       "       'they', 'think', 'this', 'three', 'time', 'to', 'took', 'trapped',\n",
       "       'trial', 'trip', 'understand', 'was', \"we'd\", 'what', 'wheel',\n",
       "       'when', 'with', 'wondered', 'wore'], dtype='<U14')"
      ]
     },
     "execution_count": 42,
     "metadata": {},
     "output_type": "execute_result"
    }
   ],
   "source": [
    "unique_elements"
   ]
  },
  {
   "cell_type": "code",
   "execution_count": 43,
   "metadata": {},
   "outputs": [
    {
     "data": {
      "text/plain": [
       "array([ 3,  1,  1,  1,  1,  1,  2,  1,  1,  2,  1,  1,  1,  1,  1,  1,  1,\n",
       "        1,  1,  1,  1,  1,  1,  1,  1,  1,  1,  1,  1,  1,  1,  1,  1,  1,\n",
       "        1,  1,  1,  1,  1,  1,  1,  1,  1,  3,  1,  1,  1,  1,  1,  1,  4,\n",
       "        1,  1,  1,  3,  1,  1,  1,  1,  1,  2,  1,  1,  1,  1,  1,  1,  1,\n",
       "        1,  3,  1,  1,  1,  1,  1,  1,  1,  1,  1,  2,  1,  1,  2,  4,  1,\n",
       "        3,  1,  1,  1,  1,  2,  1,  1,  4,  1,  1,  1,  2,  1,  1,  1,  1,\n",
       "        1,  2,  1,  1,  1,  1,  1,  1,  1,  1,  1,  1,  1,  1,  1,  1,  1,\n",
       "        1,  1,  1,  5,  1,  1,  2,  1,  1,  1,  1,  1,  1,  1,  1,  1,  1,\n",
       "        1,  1,  1,  2,  1,  1,  1,  2, 12,  1,  3,  2,  2,  1,  1,  5,  1,\n",
       "        1,  1,  1,  1,  2,  1,  1,  1,  1,  2,  1,  1], dtype=int64)"
      ]
     },
     "execution_count": 43,
     "metadata": {},
     "output_type": "execute_result"
    }
   ],
   "source": [
    "counts_elements"
   ]
  },
  {
   "cell_type": "code",
   "execution_count": 70,
   "metadata": {},
   "outputs": [],
   "source": [
    "file = open('speeches.txt','r')"
   ]
  },
  {
   "cell_type": "code",
   "execution_count": 71,
   "metadata": {},
   "outputs": [],
   "source": [
    "mystr = file.read()"
   ]
  },
  {
   "cell_type": "code",
   "execution_count": 72,
   "metadata": {},
   "outputs": [],
   "source": [
    "for x in tobe:\n",
    "   mystr = mystr.replace(x,'')"
   ]
  },
  {
   "cell_type": "code",
   "execution_count": 73,
   "metadata": {},
   "outputs": [],
   "source": [
    "mystr = mystr.split(' ')"
   ]
  },
  {
   "cell_type": "code",
   "execution_count": 74,
   "metadata": {},
   "outputs": [],
   "source": [
    "mystr = np.array(mystr)"
   ]
  },
  {
   "cell_type": "code",
   "execution_count": 75,
   "metadata": {},
   "outputs": [],
   "source": [
    "uniq , count = np.unique(mystr,return_counts=True)"
   ]
  },
  {
   "cell_type": "code",
   "execution_count": 76,
   "metadata": {},
   "outputs": [
    {
     "data": {
      "text/plain": [
       "array(['', \"Alaska's\", 'Aleutians', 'Andy', 'Chen', 'China,', 'Clemens',\n",
       "       'Could', 'David', 'Davison', 'Dean', 'Devil', 'Do', 'Everglades',\n",
       "       \"Florida's\", 'Frankel', \"Frankel's\", 'Help', 'Henry', 'Inspired',\n",
       "       \"It's\", 'Jack', \"Kerouac's\", 'Mark', 'Marley', 'Mary', 'MeParker',\n",
       "       'Merry', 'Moriarty', \"Obmascik's\", 'On', 'Or', 'Pettitte',\n",
       "       'Prada,', \"Pranksters'\", 'Road,', 'Roger', 'She', 'The', 'Thomas',\n",
       "       'Valid', 'Washington', 'Wears', 'Yes', 'a', 'about', 'actually',\n",
       "       'again', 'against', 'all', 'an', 'and', 'another',\n",
       "       'anywayCassady,', 'appealing', 'appear', 'as', 'asleep,', 'at',\n",
       "       'avian', 'back', 'bagged', 'batteries', 'be', 'beatnik', 'because',\n",
       "       'been', 'behind', 'better', 'between', 'birders', 'book,',\n",
       "       'breeds', 'brushed', 'by', 'case', 'climbed', 'closer', 'comes',\n",
       "       'country', 'crisscross', 'designated', 'disclaimers', 'driverI',\n",
       "       'eccentric', 'especially', 'family', 'feel', 'fell', 'film', 'for',\n",
       "       'frames', 'from', 'gently', \"government's\", 'greataunt', 'hard',\n",
       "       'have', 'heirloom', 'help', 'her', 'high,', 'humans', 'husband,',\n",
       "       'in', 'included', 'inspiration', 'into', 'intriguing', 'it',\n",
       "       'juror', 'just', 'last', 'leave', 'life', 'lifeboat', 'like',\n",
       "       'lives', 'locations', 'love', 'manic', 'may', 'maybe,', 'me',\n",
       "       'might', 'migratory', 'mirror', 'most', 'motormouth', 'my',\n",
       "       'necessary', 'nonfiction', 'not', 'nowhere', 'objects', 'observes',\n",
       "       'observing', 'of', 'off', 'on', 'one', 'only', 'other', 'out',\n",
       "       'outside', 'participating', 'patterns', 'place', 'quit', 'rest',\n",
       "       'safely', 'safetyThey', 'said,', 'scary', 'she', 'skirt', 'spices',\n",
       "       'story', 'suggests', 'supplies', 'tale', 'tempted', 'than', 'that',\n",
       "       'the', 'their', 'they', 'think', 'this', 'three', 'time', 'to',\n",
       "       'took', 'trapped', 'trial', 'trip', 'understand', 'was', \"we'd\",\n",
       "       'what', 'wheel', 'when', 'while', 'with', 'wondered', 'wore'],\n",
       "      dtype='<U14')"
      ]
     },
     "execution_count": 76,
     "metadata": {},
     "output_type": "execute_result"
    }
   ],
   "source": [
    "uniq"
   ]
  },
  {
   "cell_type": "code",
   "execution_count": 77,
   "metadata": {},
   "outputs": [
    {
     "data": {
      "text/plain": [
       "array([ 4,  1,  1,  1,  1,  1,  2,  1,  1,  2,  1,  1,  1,  1,  1,  1,  1,\n",
       "        1,  1,  1,  1,  1,  1,  1,  1,  1,  1,  1,  1,  1,  1,  1,  1,  1,\n",
       "        1,  1,  1,  1,  1,  1,  1,  1,  1,  1,  3,  1,  1,  1,  1,  1,  1,\n",
       "        4,  1,  1,  1,  1,  3,  1,  1,  1,  1,  1,  1,  1,  1,  2,  1,  1,\n",
       "        1,  1,  1,  1,  1,  1,  3,  1,  1,  1,  1,  1,  1,  1,  1,  1,  1,\n",
       "        1,  2,  1,  1,  2,  4,  1,  3,  1,  1,  1,  1,  2,  1,  1,  4,  1,\n",
       "        1,  1,  3,  1,  1,  1,  1,  1,  1,  2,  1,  1,  1,  1,  1,  1,  1,\n",
       "        1,  1,  1,  1,  1,  1,  1,  1,  1,  1,  1,  1,  1,  1,  1,  1,  1,\n",
       "        1,  5,  1,  1,  2,  1,  1,  1,  1,  1,  1,  1,  1,  1,  1,  1,  1,\n",
       "        1,  1,  1,  1,  2,  1,  1,  1,  1,  1,  2, 12,  1,  4,  2,  2,  1,\n",
       "        1,  5,  1,  1,  1,  1,  1,  2,  1,  1,  1,  1,  1,  2,  1,  1],\n",
       "      dtype=int64)"
      ]
     },
     "execution_count": 77,
     "metadata": {},
     "output_type": "execute_result"
    }
   ],
   "source": [
    "count"
   ]
  },
  {
   "cell_type": "code",
   "execution_count": 78,
   "metadata": {},
   "outputs": [],
   "source": [
    "matrix = np.zeros((len(uniq),len(uniq)))"
   ]
  },
  {
   "cell_type": "code",
   "execution_count": 79,
   "metadata": {},
   "outputs": [
    {
     "data": {
      "text/plain": [
       "array([[0., 0., 0., ..., 0., 0., 0.],\n",
       "       [0., 0., 0., ..., 0., 0., 0.],\n",
       "       [0., 0., 0., ..., 0., 0., 0.],\n",
       "       ...,\n",
       "       [0., 0., 0., ..., 0., 0., 0.],\n",
       "       [0., 0., 0., ..., 0., 0., 0.],\n",
       "       [0., 0., 0., ..., 0., 0., 0.]])"
      ]
     },
     "execution_count": 79,
     "metadata": {},
     "output_type": "execute_result"
    }
   ],
   "source": [
    "matrix"
   ]
  },
  {
   "cell_type": "code",
   "execution_count": 80,
   "metadata": {},
   "outputs": [],
   "source": [
    "def feedProb(mystr,i,j,uniq,count):\n",
    "    j_count = 0\n",
    "    target = uniq[j]\n",
    "#     print(uniq[7])\n",
    "    \n",
    "    x = np.where(uniq[i] == mystr)\n",
    "\n",
    "    x = np.array(x)\n",
    "    x = x.flatten()\n",
    "    x += 1\n",
    "    mask = x <= len(mystr) - 1\n",
    "    x = x[mask]\n",
    "\n",
    "    if x.size != 0:\n",
    "        tar = target == mystr[x]\n",
    "    \n",
    "    else:\n",
    "        tar = np.array([])\n",
    "    k = tar == True    \n",
    "   \n",
    "    for z in k:\n",
    "        if(z == True):\n",
    "            j_count += 1\n",
    "    \n",
    "\n",
    "\n",
    "    return j_count / count[i]\n",
    "#     return "
   ]
  },
  {
   "cell_type": "code",
   "execution_count": 81,
   "metadata": {},
   "outputs": [],
   "source": [
    "def createMatrix(matrix,uniq,count,mystr):\n",
    "    for r in range(len(uniq)):\n",
    "        for k in range(len(uniq)):\n",
    "            matrix[r,k] = feedProb(mystr,r,k,uniq,count)\n",
    "    return matrix"
   ]
  },
  {
   "cell_type": "code",
   "execution_count": 82,
   "metadata": {},
   "outputs": [
    {
     "data": {
      "text/plain": [
       "array([[0., 0., 0., ..., 0., 0., 0.],\n",
       "       [0., 0., 1., ..., 0., 0., 0.],\n",
       "       [0., 0., 0., ..., 0., 0., 0.],\n",
       "       ...,\n",
       "       [0., 0., 0., ..., 0., 0., 0.],\n",
       "       [0., 0., 0., ..., 0., 0., 0.],\n",
       "       [0., 0., 0., ..., 0., 0., 0.]])"
      ]
     },
     "execution_count": 82,
     "metadata": {},
     "output_type": "execute_result"
    }
   ],
   "source": [
    "createMatrix(matrix,uniq,count,mystr)"
   ]
  },
  {
   "cell_type": "code",
   "execution_count": 14,
   "metadata": {},
   "outputs": [
    {
     "data": {
      "text/plain": [
       "3"
      ]
     },
     "execution_count": 14,
     "metadata": {},
     "output_type": "execute_result"
    }
   ],
   "source": [
    "len(uniq)"
   ]
  },
  {
   "cell_type": "code",
   "execution_count": 86,
   "metadata": {},
   "outputs": [
    {
     "name": "stdout",
     "output_type": "stream",
     "text": [
      "['the']\n",
      "['Aleutians']\n",
      "['to']\n",
      "['Pettitte']\n",
      "['said,']\n",
      "['Chen']\n",
      "['was']\n",
      "['have']\n",
      "[\"Frankel's\"]\n",
      "['wore']\n",
      "['Moriarty']\n",
      "['Wears']\n",
      "['they']\n",
      "['because']\n",
      "['Everglades']\n"
     ]
    }
   ],
   "source": [
    "for i in range(15):\n",
    "    print(np.random.choice(uniq,1,p=matrix[i,:]))"
   ]
  },
  {
   "cell_type": "code",
   "execution_count": null,
   "metadata": {},
   "outputs": [],
   "source": []
  }
 ],
 "metadata": {
  "kernelspec": {
   "display_name": "Python 3",
   "language": "python",
   "name": "python3"
  },
  "language_info": {
   "codemirror_mode": {
    "name": "ipython",
    "version": 3
   },
   "file_extension": ".py",
   "mimetype": "text/x-python",
   "name": "python",
   "nbconvert_exporter": "python",
   "pygments_lexer": "ipython3",
   "version": "3.7.4"
  }
 },
 "nbformat": 4,
 "nbformat_minor": 2
}
