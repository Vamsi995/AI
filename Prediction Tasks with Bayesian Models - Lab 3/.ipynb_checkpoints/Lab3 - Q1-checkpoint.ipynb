{
 "cells": [
  {
   "cell_type": "code",
   "execution_count": 1,
   "metadata": {},
   "outputs": [],
   "source": [
    "import numpy as np"
   ]
  },
  {
   "cell_type": "code",
   "execution_count": 2,
   "metadata": {},
   "outputs": [
    {
     "data": {
      "text/plain": [
       "array(['vamsi'], dtype='<U5')"
      ]
     },
     "execution_count": 2,
     "metadata": {},
     "output_type": "execute_result"
    }
   ],
   "source": [
    "np.array(['vamsi'])"
   ]
  },
  {
   "cell_type": "code",
   "execution_count": 4,
   "metadata": {},
   "outputs": [
    {
     "data": {
      "text/plain": [
       "array(['vamsi'], dtype='<U5')"
      ]
     },
     "execution_count": 4,
     "metadata": {},
     "output_type": "execute_result"
    }
   ],
   "source": [
    "np.array(['vamsi'],dtype=str)"
   ]
  },
  {
   "cell_type": "code",
   "execution_count": 35,
   "metadata": {},
   "outputs": [
    {
     "name": "stderr",
     "output_type": "stream",
     "text": [
      "D:\\Work\\Anaconda\\lib\\site-packages\\ipykernel_launcher.py:1: ConversionWarning: Some errors were detected !\n",
      "    Line #2 (got 63 columns instead of 24)\n",
      "    Line #3 (got 43 columns instead of 24)\n",
      "    Line #4 (got 50 columns instead of 24)\n",
      "    Line #5 (got 41 columns instead of 24)\n",
      "    Line #6 (got 27 columns instead of 24)\n",
      "  \"\"\"Entry point for launching an IPython kernel.\n"
     ]
    }
   ],
   "source": [
    "arr = np.genfromtxt('speeches.txt',dtype=str,autostrip=True,invalid_raise = False,max_rows = 100)"
   ]
  },
  {
   "cell_type": "code",
   "execution_count": 36,
   "metadata": {},
   "outputs": [
    {
     "data": {
      "text/plain": [
       "24"
      ]
     },
     "execution_count": 36,
     "metadata": {},
     "output_type": "execute_result"
    }
   ],
   "source": [
    "len(arr)"
   ]
  },
  {
   "cell_type": "code",
   "execution_count": 1,
   "metadata": {},
   "outputs": [],
   "source": [
    "x = ['this','is','it']"
   ]
  },
  {
   "cell_type": "code",
   "execution_count": 4,
   "metadata": {},
   "outputs": [
    {
     "data": {
      "text/plain": [
       "array(['this', 'is', 'it'], dtype='<U4')"
      ]
     },
     "execution_count": 4,
     "metadata": {},
     "output_type": "execute_result"
    }
   ],
   "source": [
    "np.array(x)"
   ]
  },
  {
   "cell_type": "code",
   "execution_count": 16,
   "metadata": {},
   "outputs": [],
   "source": [
    "file = open('speeches.txt','r')"
   ]
  },
  {
   "cell_type": "code",
   "execution_count": 17,
   "metadata": {},
   "outputs": [
    {
     "data": {
      "text/plain": [
       "'* Valid only at participating locations; while supplies last; batteries not included; objects in mirror may be closer than they appear; other necessary disclaimers. \\n'"
      ]
     },
     "execution_count": 17,
     "metadata": {},
     "output_type": "execute_result"
    }
   ],
   "source": [
    "file.readline()"
   ]
  },
  {
   "cell_type": "code",
   "execution_count": 12,
   "metadata": {},
   "outputs": [],
   "source": [
    "s = file.read()"
   ]
  },
  {
   "cell_type": "code",
   "execution_count": 13,
   "metadata": {},
   "outputs": [
    {
     "data": {
      "text/plain": [
       "'* Valid only at participating locations; while supplies last; batteries not included; objects in mirror may be closer than they appear; other necessary disclaimers. \\nInspired by Mark Obmascik\\'s nonfiction book, David Frankel\\'s film observes the migratory patterns of three breeds of birders. Do they criss-cross the country from Alaska\\'s Aleutians to Florida\\'s Everglades because they feel trapped by their lives? Or because by observing avian life they better understand humans? Yes and maybe, suggests this gently eccentric film from Frankel (The Devil Wears Prada, Marley & Me).\\nParker frames her tale as a love story between her great-aunt Mary and her husband, Thomas Henry Davison. She spices the story with an intriguing family heirloom -- the skirt Davison wore as she climbed into the lifeboat that took her to safety.\\nThey might have been tempted to quit when Andy Pettitte brushed back the government\\'s case against Roger Clemens with a high, hard one out of nowhere. Could have just bagged it all about the time one juror fell asleep, and another wondered just what Clemens was on trial for anyway.\\nCassady, the inspiration for Dean Moriarty in Jack Kerouac\\'s On the Road, comes off as especially manic. It\\'s actually scary to think that this motormouth beatnik was behind the wheel for most of the trip - the Merry Pranksters\\' designated driver!\\n\"I think we\\'d like to rest in a place outside of China,\" Chen said, appealing again for help from Washington. \"Help my family and me leave safely.\"'"
      ]
     },
     "execution_count": 13,
     "metadata": {},
     "output_type": "execute_result"
    }
   ],
   "source": [
    "s\n"
   ]
  },
  {
   "cell_type": "code",
   "execution_count": 14,
   "metadata": {},
   "outputs": [],
   "source": [
    "file.close()"
   ]
  },
  {
   "cell_type": "code",
   "execution_count": 15,
   "metadata": {},
   "outputs": [
    {
     "data": {
      "text/plain": [
       "'* Valid only at participating locations; while supplies last; batteries not included; objects in mirror may be closer than they appear; other necessary disclaimers. \\nInspired by Mark Obmascik\\'s nonfiction book, David Frankel\\'s film observes the migratory patterns of three breeds of birders. Do they criss-cross the country from Alaska\\'s Aleutians to Florida\\'s Everglades because they feel trapped by their lives? Or because by observing avian life they better understand humans? Yes and maybe, suggests this gently eccentric film from Frankel (The Devil Wears Prada, Marley & Me).\\nParker frames her tale as a love story between her great-aunt Mary and her husband, Thomas Henry Davison. She spices the story with an intriguing family heirloom -- the skirt Davison wore as she climbed into the lifeboat that took her to safety.\\nThey might have been tempted to quit when Andy Pettitte brushed back the government\\'s case against Roger Clemens with a high, hard one out of nowhere. Could have just bagged it all about the time one juror fell asleep, and another wondered just what Clemens was on trial for anyway.\\nCassady, the inspiration for Dean Moriarty in Jack Kerouac\\'s On the Road, comes off as especially manic. It\\'s actually scary to think that this motormouth beatnik was behind the wheel for most of the trip - the Merry Pranksters\\' designated driver!\\n\"I think we\\'d like to rest in a place outside of China,\" Chen said, appealing again for help from Washington. \"Help my family and me leave safely.\"'"
      ]
     },
     "execution_count": 15,
     "metadata": {},
     "output_type": "execute_result"
    }
   ],
   "source": [
    "s"
   ]
  },
  {
   "cell_type": "code",
   "execution_count": 50,
   "metadata": {},
   "outputs": [],
   "source": [
    "tobe = [';','.' , '\\\\' , '\\n','\\\"','-','?','(',')','!','*','&','']"
   ]
  },
  {
   "cell_type": "code",
   "execution_count": 51,
   "metadata": {},
   "outputs": [
    {
     "data": {
      "text/plain": [
       "[';', '.', '\\\\', '\\n', '\"', '-', '?', '(', ')', '!', '*', '&', '']"
      ]
     },
     "execution_count": 51,
     "metadata": {},
     "output_type": "execute_result"
    }
   ],
   "source": [
    "tobe"
   ]
  },
  {
   "cell_type": "code",
   "execution_count": 52,
   "metadata": {},
   "outputs": [],
   "source": [
    "for x in tobe:\n",
    "   s = s.replace(x,'')"
   ]
  },
  {
   "cell_type": "code",
   "execution_count": 62,
   "metadata": {},
   "outputs": [],
   "source": [
    "s = s.strip()"
   ]
  },
  {
   "cell_type": "code",
   "execution_count": 63,
   "metadata": {},
   "outputs": [],
   "source": [
    "arr = s.split(' ')"
   ]
  },
  {
   "cell_type": "code",
   "execution_count": 64,
   "metadata": {},
   "outputs": [
    {
     "data": {
      "text/plain": [
       "['Valid',\n",
       " 'only',\n",
       " 'at',\n",
       " 'participating',\n",
       " 'locations',\n",
       " 'while',\n",
       " 'supplies',\n",
       " 'last',\n",
       " 'batteries',\n",
       " 'not',\n",
       " 'included',\n",
       " 'objects',\n",
       " 'in',\n",
       " 'mirror',\n",
       " 'may',\n",
       " 'be',\n",
       " 'closer',\n",
       " 'than',\n",
       " 'they',\n",
       " 'appear',\n",
       " 'other',\n",
       " 'necessary',\n",
       " 'disclaimers',\n",
       " 'Inspired',\n",
       " 'by',\n",
       " 'Mark',\n",
       " \"Obmascik's\",\n",
       " 'nonfiction',\n",
       " 'book,',\n",
       " 'David',\n",
       " \"Frankel's\",\n",
       " 'film',\n",
       " 'observes',\n",
       " 'the',\n",
       " 'migratory',\n",
       " 'patterns',\n",
       " 'of',\n",
       " 'three',\n",
       " 'breeds',\n",
       " 'of',\n",
       " 'birders',\n",
       " 'Do',\n",
       " 'they',\n",
       " 'crisscross',\n",
       " 'the',\n",
       " 'country',\n",
       " 'from',\n",
       " \"Alaska's\",\n",
       " 'Aleutians',\n",
       " 'to',\n",
       " \"Florida's\",\n",
       " 'Everglades',\n",
       " 'because',\n",
       " 'they',\n",
       " 'feel',\n",
       " 'trapped',\n",
       " 'by',\n",
       " 'their',\n",
       " 'lives',\n",
       " 'Or',\n",
       " 'because',\n",
       " 'by',\n",
       " 'observing',\n",
       " 'avian',\n",
       " 'life',\n",
       " 'they',\n",
       " 'better',\n",
       " 'understand',\n",
       " 'humans',\n",
       " 'Yes',\n",
       " 'and',\n",
       " 'maybe,',\n",
       " 'suggests',\n",
       " 'this',\n",
       " 'gently',\n",
       " 'eccentric',\n",
       " 'film',\n",
       " 'from',\n",
       " 'Frankel',\n",
       " 'The',\n",
       " 'Devil',\n",
       " 'Wears',\n",
       " 'Prada,',\n",
       " 'Marley',\n",
       " '',\n",
       " 'MeParker',\n",
       " 'frames',\n",
       " 'her',\n",
       " 'tale',\n",
       " 'as',\n",
       " 'a',\n",
       " 'love',\n",
       " 'story',\n",
       " 'between',\n",
       " 'her',\n",
       " 'greataunt',\n",
       " 'Mary',\n",
       " 'and',\n",
       " 'her',\n",
       " 'husband,',\n",
       " 'Thomas',\n",
       " 'Henry',\n",
       " 'Davison',\n",
       " 'She',\n",
       " 'spices',\n",
       " 'the',\n",
       " 'story',\n",
       " 'with',\n",
       " 'an',\n",
       " 'intriguing',\n",
       " 'family',\n",
       " 'heirloom',\n",
       " '',\n",
       " 'the',\n",
       " 'skirt',\n",
       " 'Davison',\n",
       " 'wore',\n",
       " 'as',\n",
       " 'she',\n",
       " 'climbed',\n",
       " 'into',\n",
       " 'the',\n",
       " 'lifeboat',\n",
       " 'that',\n",
       " 'took',\n",
       " 'her',\n",
       " 'to',\n",
       " 'safetyThey',\n",
       " 'might',\n",
       " 'have',\n",
       " 'been',\n",
       " 'tempted',\n",
       " 'to',\n",
       " 'quit',\n",
       " 'when',\n",
       " 'Andy',\n",
       " 'Pettitte',\n",
       " 'brushed',\n",
       " 'back',\n",
       " 'the',\n",
       " \"government's\",\n",
       " 'case',\n",
       " 'against',\n",
       " 'Roger',\n",
       " 'Clemens',\n",
       " 'with',\n",
       " 'a',\n",
       " 'high,',\n",
       " 'hard',\n",
       " 'one',\n",
       " 'out',\n",
       " 'of',\n",
       " 'nowhere',\n",
       " 'Could',\n",
       " 'have',\n",
       " 'just',\n",
       " 'bagged',\n",
       " 'it',\n",
       " 'all',\n",
       " 'about',\n",
       " 'the',\n",
       " 'time',\n",
       " 'one',\n",
       " 'juror',\n",
       " 'fell',\n",
       " 'asleep,',\n",
       " 'and',\n",
       " 'another',\n",
       " 'wondered',\n",
       " 'just',\n",
       " 'what',\n",
       " 'Clemens',\n",
       " 'was',\n",
       " 'on',\n",
       " 'trial',\n",
       " 'for',\n",
       " 'anywayCassady,',\n",
       " 'the',\n",
       " 'inspiration',\n",
       " 'for',\n",
       " 'Dean',\n",
       " 'Moriarty',\n",
       " 'in',\n",
       " 'Jack',\n",
       " \"Kerouac's\",\n",
       " 'On',\n",
       " 'the',\n",
       " 'Road,',\n",
       " 'comes',\n",
       " 'off',\n",
       " 'as',\n",
       " 'especially',\n",
       " 'manic',\n",
       " \"It's\",\n",
       " 'actually',\n",
       " 'scary',\n",
       " 'to',\n",
       " 'think',\n",
       " 'that',\n",
       " 'this',\n",
       " 'motormouth',\n",
       " 'beatnik',\n",
       " 'was',\n",
       " 'behind',\n",
       " 'the',\n",
       " 'wheel',\n",
       " 'for',\n",
       " 'most',\n",
       " 'of',\n",
       " 'the',\n",
       " 'trip',\n",
       " '',\n",
       " 'the',\n",
       " 'Merry',\n",
       " \"Pranksters'\",\n",
       " 'designated',\n",
       " 'driverI',\n",
       " 'think',\n",
       " \"we'd\",\n",
       " 'like',\n",
       " 'to',\n",
       " 'rest',\n",
       " 'in',\n",
       " 'a',\n",
       " 'place',\n",
       " 'outside',\n",
       " 'of',\n",
       " 'China,',\n",
       " 'Chen',\n",
       " 'said,',\n",
       " 'appealing',\n",
       " 'again',\n",
       " 'for',\n",
       " 'help',\n",
       " 'from',\n",
       " 'Washington',\n",
       " 'Help',\n",
       " 'my',\n",
       " 'family',\n",
       " 'and',\n",
       " 'me',\n",
       " 'leave',\n",
       " 'safely']"
      ]
     },
     "execution_count": 64,
     "metadata": {},
     "output_type": "execute_result"
    }
   ],
   "source": [
    "arr"
   ]
  },
  {
   "cell_type": "code",
   "execution_count": 65,
   "metadata": {},
   "outputs": [
    {
     "data": {
      "text/plain": [
       "array(['Valid', 'only', 'at', 'participating', 'locations', 'while',\n",
       "       'supplies', 'last', 'batteries', 'not', 'included', 'objects',\n",
       "       'in', 'mirror', 'may', 'be', 'closer', 'than', 'they', 'appear',\n",
       "       'other', 'necessary', 'disclaimers', 'Inspired', 'by', 'Mark',\n",
       "       \"Obmascik's\", 'nonfiction', 'book,', 'David', \"Frankel's\", 'film',\n",
       "       'observes', 'the', 'migratory', 'patterns', 'of', 'three',\n",
       "       'breeds', 'of', 'birders', 'Do', 'they', 'crisscross', 'the',\n",
       "       'country', 'from', \"Alaska's\", 'Aleutians', 'to', \"Florida's\",\n",
       "       'Everglades', 'because', 'they', 'feel', 'trapped', 'by', 'their',\n",
       "       'lives', 'Or', 'because', 'by', 'observing', 'avian', 'life',\n",
       "       'they', 'better', 'understand', 'humans', 'Yes', 'and', 'maybe,',\n",
       "       'suggests', 'this', 'gently', 'eccentric', 'film', 'from',\n",
       "       'Frankel', 'The', 'Devil', 'Wears', 'Prada,', 'Marley', '',\n",
       "       'MeParker', 'frames', 'her', 'tale', 'as', 'a', 'love', 'story',\n",
       "       'between', 'her', 'greataunt', 'Mary', 'and', 'her', 'husband,',\n",
       "       'Thomas', 'Henry', 'Davison', 'She', 'spices', 'the', 'story',\n",
       "       'with', 'an', 'intriguing', 'family', 'heirloom', '', 'the',\n",
       "       'skirt', 'Davison', 'wore', 'as', 'she', 'climbed', 'into', 'the',\n",
       "       'lifeboat', 'that', 'took', 'her', 'to', 'safetyThey', 'might',\n",
       "       'have', 'been', 'tempted', 'to', 'quit', 'when', 'Andy',\n",
       "       'Pettitte', 'brushed', 'back', 'the', \"government's\", 'case',\n",
       "       'against', 'Roger', 'Clemens', 'with', 'a', 'high,', 'hard', 'one',\n",
       "       'out', 'of', 'nowhere', 'Could', 'have', 'just', 'bagged', 'it',\n",
       "       'all', 'about', 'the', 'time', 'one', 'juror', 'fell', 'asleep,',\n",
       "       'and', 'another', 'wondered', 'just', 'what', 'Clemens', 'was',\n",
       "       'on', 'trial', 'for', 'anywayCassady,', 'the', 'inspiration',\n",
       "       'for', 'Dean', 'Moriarty', 'in', 'Jack', \"Kerouac's\", 'On', 'the',\n",
       "       'Road,', 'comes', 'off', 'as', 'especially', 'manic', \"It's\",\n",
       "       'actually', 'scary', 'to', 'think', 'that', 'this', 'motormouth',\n",
       "       'beatnik', 'was', 'behind', 'the', 'wheel', 'for', 'most', 'of',\n",
       "       'the', 'trip', '', 'the', 'Merry', \"Pranksters'\", 'designated',\n",
       "       'driverI', 'think', \"we'd\", 'like', 'to', 'rest', 'in', 'a',\n",
       "       'place', 'outside', 'of', 'China,', 'Chen', 'said,', 'appealing',\n",
       "       'again', 'for', 'help', 'from', 'Washington', 'Help', 'my',\n",
       "       'family', 'and', 'me', 'leave', 'safely'], dtype='<U14')"
      ]
     },
     "execution_count": 65,
     "metadata": {},
     "output_type": "execute_result"
    }
   ],
   "source": [
    "np.array(arr)"
   ]
  },
  {
   "cell_type": "code",
   "execution_count": 66,
   "metadata": {},
   "outputs": [
    {
     "ename": "ValueError",
     "evalue": "invalid literal for int() with base 10: 'Valid'",
     "output_type": "error",
     "traceback": [
      "\u001b[1;31m---------------------------------------------------------------------------\u001b[0m",
      "\u001b[1;31mValueError\u001b[0m                                Traceback (most recent call last)",
      "\u001b[1;32m<ipython-input-66-2821a44bc0ac>\u001b[0m in \u001b[0;36m<module>\u001b[1;34m\u001b[0m\n\u001b[1;32m----> 1\u001b[1;33m \u001b[0mnp\u001b[0m\u001b[1;33m.\u001b[0m\u001b[0mbincount\u001b[0m\u001b[1;33m(\u001b[0m\u001b[0marr\u001b[0m\u001b[1;33m)\u001b[0m\u001b[1;33m\u001b[0m\u001b[1;33m\u001b[0m\u001b[0m\n\u001b[0m",
      "\u001b[1;31mValueError\u001b[0m: invalid literal for int() with base 10: 'Valid'"
     ]
    }
   ],
   "source": [
    "np.bincount(arr)"
   ]
  },
  {
   "cell_type": "code",
   "execution_count": 67,
   "metadata": {},
   "outputs": [],
   "source": [
    "unique_elements, counts_elements = np.unique(arr, return_counts=True)"
   ]
  },
  {
   "cell_type": "code",
   "execution_count": 68,
   "metadata": {},
   "outputs": [
    {
     "data": {
      "text/plain": [
       "array(['', \"Alaska's\", 'Aleutians', 'Andy', 'Chen', 'China,', 'Clemens',\n",
       "       'Could', 'David', 'Davison', 'Dean', 'Devil', 'Do', 'Everglades',\n",
       "       \"Florida's\", 'Frankel', \"Frankel's\", 'Help', 'Henry', 'Inspired',\n",
       "       \"It's\", 'Jack', \"Kerouac's\", 'Mark', 'Marley', 'Mary', 'MeParker',\n",
       "       'Merry', 'Moriarty', \"Obmascik's\", 'On', 'Or', 'Pettitte',\n",
       "       'Prada,', \"Pranksters'\", 'Road,', 'Roger', 'She', 'The', 'Thomas',\n",
       "       'Valid', 'Washington', 'Wears', 'Yes', 'a', 'about', 'actually',\n",
       "       'again', 'against', 'all', 'an', 'and', 'another',\n",
       "       'anywayCassady,', 'appealing', 'appear', 'as', 'asleep,', 'at',\n",
       "       'avian', 'back', 'bagged', 'batteries', 'be', 'beatnik', 'because',\n",
       "       'been', 'behind', 'better', 'between', 'birders', 'book,',\n",
       "       'breeds', 'brushed', 'by', 'case', 'climbed', 'closer', 'comes',\n",
       "       'country', 'crisscross', 'designated', 'disclaimers', 'driverI',\n",
       "       'eccentric', 'especially', 'family', 'feel', 'fell', 'film', 'for',\n",
       "       'frames', 'from', 'gently', \"government's\", 'greataunt', 'hard',\n",
       "       'have', 'heirloom', 'help', 'her', 'high,', 'humans', 'husband,',\n",
       "       'in', 'included', 'inspiration', 'into', 'intriguing', 'it',\n",
       "       'juror', 'just', 'last', 'leave', 'life', 'lifeboat', 'like',\n",
       "       'lives', 'locations', 'love', 'manic', 'may', 'maybe,', 'me',\n",
       "       'might', 'migratory', 'mirror', 'most', 'motormouth', 'my',\n",
       "       'necessary', 'nonfiction', 'not', 'nowhere', 'objects', 'observes',\n",
       "       'observing', 'of', 'off', 'on', 'one', 'only', 'other', 'out',\n",
       "       'outside', 'participating', 'patterns', 'place', 'quit', 'rest',\n",
       "       'safely', 'safetyThey', 'said,', 'scary', 'she', 'skirt', 'spices',\n",
       "       'story', 'suggests', 'supplies', 'tale', 'tempted', 'than', 'that',\n",
       "       'the', 'their', 'they', 'think', 'this', 'three', 'time', 'to',\n",
       "       'took', 'trapped', 'trial', 'trip', 'understand', 'was', \"we'd\",\n",
       "       'what', 'wheel', 'when', 'while', 'with', 'wondered', 'wore'],\n",
       "      dtype='<U14')"
      ]
     },
     "execution_count": 68,
     "metadata": {},
     "output_type": "execute_result"
    }
   ],
   "source": [
    "unique_elements"
   ]
  },
  {
   "cell_type": "code",
   "execution_count": 69,
   "metadata": {},
   "outputs": [
    {
     "data": {
      "text/plain": [
       "array([ 3,  1,  1,  1,  1,  1,  2,  1,  1,  2,  1,  1,  1,  1,  1,  1,  1,\n",
       "        1,  1,  1,  1,  1,  1,  1,  1,  1,  1,  1,  1,  1,  1,  1,  1,  1,\n",
       "        1,  1,  1,  1,  1,  1,  1,  1,  1,  1,  3,  1,  1,  1,  1,  1,  1,\n",
       "        4,  1,  1,  1,  1,  3,  1,  1,  1,  1,  1,  1,  1,  1,  2,  1,  1,\n",
       "        1,  1,  1,  1,  1,  1,  3,  1,  1,  1,  1,  1,  1,  1,  1,  1,  1,\n",
       "        1,  2,  1,  1,  2,  4,  1,  3,  1,  1,  1,  1,  2,  1,  1,  4,  1,\n",
       "        1,  1,  3,  1,  1,  1,  1,  1,  1,  2,  1,  1,  1,  1,  1,  1,  1,\n",
       "        1,  1,  1,  1,  1,  1,  1,  1,  1,  1,  1,  1,  1,  1,  1,  1,  1,\n",
       "        1,  5,  1,  1,  2,  1,  1,  1,  1,  1,  1,  1,  1,  1,  1,  1,  1,\n",
       "        1,  1,  1,  1,  2,  1,  1,  1,  1,  1,  2, 12,  1,  4,  2,  2,  1,\n",
       "        1,  5,  1,  1,  1,  1,  1,  2,  1,  1,  1,  1,  1,  2,  1,  1],\n",
       "      dtype=int64)"
      ]
     },
     "execution_count": 69,
     "metadata": {},
     "output_type": "execute_result"
    }
   ],
   "source": [
    "counts_elements"
   ]
  },
  {
   "cell_type": "code",
   "execution_count": 82,
   "metadata": {},
   "outputs": [],
   "source": [
    "file = open('test.txt','r')"
   ]
  },
  {
   "cell_type": "code",
   "execution_count": 83,
   "metadata": {},
   "outputs": [],
   "source": [
    "mystr = file.read()"
   ]
  },
  {
   "cell_type": "code",
   "execution_count": 84,
   "metadata": {},
   "outputs": [],
   "source": [
    "mystr = mystr.split(' ')"
   ]
  },
  {
   "cell_type": "code",
   "execution_count": 85,
   "metadata": {},
   "outputs": [],
   "source": [
    "mystr = np.array(mystr)"
   ]
  },
  {
   "cell_type": "code",
   "execution_count": 86,
   "metadata": {},
   "outputs": [],
   "source": [
    "uniq , count = np.unique(mystr,return_counts=True)"
   ]
  },
  {
   "cell_type": "code",
   "execution_count": 87,
   "metadata": {},
   "outputs": [
    {
     "data": {
      "text/plain": [
       "array(['This', 'is', 'what'], dtype='<U4')"
      ]
     },
     "execution_count": 87,
     "metadata": {},
     "output_type": "execute_result"
    }
   ],
   "source": [
    "uniq"
   ]
  },
  {
   "cell_type": "code",
   "execution_count": 88,
   "metadata": {},
   "outputs": [
    {
     "data": {
      "text/plain": [
       "array([1, 1, 1], dtype=int64)"
      ]
     },
     "execution_count": 88,
     "metadata": {},
     "output_type": "execute_result"
    }
   ],
   "source": [
    "count"
   ]
  },
  {
   "cell_type": "code",
   "execution_count": 89,
   "metadata": {},
   "outputs": [],
   "source": [
    "matrix = np.zeros((len(uniq),len(uniq)))"
   ]
  },
  {
   "cell_type": "code",
   "execution_count": 90,
   "metadata": {},
   "outputs": [
    {
     "data": {
      "text/plain": [
       "array([[0., 0., 0.],\n",
       "       [0., 0., 0.],\n",
       "       [0., 0., 0.]])"
      ]
     },
     "execution_count": 90,
     "metadata": {},
     "output_type": "execute_result"
    }
   ],
   "source": [
    "matrix"
   ]
  },
  {
   "cell_type": "code",
   "execution_count": 91,
   "metadata": {},
   "outputs": [],
   "source": [
    "def feedProb(mystr,i,j,uniq,count):\n",
    "    j_count = 0\n",
    "    target = uniq[j]\n",
    "#     print(uniq[7])\n",
    "    \n",
    "    x = np.where(uniq[i] == mystr)\n",
    "\n",
    "    x = np.array(x)\n",
    "    x = x.flatten()\n",
    "    x += 1\n",
    "    mask = x <= len(mystr) - 1\n",
    "    x = x[mask]\n",
    "\n",
    "    if x.size != 0:\n",
    "        tar = target == mystr[x]\n",
    "    \n",
    "    else:\n",
    "        tar = np.array([])\n",
    "    k = tar == True    \n",
    "   \n",
    "    for z in k:\n",
    "        if(z == True):\n",
    "            j_count += 1\n",
    "    \n",
    "\n",
    "\n",
    "    return j_count / count[i]\n",
    "#     return "
   ]
  },
  {
   "cell_type": "code",
   "execution_count": 92,
   "metadata": {},
   "outputs": [
    {
     "ename": "IndexError",
     "evalue": "index 7 is out of bounds for axis 0 with size 3",
     "output_type": "error",
     "traceback": [
      "\u001b[1;31m---------------------------------------------------------------------------\u001b[0m",
      "\u001b[1;31mIndexError\u001b[0m                                Traceback (most recent call last)",
      "\u001b[1;32m<ipython-input-92-4b37a7c175fb>\u001b[0m in \u001b[0;36m<module>\u001b[1;34m\u001b[0m\n\u001b[1;32m----> 1\u001b[1;33m \u001b[0mfeedProb\u001b[0m\u001b[1;33m(\u001b[0m\u001b[0mmystr\u001b[0m\u001b[1;33m,\u001b[0m\u001b[1;36m7\u001b[0m\u001b[1;33m,\u001b[0m\u001b[1;36m1\u001b[0m\u001b[1;33m,\u001b[0m\u001b[0muniq\u001b[0m\u001b[1;33m,\u001b[0m\u001b[0mcount\u001b[0m\u001b[1;33m)\u001b[0m\u001b[1;33m\u001b[0m\u001b[1;33m\u001b[0m\u001b[0m\n\u001b[0m",
      "\u001b[1;32m<ipython-input-91-bac3f046702e>\u001b[0m in \u001b[0;36mfeedProb\u001b[1;34m(mystr, i, j, uniq, count)\u001b[0m\n\u001b[0;32m      4\u001b[0m \u001b[1;31m#     print(uniq[7])\u001b[0m\u001b[1;33m\u001b[0m\u001b[1;33m\u001b[0m\u001b[1;33m\u001b[0m\u001b[0m\n\u001b[0;32m      5\u001b[0m \u001b[1;33m\u001b[0m\u001b[0m\n\u001b[1;32m----> 6\u001b[1;33m     \u001b[0mx\u001b[0m \u001b[1;33m=\u001b[0m \u001b[0mnp\u001b[0m\u001b[1;33m.\u001b[0m\u001b[0mwhere\u001b[0m\u001b[1;33m(\u001b[0m\u001b[0muniq\u001b[0m\u001b[1;33m[\u001b[0m\u001b[0mi\u001b[0m\u001b[1;33m]\u001b[0m \u001b[1;33m==\u001b[0m \u001b[0mmystr\u001b[0m\u001b[1;33m)\u001b[0m\u001b[1;33m\u001b[0m\u001b[1;33m\u001b[0m\u001b[0m\n\u001b[0m\u001b[0;32m      7\u001b[0m \u001b[1;33m\u001b[0m\u001b[0m\n\u001b[0;32m      8\u001b[0m     \u001b[0mx\u001b[0m \u001b[1;33m=\u001b[0m \u001b[0mnp\u001b[0m\u001b[1;33m.\u001b[0m\u001b[0marray\u001b[0m\u001b[1;33m(\u001b[0m\u001b[0mx\u001b[0m\u001b[1;33m)\u001b[0m\u001b[1;33m\u001b[0m\u001b[1;33m\u001b[0m\u001b[0m\n",
      "\u001b[1;31mIndexError\u001b[0m: index 7 is out of bounds for axis 0 with size 3"
     ]
    }
   ],
   "source": [
    "feedProb(mystr,7,1,uniq,count)"
   ]
  },
  {
   "cell_type": "code",
   "execution_count": 93,
   "metadata": {},
   "outputs": [],
   "source": [
    "def createMatrix(matrix,uniq,count,mystr):\n",
    "    for r in range(len(uniq)):\n",
    "        for k in range(len(uniq)):\n",
    "            matrix[r,k] = feedProb(mystr,r,k,uniq,count)\n",
    "    return matrix"
   ]
  },
  {
   "cell_type": "code",
   "execution_count": 94,
   "metadata": {},
   "outputs": [
    {
     "data": {
      "text/plain": [
       "array([[0., 1., 0.],\n",
       "       [0., 0., 1.],\n",
       "       [0., 0., 0.]])"
      ]
     },
     "execution_count": 94,
     "metadata": {},
     "output_type": "execute_result"
    }
   ],
   "source": [
    "createMatrix(matrix,uniq,count,mystr)"
   ]
  },
  {
   "cell_type": "code",
   "execution_count": 95,
   "metadata": {},
   "outputs": [
    {
     "data": {
      "text/plain": [
       "3"
      ]
     },
     "execution_count": 95,
     "metadata": {},
     "output_type": "execute_result"
    }
   ],
   "source": [
    "len(uniq)"
   ]
  },
  {
   "cell_type": "code",
   "execution_count": null,
   "metadata": {},
   "outputs": [],
   "source": []
  },
  {
   "cell_type": "code",
   "execution_count": null,
   "metadata": {},
   "outputs": [],
   "source": []
  }
 ],
 "metadata": {
  "kernelspec": {
   "display_name": "Python 3",
   "language": "python",
   "name": "python3"
  },
  "language_info": {
   "codemirror_mode": {
    "name": "ipython",
    "version": 3
   },
   "file_extension": ".py",
   "mimetype": "text/x-python",
   "name": "python",
   "nbconvert_exporter": "python",
   "pygments_lexer": "ipython3",
   "version": "3.7.4"
  }
 },
 "nbformat": 4,
 "nbformat_minor": 2
}
