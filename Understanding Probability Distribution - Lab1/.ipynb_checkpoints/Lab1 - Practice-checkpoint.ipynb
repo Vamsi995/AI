{
 "cells": [
  {
   "cell_type": "code",
   "execution_count": 23,
   "metadata": {},
   "outputs": [],
   "source": [
    "import numpy as np"
   ]
  },
  {
   "cell_type": "code",
   "execution_count": 24,
   "metadata": {},
   "outputs": [],
   "source": [
    "from matplotlib import pyplot as plt"
   ]
  },
  {
   "cell_type": "code",
   "execution_count": 241,
   "metadata": {},
   "outputs": [],
   "source": [
    "mat = np.random.randn(100,2)"
   ]
  },
  {
   "cell_type": "code",
   "execution_count": 242,
   "metadata": {},
   "outputs": [
    {
     "data": {
      "text/plain": [
       "array([[-1.04895238e+00, -1.04010414e+00],\n",
       "       [-7.36106124e-01, -1.67839221e+00],\n",
       "       [ 1.18720719e+00,  1.80077431e-01],\n",
       "       [ 6.68550003e-01,  5.49213301e-01],\n",
       "       [ 1.09416337e-01,  1.50414439e-01],\n",
       "       [ 4.93583400e-01, -4.75948363e-01],\n",
       "       [ 4.50668184e-01,  2.52215485e+00],\n",
       "       [ 9.90066824e-01, -7.70567232e-01],\n",
       "       [ 3.75786578e-02,  6.96541414e-02],\n",
       "       [ 1.26053730e+00,  7.49860190e-01],\n",
       "       [-5.84537178e-01, -5.50061403e-01],\n",
       "       [-1.10746004e+00,  2.53899245e-01],\n",
       "       [-2.99898251e-01,  1.15993900e+00],\n",
       "       [ 6.77543950e-01,  1.57178522e-01],\n",
       "       [ 2.16696025e-01, -1.49611865e+00],\n",
       "       [-8.02098661e-01, -5.18025869e-01],\n",
       "       [ 1.28625187e+00, -1.17990434e+00],\n",
       "       [ 1.97011688e+00, -1.41161273e+00],\n",
       "       [ 1.91424884e-01, -6.64772942e-01],\n",
       "       [-9.07976437e-01, -5.36229916e-01],\n",
       "       [ 3.63313478e-02, -2.06912101e+00],\n",
       "       [-8.90519813e-01,  1.68011683e+00],\n",
       "       [-5.69854953e-01,  1.20837571e+00],\n",
       "       [ 3.09112623e-01, -1.15817701e-01],\n",
       "       [-8.78416680e-01,  4.66421911e-01],\n",
       "       [-1.19180862e+00, -5.19842489e-01],\n",
       "       [-4.19758626e-01, -7.03944731e-02],\n",
       "       [-1.80503199e+00,  1.05117534e-01],\n",
       "       [-1.83714739e-01,  1.03783217e+00],\n",
       "       [-4.73396462e-04,  8.82837097e-01],\n",
       "       [-2.38249854e-01, -4.95664385e-02],\n",
       "       [ 7.50419241e-01,  1.66911123e-02],\n",
       "       [ 9.01456406e-02,  8.37049524e-01],\n",
       "       [-5.92103552e-02, -4.48591278e-01],\n",
       "       [ 5.56204102e-01, -1.19644315e+00],\n",
       "       [-6.64291561e-01, -5.18528931e-01],\n",
       "       [-1.51271884e+00,  3.20118733e-01],\n",
       "       [ 1.71298837e-02, -3.88819125e-01],\n",
       "       [ 1.22873926e+00, -8.95664604e-01],\n",
       "       [-1.56713267e-01, -4.06133202e-01],\n",
       "       [-4.61617973e-01,  9.34612946e-02],\n",
       "       [ 4.62449478e-01,  1.27559423e+00],\n",
       "       [ 1.97820015e-01, -1.76184919e-01],\n",
       "       [-6.37143422e-02, -1.27208401e+00],\n",
       "       [ 3.44266573e-01,  3.44630151e-02],\n",
       "       [ 1.22223407e-01, -4.42361649e-02],\n",
       "       [-1.81166683e+00,  6.81027835e-01],\n",
       "       [-5.68253731e-01, -1.42285166e-02],\n",
       "       [-1.55553236e-01, -3.23634256e-01],\n",
       "       [ 2.18183103e-03,  6.74579232e-01],\n",
       "       [-4.39540052e-01, -7.97275955e-02],\n",
       "       [-6.62819784e-01,  1.58662908e+00],\n",
       "       [-1.26175120e+00, -9.42749837e-03],\n",
       "       [ 2.99427471e-01, -1.68965292e+00],\n",
       "       [-3.88338052e-01,  9.38799479e-01],\n",
       "       [-1.94146037e+00, -9.86662231e-01],\n",
       "       [ 6.83979535e-01, -6.56874801e-02],\n",
       "       [ 4.18198806e-01, -8.46194185e-01],\n",
       "       [-3.34377084e-02,  1.49881407e+00],\n",
       "       [-3.03374774e+00,  7.24659628e-03],\n",
       "       [-1.85347038e+00,  1.16096610e+00],\n",
       "       [ 1.05383113e+00, -1.27103286e-02],\n",
       "       [-6.38732301e-01,  3.90851883e-01],\n",
       "       [ 6.72808466e-01, -1.51531934e-01],\n",
       "       [-7.51186564e-01, -8.11459136e-01],\n",
       "       [-5.22885009e-01,  4.59166382e-01],\n",
       "       [-1.09268308e+00, -1.33257376e+00],\n",
       "       [-8.12732073e-01,  1.26791921e+00],\n",
       "       [ 1.98796943e+00,  8.80445111e-02],\n",
       "       [-1.66786772e+00, -5.01288928e-01],\n",
       "       [-1.11545612e+00,  8.55929274e-01],\n",
       "       [ 3.68316541e-01, -2.33126499e-01],\n",
       "       [ 1.32879653e+00,  5.73839267e-01],\n",
       "       [-1.55426181e+00,  9.93155738e-01],\n",
       "       [ 1.32133978e-02, -5.60763164e-01],\n",
       "       [-1.61794228e+00, -2.57674963e+00],\n",
       "       [ 7.79771552e-01, -1.89340211e+00],\n",
       "       [-7.93964917e-01,  1.67628202e+00],\n",
       "       [ 1.14464497e+00, -1.27916146e+00],\n",
       "       [-1.26527834e-01,  2.53857931e-01],\n",
       "       [-1.77885790e+00,  2.78205456e-01],\n",
       "       [-2.30471198e+00,  8.37916304e-01],\n",
       "       [ 3.91836569e-02,  1.29337147e-01],\n",
       "       [-2.66544663e+00, -3.71104112e-01],\n",
       "       [ 2.17691633e-01,  3.28959125e-01],\n",
       "       [ 7.97922162e-01, -9.61132336e-01],\n",
       "       [ 1.24762701e+00,  8.30792450e-01],\n",
       "       [ 1.47013336e+00,  7.29524663e-01],\n",
       "       [-3.82816932e-01,  2.23935188e+00],\n",
       "       [-5.90819568e-01,  3.95892275e-01],\n",
       "       [ 6.04138909e-01,  1.27344509e+00],\n",
       "       [ 6.34645353e-01,  1.43623315e+00],\n",
       "       [ 5.74346348e-01, -5.05621007e-01],\n",
       "       [ 6.36504752e-01,  1.33212848e+00],\n",
       "       [ 6.03550076e-01,  7.37345088e-02],\n",
       "       [-1.59239625e+00,  2.17960804e-01],\n",
       "       [-5.51170386e-01, -5.08373299e-01],\n",
       "       [-1.98497053e+00, -5.46507444e-01],\n",
       "       [-7.22457968e-01, -2.49147223e-01],\n",
       "       [-9.13080782e-01, -6.51288852e-01]])"
      ]
     },
     "execution_count": 242,
     "metadata": {},
     "output_type": "execute_result"
    }
   ],
   "source": [
    "mat"
   ]
  },
  {
   "cell_type": "code",
   "execution_count": 100,
   "metadata": {},
   "outputs": [],
   "source": [
    "def distance(mat,x,y):\n",
    "    new_point = np.array([[x,y]])\n",
    "    dist = mat - new_point\n",
    "    dist = np.square(dist)\n",
    "    dist = dist.sum(1)\n",
    "    dist = np.sqrt(dist)\n",
    "    dist = dist.argsort()\n",
    "    return dist"
   ]
  },
  {
   "cell_type": "code",
   "execution_count": 101,
   "metadata": {},
   "outputs": [],
   "source": [
    "def new_dist(mat,x,y):\n",
    "    r = np.array([[x,y]])\n",
    "    dist = np.linalg.norm(mat-r,axis=1)\n",
    "    return dist"
   ]
  },
  {
   "cell_type": "code",
   "execution_count": 102,
   "metadata": {},
   "outputs": [
    {
     "data": {
      "text/plain": [
       "array([2.0742742 , 1.22434103, 2.83428383, 2.09390401, 0.70550823,\n",
       "       2.11455192, 1.55164556, 0.52250576, 0.82879816, 0.56037567,\n",
       "       1.42311026, 2.49759709, 3.29738352, 0.23707969, 2.38053635,\n",
       "       1.07002209, 1.41684166, 0.3320979 , 3.57135233, 1.81667069,\n",
       "       1.47459768, 1.27574758, 1.67284283, 0.51925662, 2.3018636 ,\n",
       "       1.26424936, 0.50736536, 0.79877842, 1.32403745, 2.96623443,\n",
       "       0.7200573 , 1.48185847, 0.41947727, 0.73076215, 1.79123298,\n",
       "       2.23889233, 1.14102859, 2.39341025, 0.18806502, 2.30119066,\n",
       "       2.54152091, 1.8663497 , 1.27029475, 2.00888157, 1.05440736,\n",
       "       1.14497647, 0.50568911, 1.3433344 , 0.76589243, 0.65574104,\n",
       "       0.38770115, 2.00830401, 2.77938883, 0.43677937, 1.14376792,\n",
       "       1.57170287, 1.53912299, 0.46827456, 2.01834677, 1.84512826,\n",
       "       1.38974164, 1.00025747, 1.93060919, 0.93616253, 2.40499196,\n",
       "       3.19685532, 1.09458324, 1.76354314, 1.8393045 , 2.4401532 ,\n",
       "       1.84481903, 0.8766683 , 1.28660213, 0.38826549, 1.79477396,\n",
       "       1.54759447, 0.82365207, 0.72030179, 1.06118686, 2.00068118,\n",
       "       2.21636871, 1.66535995, 0.77466848, 0.26215877, 1.99328402,\n",
       "       1.79723877, 0.49081582, 1.68313959, 2.34469225, 2.04914778,\n",
       "       0.90486042, 0.27716615, 0.42272294, 3.49222433, 1.07099323,\n",
       "       1.59287229, 1.56375968, 2.23709842, 0.8523813 , 0.59414849])"
      ]
     },
     "execution_count": 102,
     "metadata": {},
     "output_type": "execute_result"
    }
   ],
   "source": [
    "new_dist(mat,0.1,0.2)"
   ]
  },
  {
   "cell_type": "code",
   "execution_count": 103,
   "metadata": {},
   "outputs": [
    {
     "data": {
      "text/plain": [
       "array([2.0742742 , 1.22434103, 2.83428383, 2.09390401, 0.70550823,\n",
       "       2.11455192, 1.55164556, 0.52250576, 0.82879816, 0.56037567,\n",
       "       1.42311026, 2.49759709, 3.29738352, 0.23707969, 2.38053635,\n",
       "       1.07002209, 1.41684166, 0.3320979 , 3.57135233, 1.81667069,\n",
       "       1.47459768, 1.27574758, 1.67284283, 0.51925662, 2.3018636 ,\n",
       "       1.26424936, 0.50736536, 0.79877842, 1.32403745, 2.96623443,\n",
       "       0.7200573 , 1.48185847, 0.41947727, 0.73076215, 1.79123298,\n",
       "       2.23889233, 1.14102859, 2.39341025, 0.18806502, 2.30119066,\n",
       "       2.54152091, 1.8663497 , 1.27029475, 2.00888157, 1.05440736,\n",
       "       1.14497647, 0.50568911, 1.3433344 , 0.76589243, 0.65574104,\n",
       "       0.38770115, 2.00830401, 2.77938883, 0.43677937, 1.14376792,\n",
       "       1.57170287, 1.53912299, 0.46827456, 2.01834677, 1.84512826,\n",
       "       1.38974164, 1.00025747, 1.93060919, 0.93616253, 2.40499196,\n",
       "       3.19685532, 1.09458324, 1.76354314, 1.8393045 , 2.4401532 ,\n",
       "       1.84481903, 0.8766683 , 1.28660213, 0.38826549, 1.79477396,\n",
       "       1.54759447, 0.82365207, 0.72030179, 1.06118686, 2.00068118,\n",
       "       2.21636871, 1.66535995, 0.77466848, 0.26215877, 1.99328402,\n",
       "       1.79723877, 0.49081582, 1.68313959, 2.34469225, 2.04914778,\n",
       "       0.90486042, 0.27716615, 0.42272294, 3.49222433, 1.07099323,\n",
       "       1.59287229, 1.56375968, 2.23709842, 0.8523813 , 0.59414849])"
      ]
     },
     "execution_count": 103,
     "metadata": {},
     "output_type": "execute_result"
    }
   ],
   "source": [
    "distance(mat,0.1,0.2)"
   ]
  },
  {
   "cell_type": "code",
   "execution_count": 59,
   "metadata": {},
   "outputs": [
    {
     "data": {
      "text/plain": [
       "array([[-0.0868658 ,  0.22120431],\n",
       "       [ 0.24427132,  0.38812912],\n",
       "       [ 0.1760201 , -0.05089473],\n",
       "       [ 0.34695975,  0.07417491],\n",
       "       [ 0.41979767,  0.11045412]])"
      ]
     },
     "execution_count": 59,
     "metadata": {},
     "output_type": "execute_result"
    }
   ],
   "source": [
    "mat[arr[:5]]"
   ]
  },
  {
   "cell_type": "code",
   "execution_count": 62,
   "metadata": {},
   "outputs": [],
   "source": [
    "a = mat[arr[:5]] "
   ]
  },
  {
   "cell_type": "code",
   "execution_count": 64,
   "metadata": {},
   "outputs": [],
   "source": [
    "x = a[: ,0]\n",
    "y = a[: ,1]\n"
   ]
  },
  {
   "cell_type": "code",
   "execution_count": 66,
   "metadata": {},
   "outputs": [
    {
     "data": {
      "text/plain": [
       "<matplotlib.collections.PathCollection at 0x1feeaee4308>"
      ]
     },
     "execution_count": 66,
     "metadata": {},
     "output_type": "execute_result"
    },
    {
     "data": {
      "image/png": "[encoded data removed]",
      "text/plain": [
       "<Figure size 432x288 with 1 Axes>"
      ]
     },
     "metadata": {
      "needs_background": "light"
     },
     "output_type": "display_data"
    }
   ],
   "source": [
    "plt.scatter(x,y,c='Yellow')"
   ]
  },
  {
   "cell_type": "code",
   "execution_count": 106,
   "metadata": {},
   "outputs": [],
   "source": [
    "arr = np.random.randint(low=1,high=100,size=100)"
   ]
  },
  {
   "cell_type": "code",
   "execution_count": 107,
   "metadata": {},
   "outputs": [
    {
     "data": {
      "text/plain": [
       "array([44,  2, 78, 72,  5, 32, 15, 93, 12, 84, 82, 36, 36, 30, 66, 54, 39,\n",
       "       77, 88, 57, 38, 92, 47, 18, 19, 64, 28, 88, 88, 82, 64, 20,  4, 77,\n",
       "       64, 38, 78, 12, 31, 80,  1, 13, 36,  4, 23, 89, 56, 65, 12, 47, 96,\n",
       "        7,  5, 11, 52, 57, 10, 27, 36, 95, 81, 69, 53, 87, 33, 91, 89, 44,\n",
       "       81, 76,  4, 63, 71, 18, 34, 40, 71, 46, 16, 36, 85, 83, 16, 71, 35,\n",
       "       12, 12, 81, 49, 99, 55, 40,  9, 82, 75, 12, 55, 86, 87, 57])"
      ]
     },
     "execution_count": 107,
     "metadata": {},
     "output_type": "execute_result"
    }
   ],
   "source": [
    "arr"
   ]
  },
  {
   "cell_type": "code",
   "execution_count": 121,
   "metadata": {},
   "outputs": [
    {
     "data": {
      "text/plain": [
       "(array([25., 19., 15., 17., 24.]),\n",
       " array([ 1. , 20.6, 40.2, 59.8, 79.4, 99. ]),\n",
       " <a list of 5 Patch objects>)"
      ]
     },
     "execution_count": 121,
     "metadata": {},
     "output_type": "execute_result"
    },
    {
     "data": {
      "image/png": "[encoded data removed]",
      "text/plain": [
       "<Figure size 432x288 with 1 Axes>"
      ]
     },
     "metadata": {
      "needs_background": "light"
     },
     "output_type": "display_data"
    }
   ],
   "source": [
    "plt.hist(arr,bins=5)"
   ]
  },
  {
   "cell_type": "code",
   "execution_count": 182,
   "metadata": {},
   "outputs": [],
   "source": [
    "arr = np.random.rand(100)"
   ]
  },
  {
   "cell_type": "code",
   "execution_count": 197,
   "metadata": {},
   "outputs": [
    {
     "data": {
      "text/plain": [
       "0.53579809"
      ]
     },
     "execution_count": 197,
     "metadata": {},
     "output_type": "execute_result"
    }
   ],
   "source": [
    "(0.26667805 + 0.80491813) / 2"
   ]
  },
  {
   "cell_type": "code",
   "execution_count": 183,
   "metadata": {},
   "outputs": [
    {
     "data": {
      "text/plain": [
       "array([0.26667805, 0.80491813, 0.24535323, 0.74426246, 0.95519595,\n",
       "       0.38704064, 0.1201933 , 0.9096397 , 0.3941817 , 0.73010971,\n",
       "       0.23242533, 0.42776569, 0.95592008, 0.87827923, 0.00734719,\n",
       "       0.75466759, 0.6654132 , 0.52527324, 0.32978466, 0.58406647,\n",
       "       0.09962739, 0.72548069, 0.07006557, 0.10654012, 0.04548961,\n",
       "       0.41648117, 0.9008306 , 0.19430489, 0.93467189, 0.71825806,\n",
       "       0.54755265, 0.15876202, 0.16979212, 0.45687327, 0.42133339,\n",
       "       0.68286123, 0.94591527, 0.04451406, 0.35836791, 0.32620102,\n",
       "       0.88286572, 0.24274502, 0.27078557, 0.33074218, 0.47484716,\n",
       "       0.35987222, 0.84986665, 0.50005983, 0.3737973 , 0.83872192,\n",
       "       0.23380364, 0.54913926, 0.84029857, 0.60325512, 0.22290032,\n",
       "       0.23266647, 0.01007753, 0.70913303, 0.45246954, 0.53832773,\n",
       "       0.77480545, 0.36170943, 0.86248145, 0.31933216, 0.80245351,\n",
       "       0.69398631, 0.97639276, 0.9543147 , 0.21964382, 0.95493065,\n",
       "       0.95517688, 0.18278215, 0.53743803, 0.27975768, 0.58150746,\n",
       "       0.1489975 , 0.70880368, 0.23431264, 0.23924632, 0.22305421,\n",
       "       0.57192223, 0.86042745, 0.74574183, 0.68022582, 0.12068281,\n",
       "       0.79494734, 0.37674411, 0.17581959, 0.24421088, 0.08062698,\n",
       "       0.27584339, 0.60968603, 0.02180935, 0.91050313, 0.85106779,\n",
       "       0.87357336, 0.88907949, 0.40758062, 0.36196124, 0.43284492])"
      ]
     },
     "execution_count": 183,
     "metadata": {},
     "output_type": "execute_result"
    }
   ],
   "source": [
    "arr"
   ]
  },
  {
   "cell_type": "code",
   "execution_count": 222,
   "metadata": {},
   "outputs": [],
   "source": [
    "def y_s1(arr):\n",
    "    y = np.arange(101)\n",
    "    c = 1/y[1:]\n",
    "    r =  np.sqrt(c)\n",
    "    return r\n",
    "        "
   ]
  },
  {
   "cell_type": "code",
   "execution_count": 223,
   "metadata": {},
   "outputs": [],
   "source": [
    "def y_s(arr):\n",
    "    ind = 1\n",
    "    y = np.array([])\n",
    "    for x in arr:\n",
    "        r = arr[:ind].sum() / ind\n",
    "        t = np.array([r])\n",
    "        y = np.append(y,t)\n",
    "        ind += 1\n",
    "    return y\n",
    "        "
   ]
  },
  {
   "cell_type": "code",
   "execution_count": 265,
   "metadata": {},
   "outputs": [
    {
     "data": {
      "text/plain": [
       "array([0.26667805, 0.53579809, 0.43898314, 0.51530297, 0.60328156,\n",
       "       0.56724141, 0.5033774 , 0.55416018, 0.5363848 , 0.55575729,\n",
       "       0.52636347, 0.51814699, 0.55182184, 0.57514023, 0.53728736,\n",
       "       0.55087362, 0.55761125, 0.55581469, 0.54391837, 0.54592578,\n",
       "       0.52467347, 0.53380108, 0.51363866, 0.49667622, 0.47862876,\n",
       "       0.47623847, 0.4919641 , 0.48133341, 0.49696578, 0.50434219,\n",
       "       0.50573607, 0.49489313, 0.48504159, 0.48421311, 0.48241654,\n",
       "       0.48798445, 0.50036096, 0.48836499, 0.48503173, 0.48106096,\n",
       "       0.49086108, 0.48495355, 0.4799729 , 0.4765813 , 0.47654276,\n",
       "       0.47400644, 0.48200347, 0.48237964, 0.48016368, 0.48733484,\n",
       "       0.48236364, 0.48364779, 0.49037705, 0.49246738, 0.48756616,\n",
       "       0.48301438, 0.47471725, 0.4787589 , 0.47831331, 0.47931355,\n",
       "       0.48415768, 0.48218271, 0.4882192 , 0.48558034, 0.49045531,\n",
       "       0.49353912, 0.50074589, 0.50741602, 0.5032454 , 0.50969805,\n",
       "       0.5159724 , 0.51134476, 0.5117022 , 0.50856781, 0.50954034,\n",
       "       0.50479636, 0.5074458 , 0.5039441 , 0.50059349, 0.49712425,\n",
       "       0.49804768, 0.50246695, 0.50539797, 0.50747925, 0.50292871,\n",
       "       0.50632427, 0.50483485, 0.50109604, 0.49820969, 0.49356988,\n",
       "       0.49117728, 0.49246542, 0.4874046 , 0.49190565, 0.4956863 ,\n",
       "       0.49962263, 0.50363765, 0.50265747, 0.5012363 , 0.50055238])"
      ]
     },
     "execution_count": 265,
     "metadata": {},
     "output_type": "execute_result"
    }
   ],
   "source": [
    "y_s(arr)"
   ]
  },
  {
   "cell_type": "code",
   "execution_count": 267,
   "metadata": {},
   "outputs": [
    {
     "data": {
      "text/plain": [
       "[<matplotlib.lines.Line2D at 0x1feec9d9388>]"
      ]
     },
     "execution_count": 267,
     "metadata": {},
     "output_type": "execute_result"
    },
    {
     "data": {
      "image/png": "[encoded data removed]",
      "text/plain": [
       "<Figure size 432x288 with 1 Axes>"
      ]
     },
     "metadata": {
      "needs_background": "light"
     },
     "output_type": "display_data"
    }
   ],
   "source": [
    "plt.plot(arr,y_s(arr))"
   ]
  },
  {
   "cell_type": "code",
   "execution_count": 266,
   "metadata": {},
   "outputs": [
    {
     "data": {
      "text/plain": [
       "<matplotlib.collections.PathCollection at 0x1feec985208>"
      ]
     },
     "execution_count": 266,
     "metadata": {},
     "output_type": "execute_result"
    },
    {
     "data": {
      "image/png": "[encoded data removed]",
      "text/plain": [
       "<Figure size 432x288 with 1 Axes>"
      ]
     },
     "metadata": {
      "needs_background": "light"
     },
     "output_type": "display_data"
    }
   ],
   "source": [
    "plt.scatter(np.arange(101)[1:],y_s1(arr),np.arange(101)[1:],-y_s1(arr))"
   ]
  },
  {
   "cell_type": "markdown",
   "metadata": {},
   "source": [
    "we have to discuss sih"
   ]
  },
  {
   "cell_type": "code",
   "execution_count": 238,
   "metadata": {},
   "outputs": [
    {
     "data": {
      "text/plain": [
       "Text(0, 0.5, 'U')"
      ]
     },
     "execution_count": 238,
     "metadata": {},
     "output_type": "execute_result"
    },
    {
     "data": {
      "image/png": "[encoded data removed]",
      "text/plain": [
       "<Figure size 432x288 with 1 Axes>"
      ]
     },
     "metadata": {
      "needs_background": "light"
     },
     "output_type": "display_data"
    }
   ],
   "source": [
    "plt.xlabel('Fk')\n",
    "plt.ylabel('U')"
   ]
  },
  {
   "cell_type": "code",
   "execution_count": 250,
   "metadata": {},
   "outputs": [],
   "source": [
    "x = 2*np.random.randn(100,2)-1"
   ]
  },
  {
   "cell_type": "code",
   "execution_count": 375,
   "metadata": {},
   "outputs": [],
   "source": [
    "new_point = np.array([0.1,0.2])"
   ]
  },
  {
   "cell_type": "code",
   "execution_count": 417,
   "metadata": {},
   "outputs": [],
   "source": [
    "def angle(x,new_point):\n",
    "    dp = np.dot(x,new_point.T)\n",
    "    p = np.argsort(dp.reshape((1,100)))\n",
    "    p = p.reshape((100,1))\n",
    "    p = x[p[:,0]]\n",
    "    return p\n",
    "        \n",
    "    "
   ]
  },
  {
   "cell_type": "code",
   "execution_count": 418,
   "metadata": {},
   "outputs": [],
   "source": [
    "o = angle(x,new_point)\n",
    "# o[:,0]\n",
    "# o = o.reshape((100,1))"
   ]
  },
  {
   "cell_type": "code",
   "execution_count": 420,
   "metadata": {},
   "outputs": [],
   "source": [
    "k=o[-6:-1]"
   ]
  },
  {
   "cell_type": "code",
   "execution_count": null,
   "metadata": {},
   "outputs": [],
   "source": [
    "plt.plot(k)"
   ]
  }
 ],
 "metadata": {
  "kernelspec": {
   "display_name": "Python 3",
   "language": "python",
   "name": "python3"
  },
  "language_info": {
   "codemirror_mode": {
    "name": "ipython",
    "version": 3
   },
   "file_extension": ".py",
   "mimetype": "text/x-python",
   "name": "python",
   "nbconvert_exporter": "python",
   "pygments_lexer": "ipython3",
   "version": "3.7.4"
  }
 },
 "nbformat": 4,
 "nbformat_minor": 2
}
