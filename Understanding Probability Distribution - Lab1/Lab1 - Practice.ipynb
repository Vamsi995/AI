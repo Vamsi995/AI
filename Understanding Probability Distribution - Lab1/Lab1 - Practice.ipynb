{
 "cells": [
  {
   "cell_type": "code",
   "execution_count": 5,
   "metadata": {},
   "outputs": [],
   "source": [
    "import numpy as np"
   ]
  },
  {
   "cell_type": "code",
   "execution_count": 6,
   "metadata": {},
   "outputs": [],
   "source": [
    "from matplotlib import pyplot as plt"
   ]
  },
  {
   "cell_type": "code",
   "execution_count": 7,
   "metadata": {},
   "outputs": [],
   "source": [
    "mat = np.random.randn(100,2)"
   ]
  },
  {
   "cell_type": "code",
   "execution_count": 8,
   "metadata": {},
   "outputs": [
    {
     "data": {
      "text/plain": [
       "array([[ 0.97610872, -0.31438198],\n",
       "       [ 0.07051569, -0.62389549],\n",
       "       [ 0.45843617,  0.65600683],\n",
       "       [ 1.41351505,  1.4761616 ],\n",
       "       [-1.47335427, -1.33462722],\n",
       "       [ 1.00398083, -0.0804127 ],\n",
       "       [ 0.33051689, -1.98119765],\n",
       "       [-1.48951205,  0.05283794],\n",
       "       [-0.16410765, -0.71491072],\n",
       "       [-0.77765348, -0.31821912],\n",
       "       [ 0.36667256, -1.02096091],\n",
       "       [-0.86810903, -0.12555747],\n",
       "       [ 0.89428492, -1.40874682],\n",
       "       [ 0.22010377, -1.28023229],\n",
       "       [-2.39320838,  1.21673659],\n",
       "       [ 0.21062677,  0.89944309],\n",
       "       [-0.21222878,  0.31297677],\n",
       "       [ 0.53718228, -0.99706602],\n",
       "       [-1.24079098,  0.30849413],\n",
       "       [ 0.34122035, -1.78389171],\n",
       "       [-0.54907238,  0.65620526],\n",
       "       [ 1.41622372, -1.43651015],\n",
       "       [ 1.07392998, -1.02568736],\n",
       "       [-0.39636133,  1.09891087],\n",
       "       [ 0.3796337 , -0.11056506],\n",
       "       [-0.93568429, -1.01773738],\n",
       "       [ 0.39267114,  0.35869911],\n",
       "       [-0.34682816,  0.44971776],\n",
       "       [ 0.52486796, -1.36762117],\n",
       "       [-0.24488391, -1.4687991 ],\n",
       "       [-1.23851824,  0.3243843 ],\n",
       "       [ 1.82036016,  1.09643078],\n",
       "       [ 0.65020842,  0.98180652],\n",
       "       [-0.23918487,  1.27103278],\n",
       "       [-0.10929975,  1.69129205],\n",
       "       [ 0.39295693,  1.4241476 ],\n",
       "       [ 1.36796945, -0.64156914],\n",
       "       [-0.16971764,  0.6672405 ],\n",
       "       [ 0.26568398, -1.18591153],\n",
       "       [-0.81318875,  1.12471316],\n",
       "       [ 0.89638635,  1.31493386],\n",
       "       [ 0.97975014,  1.33017432],\n",
       "       [ 0.91924575,  0.82037528],\n",
       "       [-0.21666522, -0.40112821],\n",
       "       [-0.48917217, -0.73068374],\n",
       "       [ 0.57189905,  0.68340608],\n",
       "       [ 0.23895935, -2.13987475],\n",
       "       [-1.43591738, -0.84378787],\n",
       "       [ 0.92918967, -1.82071097],\n",
       "       [-1.82128021, -0.03638962],\n",
       "       [ 2.01257042, -1.14221473],\n",
       "       [ 1.15577445,  0.94385065],\n",
       "       [-1.55090182,  0.20846529],\n",
       "       [ 0.1162313 ,  1.67786235],\n",
       "       [ 1.7509336 ,  0.51337686],\n",
       "       [ 0.53460541, -1.93818407],\n",
       "       [ 0.3672384 ,  0.02702211],\n",
       "       [-1.17199681, -0.26365968],\n",
       "       [-0.67345319, -0.95365502],\n",
       "       [ 2.28352339,  0.77344214],\n",
       "       [ 0.09918046, -0.16807317],\n",
       "       [ 0.44817377,  1.52795176],\n",
       "       [-0.48177476, -1.31080626],\n",
       "       [ 1.00737027,  1.67921597],\n",
       "       [-0.82367648,  0.79095913],\n",
       "       [-1.06919727,  0.4859645 ],\n",
       "       [ 0.94942555,  2.08274032],\n",
       "       [ 0.69858809,  0.31820657],\n",
       "       [ 0.30172598, -0.53843223],\n",
       "       [ 1.13038839,  0.22428135],\n",
       "       [-2.92846291,  0.79181566],\n",
       "       [-0.40905583,  0.7055548 ],\n",
       "       [ 0.79458075,  0.8108871 ],\n",
       "       [ 0.05555137,  1.80127078],\n",
       "       [-0.40739039,  0.93183843],\n",
       "       [ 0.32312668, -1.24917806],\n",
       "       [-0.17567318, -0.26310224],\n",
       "       [-0.23885274,  1.36547383],\n",
       "       [-0.50206893,  0.59599255],\n",
       "       [-0.27323892,  0.26423344],\n",
       "       [-0.91540427,  2.32211917],\n",
       "       [ 1.09360996,  0.58490193],\n",
       "       [ 0.84442062, -1.74935604],\n",
       "       [-0.6826818 ,  0.94947292],\n",
       "       [-0.3941688 ,  0.72106759],\n",
       "       [ 0.12899978,  1.68221892],\n",
       "       [ 0.95838784,  0.70659652],\n",
       "       [-0.13859485, -1.02239754],\n",
       "       [ 0.25203451, -0.79214251],\n",
       "       [ 0.4857743 , -1.03172098],\n",
       "       [-2.3007851 , -0.65231235],\n",
       "       [ 0.49340715,  0.60174452],\n",
       "       [-0.83436519, -0.24694835],\n",
       "       [-0.99938479, -2.4952328 ],\n",
       "       [-0.50312764,  0.77959746],\n",
       "       [ 0.30905211,  0.45397734],\n",
       "       [ 0.85873417, -1.9564331 ],\n",
       "       [-0.15644485, -1.20767157],\n",
       "       [-2.04157552, -0.83319417],\n",
       "       [ 0.06709026,  0.03893465]])"
      ]
     },
     "execution_count": 8,
     "metadata": {},
     "output_type": "execute_result"
    }
   ],
   "source": [
    "mat"
   ]
  },
  {
   "cell_type": "code",
   "execution_count": 9,
   "metadata": {},
   "outputs": [],
   "source": [
    "def distance(mat,x,y):\n",
    "    new_point = np.array([[x,y]])\n",
    "    dist = mat - new_point\n",
    "    dist = np.square(dist)\n",
    "    dist = dist.sum(1)\n",
    "    dist = np.sqrt(dist)\n",
    "    dist = dist.argsort()\n",
    "    return dist"
   ]
  },
  {
   "cell_type": "code",
   "execution_count": 10,
   "metadata": {},
   "outputs": [],
   "source": [
    "def new_dist(mat,x,y):\n",
    "    r = np.array([[x,y]])\n",
    "    dist = np.linalg.norm(mat-r,axis=1)\n",
    "    return dist"
   ]
  },
  {
   "cell_type": "code",
   "execution_count": 11,
   "metadata": {},
   "outputs": [
    {
     "data": {
      "text/plain": [
       "array([1.01595045, 0.82442289, 0.58001614, 1.8313684 , 2.19784539,\n",
       "       0.94647379, 2.19334476, 1.59630988, 0.95226807, 1.01922848,\n",
       "       1.24974389, 1.02138276, 1.79414461, 1.48509682, 2.69255294,\n",
       "       0.70813764, 0.33204   , 1.27440001, 1.34517338, 1.99850283,\n",
       "       0.79335881, 2.10014532, 1.5655188 , 1.02684728, 0.41790629,\n",
       "       1.59860135, 0.33292913, 0.51187338, 1.62417639, 1.70406437,\n",
       "       1.34428514, 1.93990392, 0.95600771, 1.12345787, 1.50590782,\n",
       "       1.25871407, 1.52183611, 0.53950097, 1.39578005, 1.29961845,\n",
       "       1.37014917, 1.43222006, 1.02763276, 0.67943505, 1.10149719,\n",
       "       0.67555174, 2.34399735, 1.85702324, 2.1842226 , 1.93576799,\n",
       "       2.33655002, 1.29150048, 1.65092353, 1.47795149, 1.68041269,\n",
       "       2.18190581, 0.31833585, 1.35386712, 1.38893835, 2.25756733,\n",
       "       0.36807408, 1.37283679, 1.61894948, 1.73533878, 1.09654499,\n",
       "       1.20366023, 2.0654866 , 0.61014793, 0.76549039, 1.03067444,\n",
       "       3.08574681, 0.71744233, 0.92500025, 1.60188757, 0.89052372,\n",
       "       1.4662546 , 0.53894284, 1.21373408, 0.72062271, 0.37872579,\n",
       "       2.35253812, 1.06555631, 2.08666026, 1.08365145, 0.71813247,\n",
       "       1.48250259, 0.99672951, 1.24546507, 1.0037237 , 1.29072011,\n",
       "       2.54758817, 0.56228805, 1.03576114, 2.91082922, 0.83647843,\n",
       "       0.32894875, 2.28601865, 1.43084004, 2.37777962, 0.16439312])"
      ]
     },
     "execution_count": 11,
     "metadata": {},
     "output_type": "execute_result"
    }
   ],
   "source": [
    "new_dist(mat,0.1,0.2)"
   ]
  },
  {
   "cell_type": "code",
   "execution_count": 12,
   "metadata": {},
   "outputs": [
    {
     "data": {
      "text/plain": [
       "array([99, 56, 95, 16, 26, 60, 79, 24, 27, 76, 37, 91,  2, 67, 45, 43, 15,\n",
       "       71, 84, 78, 68, 20,  1, 94, 74, 72,  5,  8, 32, 86, 88,  0,  9, 11,\n",
       "       23, 42, 69, 92, 81, 83, 64, 44, 33, 65, 77, 87, 10, 35, 17, 89, 51,\n",
       "       39, 30, 18, 57, 40, 61, 58, 38, 97, 41, 75, 53, 85, 13, 34, 36, 22,\n",
       "        7, 25, 73, 62, 28, 52, 54, 29, 63, 12,  3, 47, 49, 31, 19, 66, 82,\n",
       "       21, 55, 48,  6,  4, 59, 96, 50, 46, 80, 98, 90, 14, 93, 70],\n",
       "      dtype=int64)"
      ]
     },
     "execution_count": 12,
     "metadata": {},
     "output_type": "execute_result"
    }
   ],
   "source": [
    "distance(mat,0.1,0.2)"
   ]
  },
  {
   "cell_type": "code",
   "execution_count": 13,
   "metadata": {},
   "outputs": [
    {
     "ename": "NameError",
     "evalue": "name 'arr' is not defined",
     "output_type": "error",
     "traceback": [
      "\u001b[1;31m---------------------------------------------------------------------------\u001b[0m",
      "\u001b[1;31mNameError\u001b[0m                                 Traceback (most recent call last)",
      "\u001b[1;32m<ipython-input-13-dec0ae7b70e0>\u001b[0m in \u001b[0;36m<module>\u001b[1;34m\u001b[0m\n\u001b[1;32m----> 1\u001b[1;33m \u001b[0mmat\u001b[0m\u001b[1;33m[\u001b[0m\u001b[0marr\u001b[0m\u001b[1;33m[\u001b[0m\u001b[1;33m:\u001b[0m\u001b[1;36m5\u001b[0m\u001b[1;33m]\u001b[0m\u001b[1;33m]\u001b[0m\u001b[1;33m\u001b[0m\u001b[1;33m\u001b[0m\u001b[0m\n\u001b[0m",
      "\u001b[1;31mNameError\u001b[0m: name 'arr' is not defined"
     ]
    }
   ],
   "source": [
    "mat[arr[:5]]"
   ]
  },
  {
   "cell_type": "code",
   "execution_count": 14,
   "metadata": {},
   "outputs": [
    {
     "ename": "NameError",
     "evalue": "name 'arr' is not defined",
     "output_type": "error",
     "traceback": [
      "\u001b[1;31m---------------------------------------------------------------------------\u001b[0m",
      "\u001b[1;31mNameError\u001b[0m                                 Traceback (most recent call last)",
      "\u001b[1;32m<ipython-input-14-1e7782e4a174>\u001b[0m in \u001b[0;36m<module>\u001b[1;34m\u001b[0m\n\u001b[1;32m----> 1\u001b[1;33m \u001b[0ma\u001b[0m \u001b[1;33m=\u001b[0m \u001b[0mmat\u001b[0m\u001b[1;33m[\u001b[0m\u001b[0marr\u001b[0m\u001b[1;33m[\u001b[0m\u001b[1;33m:\u001b[0m\u001b[1;36m5\u001b[0m\u001b[1;33m]\u001b[0m\u001b[1;33m]\u001b[0m\u001b[1;33m\u001b[0m\u001b[1;33m\u001b[0m\u001b[0m\n\u001b[0m",
      "\u001b[1;31mNameError\u001b[0m: name 'arr' is not defined"
     ]
    }
   ],
   "source": [
    "a = mat[arr[:5]] "
   ]
  },
  {
   "cell_type": "code",
   "execution_count": 15,
   "metadata": {},
   "outputs": [
    {
     "ename": "NameError",
     "evalue": "name 'a' is not defined",
     "output_type": "error",
     "traceback": [
      "\u001b[1;31m---------------------------------------------------------------------------\u001b[0m",
      "\u001b[1;31mNameError\u001b[0m                                 Traceback (most recent call last)",
      "\u001b[1;32m<ipython-input-15-1b9aca290477>\u001b[0m in \u001b[0;36m<module>\u001b[1;34m\u001b[0m\n\u001b[1;32m----> 1\u001b[1;33m \u001b[0mx\u001b[0m \u001b[1;33m=\u001b[0m \u001b[0ma\u001b[0m\u001b[1;33m[\u001b[0m\u001b[1;33m:\u001b[0m \u001b[1;33m,\u001b[0m\u001b[1;36m0\u001b[0m\u001b[1;33m]\u001b[0m\u001b[1;33m\u001b[0m\u001b[1;33m\u001b[0m\u001b[0m\n\u001b[0m\u001b[0;32m      2\u001b[0m \u001b[0my\u001b[0m \u001b[1;33m=\u001b[0m \u001b[0ma\u001b[0m\u001b[1;33m[\u001b[0m\u001b[1;33m:\u001b[0m \u001b[1;33m,\u001b[0m\u001b[1;36m1\u001b[0m\u001b[1;33m]\u001b[0m\u001b[1;33m\u001b[0m\u001b[1;33m\u001b[0m\u001b[0m\n",
      "\u001b[1;31mNameError\u001b[0m: name 'a' is not defined"
     ]
    }
   ],
   "source": [
    "x = a[: ,0]\n",
    "y = a[: ,1]\n"
   ]
  },
  {
   "cell_type": "code",
   "execution_count": 16,
   "metadata": {},
   "outputs": [
    {
     "ename": "NameError",
     "evalue": "name 'x' is not defined",
     "output_type": "error",
     "traceback": [
      "\u001b[1;31m---------------------------------------------------------------------------\u001b[0m",
      "\u001b[1;31mNameError\u001b[0m                                 Traceback (most recent call last)",
      "\u001b[1;32m<ipython-input-16-1980af8ecb9f>\u001b[0m in \u001b[0;36m<module>\u001b[1;34m\u001b[0m\n\u001b[1;32m----> 1\u001b[1;33m \u001b[0mplt\u001b[0m\u001b[1;33m.\u001b[0m\u001b[0mscatter\u001b[0m\u001b[1;33m(\u001b[0m\u001b[0mx\u001b[0m\u001b[1;33m,\u001b[0m\u001b[0my\u001b[0m\u001b[1;33m,\u001b[0m\u001b[0mc\u001b[0m\u001b[1;33m=\u001b[0m\u001b[1;34m'Yellow'\u001b[0m\u001b[1;33m)\u001b[0m\u001b[1;33m\u001b[0m\u001b[1;33m\u001b[0m\u001b[0m\n\u001b[0m",
      "\u001b[1;31mNameError\u001b[0m: name 'x' is not defined"
     ]
    }
   ],
   "source": [
    "plt.scatter(x,y,c='Yellow')"
   ]
  },
  {
   "cell_type": "code",
   "execution_count": 17,
   "metadata": {},
   "outputs": [],
   "source": [
    "arr = np.random.randint(low=1,high=100,size=100)"
   ]
  },
  {
   "cell_type": "code",
   "execution_count": 18,
   "metadata": {},
   "outputs": [
    {
     "data": {
      "text/plain": [
       "array([75, 29, 35, 12,  5, 63,  4, 47, 33, 30, 65,  7, 18, 61, 12, 88, 22,\n",
       "       20, 22, 54, 55, 22, 20,  9, 46, 69, 51, 45, 93, 84, 42, 90, 78, 67,\n",
       "        9, 62, 34,  6, 25, 38, 66, 19, 57, 17, 68, 81, 13, 74, 89, 20, 15,\n",
       "       70,  5, 65, 79, 97, 95, 77, 36, 71, 67, 47, 95, 38, 22, 92, 25, 21,\n",
       "       90,  4, 48, 49, 33,  2, 85, 62, 75, 72, 63, 32, 66, 78, 34, 72,  3,\n",
       "       84,  7, 60, 56, 17, 81, 32, 73, 57, 29, 74, 53, 56, 42, 21])"
      ]
     },
     "execution_count": 18,
     "metadata": {},
     "output_type": "execute_result"
    }
   ],
   "source": [
    "arr"
   ]
  },
  {
   "cell_type": "code",
   "execution_count": 19,
   "metadata": {},
   "outputs": [
    {
     "data": {
      "text/plain": [
       "(array([22., 21., 16., 24., 17.]),\n",
       " array([ 2., 21., 40., 59., 78., 97.]),\n",
       " <a list of 5 Patch objects>)"
      ]
     },
     "execution_count": 19,
     "metadata": {},
     "output_type": "execute_result"
    },
    {
     "data": {
      "image/png": "[encoded data removed]",
      "text/plain": [
       "<Figure size 432x288 with 1 Axes>"
      ]
     },
     "metadata": {
      "needs_background": "light"
     },
     "output_type": "display_data"
    }
   ],
   "source": [
    "plt.hist(arr,bins=5)"
   ]
  },
  {
   "cell_type": "code",
   "execution_count": 20,
   "metadata": {},
   "outputs": [],
   "source": [
    "arr = np.random.rand(100)"
   ]
  },
  {
   "cell_type": "code",
   "execution_count": 21,
   "metadata": {},
   "outputs": [
    {
     "data": {
      "text/plain": [
       "0.53579809"
      ]
     },
     "execution_count": 21,
     "metadata": {},
     "output_type": "execute_result"
    }
   ],
   "source": [
    "(0.26667805 + 0.80491813) / 2"
   ]
  },
  {
   "cell_type": "code",
   "execution_count": 22,
   "metadata": {},
   "outputs": [
    {
     "data": {
      "text/plain": [
       "array([0.18209814, 0.05345058, 0.54853603, 0.19123507, 0.31037178,\n",
       "       0.40798323, 0.01047549, 0.93029199, 0.2766706 , 0.72631567,\n",
       "       0.74626047, 0.63292156, 0.78937716, 0.92591425, 0.87942428,\n",
       "       0.23752924, 0.56462105, 0.07881043, 0.71930485, 0.53717554,\n",
       "       0.10239582, 0.26412763, 0.92774326, 0.5058639 , 0.58435041,\n",
       "       0.33589984, 0.94662374, 0.59998209, 0.30269395, 0.05993588,\n",
       "       0.04728857, 0.0881311 , 0.61427782, 0.9239482 , 0.76867972,\n",
       "       0.26423615, 0.58437778, 0.95331869, 0.35800391, 0.66637942,\n",
       "       0.84918358, 0.87025844, 0.27538303, 0.44587235, 0.58019964,\n",
       "       0.14714335, 0.98533206, 0.90203005, 0.50118733, 0.56753862,\n",
       "       0.19474275, 0.1523343 , 0.9550825 , 0.46205587, 0.58586855,\n",
       "       0.74295737, 0.84287863, 0.00267083, 0.832404  , 0.95180083,\n",
       "       0.63366282, 0.7092861 , 0.24370614, 0.21505905, 0.19627373,\n",
       "       0.97726693, 0.39589856, 0.62951616, 0.94707515, 0.69384994,\n",
       "       0.80851003, 0.26001381, 0.04942194, 0.12801028, 0.29041052,\n",
       "       0.41013078, 0.69808908, 0.39708499, 0.0053276 , 0.20519695,\n",
       "       0.10278801, 0.75306366, 0.67881263, 0.23610122, 0.33069691,\n",
       "       0.23222088, 0.43540969, 0.99936655, 0.90643102, 0.73150626,\n",
       "       0.39115197, 0.93433022, 0.13869594, 0.03818385, 0.71979581,\n",
       "       0.55705104, 0.6388781 , 0.84526762, 0.51275918, 0.70006506])"
      ]
     },
     "execution_count": 22,
     "metadata": {},
     "output_type": "execute_result"
    }
   ],
   "source": [
    "arr"
   ]
  },
  {
   "cell_type": "code",
   "execution_count": 23,
   "metadata": {},
   "outputs": [],
   "source": [
    "def y_s1(arr):\n",
    "    y = np.arange(101)\n",
    "    c = 1/y[1:]\n",
    "    r =  np.sqrt(c)\n",
    "    return r\n",
    "        "
   ]
  },
  {
   "cell_type": "code",
   "execution_count": 24,
   "metadata": {},
   "outputs": [],
   "source": [
    "def y_s(arr):\n",
    "    ind = 1\n",
    "    y = np.array([])\n",
    "    for x in arr:\n",
    "        r = arr[:ind].sum() / ind\n",
    "        t = np.array([r])\n",
    "        y = np.append(y,t)\n",
    "        ind += 1\n",
    "    return y\n",
    "        "
   ]
  },
  {
   "cell_type": "code",
   "execution_count": 25,
   "metadata": {},
   "outputs": [
    {
     "data": {
      "text/plain": [
       "array([0.18209814, 0.11777436, 0.26136158, 0.24382995, 0.25713832,\n",
       "       0.28227914, 0.24345005, 0.32930529, 0.32345699, 0.36374286,\n",
       "       0.39851719, 0.41805088, 0.44661444, 0.48085014, 0.50742175,\n",
       "       0.49055347, 0.49491039, 0.47179372, 0.48482063, 0.48743837,\n",
       "       0.46910301, 0.45978595, 0.48013192, 0.48120408, 0.48532994,\n",
       "       0.47958263, 0.49688044, 0.50056265, 0.49373959, 0.47927946,\n",
       "       0.46534427, 0.45355636, 0.45842671, 0.47211852, 0.4805917 ,\n",
       "       0.47458182, 0.47754928, 0.49006953, 0.48668323, 0.49117563,\n",
       "       0.49990753, 0.50872541, 0.50329885, 0.5019937 , 0.50373161,\n",
       "       0.49597969, 0.50639144, 0.51463391, 0.51435949, 0.51542308,\n",
       "       0.50913523, 0.50227367, 0.51081723, 0.50991424, 0.51129523,\n",
       "       0.51543206, 0.52117673, 0.51223698, 0.51766354, 0.52489916,\n",
       "       0.52668217, 0.52962739, 0.52508896, 0.52024474, 0.51526057,\n",
       "       0.52226067, 0.52037467, 0.52197969, 0.52814049, 0.53050777,\n",
       "       0.5344233 , 0.53061205, 0.52402041, 0.51866892, 0.51562547,\n",
       "       0.51423739, 0.51662507, 0.51509251, 0.50863978, 0.50484675,\n",
       "       0.49988306, 0.50297063, 0.50508921, 0.50188697, 0.49987297,\n",
       "       0.49676074, 0.49605555, 0.50177499, 0.50632169, 0.50882374,\n",
       "       0.50753065, 0.51216977, 0.50815392, 0.50315424, 0.50543468,\n",
       "       0.50597235, 0.50734251, 0.51079073, 0.51081061, 0.51270316])"
      ]
     },
     "execution_count": 25,
     "metadata": {},
     "output_type": "execute_result"
    }
   ],
   "source": [
    "y_s(arr)"
   ]
  },
  {
   "cell_type": "code",
   "execution_count": 26,
   "metadata": {},
   "outputs": [
    {
     "data": {
      "text/plain": [
       "[<matplotlib.lines.Line2D at 0x11bb9862d08>]"
      ]
     },
     "execution_count": 26,
     "metadata": {},
     "output_type": "execute_result"
    },
    {
     "data": {
      "image/png": "[encoded data removed]",
      "text/plain": [
       "<Figure size 432x288 with 1 Axes>"
      ]
     },
     "metadata": {
      "needs_background": "light"
     },
     "output_type": "display_data"
    }
   ],
   "source": [
    "plt.plot(arr,y_s(arr))"
   ]
  },
  {
   "cell_type": "code",
   "execution_count": 27,
   "metadata": {},
   "outputs": [
    {
     "data": {
      "text/plain": [
       "<matplotlib.collections.PathCollection at 0x11bb98d0608>"
      ]
     },
     "execution_count": 27,
     "metadata": {},
     "output_type": "execute_result"
    },
    {
     "data": {
      "image/png": "[encoded data removed]",
      "text/plain": [
       "<Figure size 432x288 with 1 Axes>"
      ]
     },
     "metadata": {
      "needs_background": "light"
     },
     "output_type": "display_data"
    }
   ],
   "source": [
    "plt.scatter(np.arange(101)[1:],y_s1(arr),np.arange(101)[1:],-y_s1(arr))"
   ]
  },
  {
   "cell_type": "markdown",
   "metadata": {},
   "source": [
    "we have to discuss sih"
   ]
  },
  {
   "cell_type": "code",
   "execution_count": 28,
   "metadata": {},
   "outputs": [
    {
     "data": {
      "text/plain": [
       "Text(0, 0.5, 'U')"
      ]
     },
     "execution_count": 28,
     "metadata": {},
     "output_type": "execute_result"
    },
    {
     "data": {
      "image/png": "[encoded data removed]",
      "text/plain": [
       "<Figure size 432x288 with 1 Axes>"
      ]
     },
     "metadata": {
      "needs_background": "light"
     },
     "output_type": "display_data"
    }
   ],
   "source": [
    "plt.xlabel('Fk')\n",
    "plt.ylabel('U')"
   ]
  },
  {
   "cell_type": "code",
   "execution_count": 29,
   "metadata": {},
   "outputs": [],
   "source": [
    "x = 2*np.random.randn(100,2)-1"
   ]
  },
  {
   "cell_type": "code",
   "execution_count": 30,
   "metadata": {},
   "outputs": [],
   "source": [
    "new_point = np.array([0.1,0.2])"
   ]
  },
  {
   "cell_type": "code",
   "execution_count": 47,
   "metadata": {},
   "outputs": [],
   "source": [
    "def angle(x,new_point):\n",
    "    dp = np.dot(x,new_point)\n",
    "#     dp = x * new_point\n",
    "    p = np.argsort(dp)\n",
    "    p = p.reshape((100,1))\n",
    "    p = x[p[:,0]]\n",
    "    return p\n",
    "        \n",
    "    "
   ]
  },
  {
   "cell_type": "code",
   "execution_count": 48,
   "metadata": {},
   "outputs": [],
   "source": [
    "o = angle(x,new_point)\n",
    "# o[:,0]\n",
    "# o = o.reshape((100,1))"
   ]
  },
  {
   "cell_type": "code",
   "execution_count": 49,
   "metadata": {},
   "outputs": [],
   "source": [
    "k=o[-6:-1]"
   ]
  },
  {
   "cell_type": "code",
   "execution_count": 50,
   "metadata": {},
   "outputs": [
    {
     "data": {
      "text/plain": [
       "[<matplotlib.lines.Line2D at 0x11bb9b1f208>]"
      ]
     },
     "execution_count": 50,
     "metadata": {},
     "output_type": "execute_result"
    },
    {
     "data": {
      "image/png": "[encoded data removed]",
      "text/plain": [
       "<Figure size 432x288 with 1 Axes>"
      ]
     },
     "metadata": {
      "needs_background": "light"
     },
     "output_type": "display_data"
    }
   ],
   "source": [
    "plt.plot(k[:,0],k[:,1],'o')"
   ]
  },
  {
   "cell_type": "code",
   "execution_count": null,
   "metadata": {},
   "outputs": [],
   "source": []
  },
  {
   "cell_type": "code",
   "execution_count": null,
   "metadata": {},
   "outputs": [],
   "source": []
  }
 ],
 "metadata": {
  "kernelspec": {
   "display_name": "Python 3",
   "language": "python",
   "name": "python3"
  },
  "language_info": {
   "codemirror_mode": {
    "name": "ipython",
    "version": 3
   },
   "file_extension": ".py",
   "mimetype": "text/x-python",
   "name": "python",
   "nbconvert_exporter": "python",
   "pygments_lexer": "ipython3",
   "version": "3.7.4"
  }
 },
 "nbformat": 4,
 "nbformat_minor": 2
}
