{
 "cells": [
  {
   "cell_type": "code",
   "execution_count": 1,
   "metadata": {},
   "outputs": [],
   "source": [
    "import numpy as np"
   ]
  },
  {
   "cell_type": "code",
   "execution_count": 2,
   "metadata": {},
   "outputs": [],
   "source": [
    "from matplotlib import pyplot as plt"
   ]
  },
  {
   "cell_type": "code",
   "execution_count": null,
   "metadata": {},
   "outputs": [],
   "source": [
    "class gradientDescent2D:\n",
    "    \n",
    "    def __init__(self,lr,a,b):\n",
    "        \n",
    "        self.weights = 2 * np.random.rand(2) - 1\n",
    "        self.lr = lr\n",
    "        self.a = a\n",
    "        self.b = b\n",
    "        self.lossf = lambda x,y : (a)*np.power(x,2) + (b)*np.power(y,2)\n",
    "        self.tol = 0.000001       \n",
    "        \n",
    "    def p_diff(self,ws):\n",
    "        \n",
    "        loss_w1 = 2*a\n",
    "        loss_w2 = 2*b\n",
    "        \n",
    "        return [loss_w1,loss_w2]\n",
    "        \n",
    "        \n",
    "        \n",
    "        \n",
    "    def runDescent(self):\n",
    "        \n",
    "        diff = self.p_diff(self.weights)\n",
    "        \n",
    "        stepsize_w1 = self.lr * diff[0]\n",
    "        stepsize_w2 = self.lr * diff[1]\n",
    "        \n",
    "        while abs(stepsize_w1) > self.tol or abs(stepsize_w2) > self.tol:\n",
    "        \n",
    "        \n",
    "            if(abs(stepsize_w1) > self.tol):                \n",
    "                self.weights[0] -= stepsize_w1\n",
    "                \n",
    "            if(abs(stepsize_w2) > self.tol):\n",
    "                self.weights[1] -= stepsize_w2\n",
    "        \n",
    "        \n",
    "    \n",
    "    \n",
    "    \n",
    "    \n",
    "    def createPlot(self):\n",
    "        \n",
    "        \n",
    "    \n",
    "    \n",
    "    \n",
    "    \n",
    "    \n",
    "    \n",
    "    \n",
    "    \n",
    "    "
   ]
  }
 ],
 "metadata": {
  "kernelspec": {
   "display_name": "Python 3",
   "language": "python",
   "name": "python3"
  },
  "language_info": {
   "codemirror_mode": {
    "name": "ipython",
    "version": 3
   },
   "file_extension": ".py",
   "mimetype": "text/x-python",
   "name": "python",
   "nbconvert_exporter": "python",
   "pygments_lexer": "ipython3",
   "version": "3.7.4"
  }
 },
 "nbformat": 4,
 "nbformat_minor": 2
}
