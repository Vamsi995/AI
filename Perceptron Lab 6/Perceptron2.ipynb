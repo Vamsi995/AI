{
 "cells": [
  {
   "cell_type": "code",
   "execution_count": 4,
   "metadata": {},
   "outputs": [],
   "source": [
    "import numpy as np"
   ]
  },
  {
   "cell_type": "code",
   "execution_count": 5,
   "metadata": {},
   "outputs": [],
   "source": [
    "from matplotlib import pyplot as plt"
   ]
  },
  {
   "cell_type": "code",
   "execution_count": 6,
   "metadata": {},
   "outputs": [],
   "source": [
    "import time"
   ]
  },
  {
   "cell_type": "code",
   "execution_count": 12,
   "metadata": {},
   "outputs": [],
   "source": [
    "class perceptron:\n",
    "    \n",
    "    def __init__(self,d,gamma,bias,R,n):\n",
    "        \n",
    "        self.d = d\n",
    "        self.gamma = gamma\n",
    "        self.bias = bias\n",
    "        self.R = R\n",
    "        self.n = n\n",
    "        \n",
    "        \n",
    "        weights = 2 * np.random.rand(d) - 1\n",
    "        mod = np.linalg.norm(weights)\n",
    "        self.weights = weights/mod\n",
    "        \n",
    "        \n",
    "        p_label = np.zeros((d))\n",
    "        n_label = np.zeros((d))\n",
    "        \n",
    "        \n",
    "        while len(p_label) <= n/2 or len(n_label) <= n/2:\n",
    "            \n",
    "            data = np.random.uniform(-R,R,d)\n",
    "            \n",
    "            if(np.linalg.norm(data) <= R):                \n",
    "\n",
    "                if(np.dot(self.weights,data.T) >= self.gamma):\n",
    "                    if(len(p_label) <= n/2):\n",
    "                        p_label = np.vstack([p_label,data])\n",
    "\n",
    "                elif(np.dot(self.weights,data.T) <= -self.gamma):\n",
    "                    if(len(n_label <= n/2)):\n",
    "                        n_label = np.vstack([n_label,data])\n",
    "\n",
    "                        \n",
    "        \n",
    "        labels = np.ones((len(p_label),1))\n",
    "        p_label = np.hstack([p_label,labels])\n",
    "        \n",
    "        \n",
    "        labels = np.full((len(n_label),1),-1)\n",
    "        n_label = np.hstack([n_label,labels])\n",
    "        \n",
    "        \n",
    "\n",
    "        self.dataset = np.vstack([p_label[1:],n_label[1:]])\n",
    "        \n",
    "        #     Plotting Lines\n",
    "        \n",
    "        \n",
    "        self.findHyperplanes()\n",
    "\n",
    "\n",
    "\n",
    "\n",
    "            \n",
    "    def check(self):\n",
    "\n",
    "        for pts in self.dataset:\n",
    "\n",
    "            label = pts[-1]\n",
    "            point = pts[:self.d]\n",
    "            \n",
    "            if(label * np.dot(self.weights,point.T) <= 0):\n",
    "                return True\n",
    "\n",
    "        return False\n",
    "\n",
    "    \n",
    "    def train(self):\n",
    "        iterations = 0\n",
    "    \n",
    "        self.weights = np.zeros((self.d))\n",
    "\n",
    "        while(self.check()):\n",
    "\n",
    "            ind = np.random.randint(len(self.dataset))\n",
    "\n",
    "            point = self.dataset[ind]\n",
    "            label = point[-1]\n",
    "            point = point[:self.d]\n",
    "\n",
    "            if(label * np.dot(self.weights,point.T) <= 0):\n",
    "                self.weights += label * point\n",
    "                print(self.weights)\n",
    "                iterations += 1\n",
    "        \n",
    "        self.findHyperplanes()\n",
    "\n",
    "        return iterations\n",
    "\n",
    "\n",
    "    def findHyperplanes(self):\n",
    "        \n",
    "        \n",
    "        if(self.d == 1):\n",
    "            self.weights /= np.linalg.norm(self.weights)\n",
    "    \n",
    "            self.sepline_p = np.array([[self.weights*(self.bias - self.gamma),0]])\n",
    "            self.sepline_n = np.array([[self.weights*(self.bias + self.gamma),0]])\n",
    "            self.classifier = np.array([[self.bias*self.weights,0]])\n",
    "        \n",
    "        \n",
    "        if(self.d == 2):\n",
    "        \n",
    "        #     Plotting Lines\n",
    "            self.weights /= np.linalg.norm(self.weights)\n",
    "            per_p = (self.gamma - self.bias) * self.weights\n",
    "            per_n = - per_p\n",
    "\n",
    "            xs = np.random.uniform(-self.R,self.R,100)\n",
    "            mat = np.array([-self.weights[1],self.weights[0]])\n",
    "\n",
    "            p_set = np.array([[0,0]])\n",
    "            n_set = np.array([[0,0]])\n",
    "            actual = np.array([[0,0]])\n",
    "\n",
    "\n",
    "            for t in xs:\n",
    "\n",
    "                p = t * mat + per_p\n",
    "                n = t * mat + per_n\n",
    "                a = t * mat\n",
    "\n",
    "                p_set = np.vstack([p_set,p])\n",
    "                n_set = np.vstack([n_set,n])\n",
    "                actual = np.vstack([actual,a])\n",
    "\n",
    "            self.sepline_p = p_set[1:]\n",
    "            self.sepline_n = n_set[1:]\n",
    "            self.classifier = actual[1:]\n",
    "            \n",
    "    def plotpoints(self):\n",
    "        print(self.weights)\n",
    "        \n",
    "#         Plotting the dataset\n",
    "        data1 = brain.dataset[np.where(1 == brain.dataset[:,brain.d])[0]]\n",
    "        data2 = brain.dataset[np.where(-1 == brain.dataset[:,brain.d])[0]]\n",
    "        \n",
    "        \n",
    "        if self.d == 2:\n",
    "        \n",
    "            plt.plot(data1[:,0],data1[:,1],'or')\n",
    "            plt.plot(data2[:,0],data2[:,1],'og')\n",
    "                    \n",
    "#         Plotting the separation lines\n",
    "            plt.plot(self.sepline_p[:,0],self.sepline_p[:,1])\n",
    "            plt.plot(self.sepline_n[:,0],self.sepline_n[:,1])\n",
    "            plt.plot(self.classifier[:,0],self.classifier[:,1])\n",
    "          \n",
    "        \n",
    "        if self.d == 1:\n",
    "            plt.plot(data1[:,0],np.zeros((len(data1))),'or')\n",
    "            plt.plot(data2[:,0],np.zeros((len(data2))),'og')\n",
    "        \n",
    "#         Plotting the separation lines\n",
    "            plt.plot(self.sepline_p[:,0],self.sepline_p[:,1],'y*')\n",
    "            plt.plot(self.sepline_n[:,0],self.sepline_n[:,1],'y*')\n",
    "            plt.plot(self.classifier[:,0],self.classifier[:,1],'y*')\n",
    "            \n",
    "            \n",
    "            \n",
    "         \n",
    "\n",
    "       \n",
    "\n",
    "\n",
    "            \n",
    "    "
   ]
  },
  {
   "cell_type": "code",
   "execution_count": 13,
   "metadata": {},
   "outputs": [],
   "source": [
    "brain = perceptron(d = 1,bias = 0 ,gamma = 0.1,R = 10, n = 1000)"
   ]
  },
  {
   "cell_type": "code",
   "execution_count": 14,
   "metadata": {},
   "outputs": [
    {
     "name": "stdout",
     "output_type": "stream",
     "text": [
      "[-1.]\n"
     ]
    },
    {
     "data": {
      "image/png": "[encoded data removed]",
      "text/plain": [
       "<Figure size 432x288 with 1 Axes>"
      ]
     },
     "metadata": {
      "needs_background": "light"
     },
     "output_type": "display_data"
    }
   ],
   "source": [
    "brain.plotpoints()"
   ]
  },
  {
   "cell_type": "code",
   "execution_count": 15,
   "metadata": {},
   "outputs": [
    {
     "name": "stdout",
     "output_type": "stream",
     "text": [
      "[-3.93149001]\n",
      "0.0029921531677246094\n"
     ]
    }
   ],
   "source": [
    "k = time.time()\n",
    "brain.train()\n",
    "t = time.time()\n",
    "print(t-k)"
   ]
  },
  {
   "cell_type": "code",
   "execution_count": 16,
   "metadata": {},
   "outputs": [
    {
     "name": "stdout",
     "output_type": "stream",
     "text": [
      "[-1.]\n"
     ]
    },
    {
     "data": {
      "image/png": "[encoded data removed]",
      "text/plain": [
       "<Figure size 432x288 with 1 Axes>"
      ]
     },
     "metadata": {
      "needs_background": "light"
     },
     "output_type": "display_data"
    }
   ],
   "source": [
    "brain.plotpoints()"
   ]
  },
  {
   "cell_type": "code",
   "execution_count": null,
   "metadata": {},
   "outputs": [],
   "source": []
  }
 ],
 "metadata": {
  "kernelspec": {
   "display_name": "Python 3",
   "language": "python",
   "name": "python3"
  },
  "language_info": {
   "codemirror_mode": {
    "name": "ipython",
    "version": 3
   },
   "file_extension": ".py",
   "mimetype": "text/x-python",
   "name": "python",
   "nbconvert_exporter": "python",
   "pygments_lexer": "ipython3",
   "version": "3.7.4"
  }
 },
 "nbformat": 4,
 "nbformat_minor": 2
}
