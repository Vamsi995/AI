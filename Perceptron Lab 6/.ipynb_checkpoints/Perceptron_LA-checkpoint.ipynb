{
 "cells": [
  {
   "cell_type": "code",
   "execution_count": 4,
   "metadata": {},
   "outputs": [],
   "source": [
    "import numpy as np"
   ]
  },
  {
   "cell_type": "code",
   "execution_count": 5,
   "metadata": {},
   "outputs": [],
   "source": [
    "from matplotlib import pyplot as plt"
   ]
  },
  {
   "cell_type": "code",
   "execution_count": 6,
   "metadata": {},
   "outputs": [],
   "source": [
    "class perceptron:\n",
    "    \n",
    "    def __init__(self,d,gamma,bias,R,n):\n",
    "        \n",
    "        self.d = d\n",
    "        self.gamma = gamma\n",
    "        self.bias = bias\n",
    "        self.R = R\n",
    "        self.n = n\n",
    "        \n",
    "        \n",
    "        weights = np.random.rand(d)\n",
    "        mod = np.linalg.norm(weights)\n",
    "        self.weights = weights/mod\n",
    "        \n",
    "        data = np.random.uniform(-R,R,d)\n",
    "        dataset = np.array(data)\n",
    "        \n",
    "        for t in range(1,n):\n",
    "            data = np.random.uniform(-R,R,d)\n",
    "            dataset = np.vstack([dataset,data])\n",
    "            \n",
    "        dataset = np.hstack([dataset,np.zeros((n,1))])    \n",
    "        \n",
    "        x = gamma * self.weights\n",
    "        \n",
    "        \n",
    "        for pt in dataset:\n",
    "           \n",
    "            point = pt[:d]\n",
    "        \n",
    "            if(np.linalg.norm(point) <= R):\n",
    "                if(np.dot(self.weights,point.T) > 0):\n",
    "                    if(np.dot(self.weights,point.T) >= self.gamma):\n",
    "                        pt[d] = 1\n",
    "                elif(np.dot(self.weights,point.T < 0)):\n",
    "\n",
    "                    if(np.dot(self.weights,point.T) < -self.gamma):\n",
    "                        pt[d] = -1\n",
    "                        \n",
    "        mask = np.where(0 != dataset[:,d])[0]\n",
    "        self.dataset = dataset[mask]\n",
    "#         self.dataset = dataset\n",
    "\n",
    "            \n",
    "    def check(self):\n",
    "        \n",
    "        for pts in self.dataset:\n",
    "            \n",
    "            label = pts[-1]\n",
    "            point = pts[:self.d]\n",
    "            \n",
    "            if(label * np.dot(self.weights,point.T) < self.gamma):\n",
    "                return True\n",
    "        \n",
    "        return False\n",
    "    \n",
    "    \n",
    "    def train(self):\n",
    "        iterations = 0\n",
    "        \n",
    "        self.weights = np.zeros((self.d))\n",
    "        \n",
    "        \n",
    "        while(self.check()):\n",
    "            iterations += 1\n",
    "            ind = np.random.randint(len(self.dataset))\n",
    "            \n",
    "            point = self.dataset[ind]\n",
    "            label = point[-1]\n",
    "            point = point[:self.d]\n",
    "            \n",
    "            if(label * np.dot(self.weights,point.T) >= self.gamma):\n",
    "                self.weights += point\n",
    "                print(self.weights)\n",
    "#                 self.weights /= np.linalg.norm(self.weights)\n",
    "        \n",
    "        return iterations"
   ]
  },
  {
   "cell_type": "code",
   "execution_count": 304,
   "metadata": {},
   "outputs": [],
   "source": [
    "brain = perceptron(1,2,0,10,100)"
   ]
  },
  {
   "cell_type": "code",
   "execution_count": 248,
   "metadata": {},
   "outputs": [
    {
     "data": {
      "text/plain": [
       "2"
      ]
     },
     "execution_count": 248,
     "metadata": {},
     "output_type": "execute_result"
    }
   ],
   "source": [
    "brain.train()"
   ]
  },
  {
   "cell_type": "code",
   "execution_count": 249,
   "metadata": {},
   "outputs": [
    {
     "data": {
      "text/plain": [
       "[<matplotlib.lines.Line2D at 0x1ba719cb088>]"
      ]
     },
     "execution_count": 249,
     "metadata": {},
     "output_type": "execute_result"
    },
    {
     "data": {
      "image/png": "[encoded data removed]",
      "text/plain": [
       "<Figure size 432x288 with 1 Axes>"
      ]
     },
     "metadata": {
      "needs_background": "light"
     },
     "output_type": "display_data"
    }
   ],
   "source": [
    "\n",
    "data1 = brain.dataset[np.where(1 == brain.dataset[:,brain.d])[0]]\n",
    "data2 = brain.dataset[np.where(-1 == brain.dataset[:,brain.d])[0]]\n",
    "plt.plot(data1,np.zeros((len(data1))),'ro')\n",
    "plt.plot(data2,np.zeros((len(data2))),'go')\n",
    "plt.plot(np.full((10),2),np.random.rand((10)))\n",
    "# plt.plot(np.full((10),2/brain.weights + brain.gamma),np.random.rand((10)))\n",
    "\n",
    "# plt.plot(brain.dataset[:,0],brain.dataset[:,1],'o')"
   ]
  },
  {
   "cell_type": "code",
   "execution_count": 138,
   "metadata": {},
   "outputs": [
    {
     "data": {
      "text/plain": [
       "array([1.])"
      ]
     },
     "execution_count": 138,
     "metadata": {},
     "output_type": "execute_result"
    }
   ],
   "source": [
    "brain.weights"
   ]
  },
  {
   "cell_type": "code",
   "execution_count": 7,
   "metadata": {},
   "outputs": [],
   "source": [
    "brain2d = perceptron(2,4,0,10,100)"
   ]
  },
  {
   "cell_type": "code",
   "execution_count": 8,
   "metadata": {},
   "outputs": [],
   "source": [
    "xs = brain2d.gamma * brain2d.weights"
   ]
  },
  {
   "cell_type": "code",
   "execution_count": 9,
   "metadata": {},
   "outputs": [],
   "source": [
    "lin = np.random.rand(100)*10\n",
    "mat = np.array([1,-1])\n",
    "k = np.array([[0,0]])\n",
    "\n",
    "for pts in lin:\n",
    "    \n",
    "    t = pts*mat + xs\n",
    "    k = np.vstack([k,t])\n",
    "\n",
    "k = k[1:]"
   ]
  },
  {
   "cell_type": "code",
   "execution_count": 341,
   "metadata": {},
   "outputs": [
    {
     "ename": "KeyboardInterrupt",
     "evalue": "",
     "output_type": "error",
     "traceback": [
      "\u001b[1;31m---------------------------------------------------------------------------\u001b[0m",
      "\u001b[1;31mKeyboardInterrupt\u001b[0m                         Traceback (most recent call last)",
      "\u001b[1;32m<ipython-input-341-0cfbb3f92c65>\u001b[0m in \u001b[0;36m<module>\u001b[1;34m\u001b[0m\n\u001b[1;32m----> 1\u001b[1;33m \u001b[0mbrain2d\u001b[0m\u001b[1;33m.\u001b[0m\u001b[0mtrain\u001b[0m\u001b[1;33m(\u001b[0m\u001b[1;33m)\u001b[0m\u001b[1;33m\u001b[0m\u001b[1;33m\u001b[0m\u001b[0m\n\u001b[0m",
      "\u001b[1;32m<ipython-input-339-8b9d9da89e89>\u001b[0m in \u001b[0;36mtrain\u001b[1;34m(self)\u001b[0m\n\u001b[0;32m     64\u001b[0m \u001b[1;33m\u001b[0m\u001b[0m\n\u001b[0;32m     65\u001b[0m \u001b[1;33m\u001b[0m\u001b[0m\n\u001b[1;32m---> 66\u001b[1;33m         \u001b[1;32mwhile\u001b[0m\u001b[1;33m(\u001b[0m\u001b[0mself\u001b[0m\u001b[1;33m.\u001b[0m\u001b[0mcheck\u001b[0m\u001b[1;33m(\u001b[0m\u001b[1;33m)\u001b[0m\u001b[1;33m)\u001b[0m\u001b[1;33m:\u001b[0m\u001b[1;33m\u001b[0m\u001b[1;33m\u001b[0m\u001b[0m\n\u001b[0m\u001b[0;32m     67\u001b[0m             \u001b[0miterations\u001b[0m \u001b[1;33m+=\u001b[0m \u001b[1;36m1\u001b[0m\u001b[1;33m\u001b[0m\u001b[1;33m\u001b[0m\u001b[0m\n\u001b[0;32m     68\u001b[0m             \u001b[0mind\u001b[0m \u001b[1;33m=\u001b[0m \u001b[0mnp\u001b[0m\u001b[1;33m.\u001b[0m\u001b[0mrandom\u001b[0m\u001b[1;33m.\u001b[0m\u001b[0mrandint\u001b[0m\u001b[1;33m(\u001b[0m\u001b[0mlen\u001b[0m\u001b[1;33m(\u001b[0m\u001b[0mself\u001b[0m\u001b[1;33m.\u001b[0m\u001b[0mdataset\u001b[0m\u001b[1;33m)\u001b[0m\u001b[1;33m)\u001b[0m\u001b[1;33m\u001b[0m\u001b[1;33m\u001b[0m\u001b[0m\n",
      "\u001b[1;32m<ipython-input-339-8b9d9da89e89>\u001b[0m in \u001b[0;36mcheck\u001b[1;34m(self)\u001b[0m\n\u001b[0;32m     52\u001b[0m             \u001b[0mpoint\u001b[0m \u001b[1;33m=\u001b[0m \u001b[0mpts\u001b[0m\u001b[1;33m[\u001b[0m\u001b[1;33m:\u001b[0m\u001b[0mself\u001b[0m\u001b[1;33m.\u001b[0m\u001b[0md\u001b[0m\u001b[1;33m]\u001b[0m\u001b[1;33m\u001b[0m\u001b[1;33m\u001b[0m\u001b[0m\n\u001b[0;32m     53\u001b[0m \u001b[1;33m\u001b[0m\u001b[0m\n\u001b[1;32m---> 54\u001b[1;33m             \u001b[1;32mif\u001b[0m\u001b[1;33m(\u001b[0m\u001b[0mlabel\u001b[0m \u001b[1;33m*\u001b[0m \u001b[0mnp\u001b[0m\u001b[1;33m.\u001b[0m\u001b[0mdot\u001b[0m\u001b[1;33m(\u001b[0m\u001b[0mself\u001b[0m\u001b[1;33m.\u001b[0m\u001b[0mweights\u001b[0m\u001b[1;33m,\u001b[0m\u001b[0mpoint\u001b[0m\u001b[1;33m.\u001b[0m\u001b[0mT\u001b[0m\u001b[1;33m)\u001b[0m \u001b[1;33m<\u001b[0m \u001b[0mself\u001b[0m\u001b[1;33m.\u001b[0m\u001b[0mgamma\u001b[0m\u001b[1;33m)\u001b[0m\u001b[1;33m:\u001b[0m\u001b[1;33m\u001b[0m\u001b[1;33m\u001b[0m\u001b[0m\n\u001b[0m\u001b[0;32m     55\u001b[0m                 \u001b[1;32mreturn\u001b[0m \u001b[1;32mTrue\u001b[0m\u001b[1;33m\u001b[0m\u001b[1;33m\u001b[0m\u001b[0m\n\u001b[0;32m     56\u001b[0m \u001b[1;33m\u001b[0m\u001b[0m\n",
      "\u001b[1;31mKeyboardInterrupt\u001b[0m: "
     ]
    }
   ],
   "source": [
    "brain2d.train() "
   ]
  },
  {
   "cell_type": "code",
   "execution_count": 325,
   "metadata": {},
   "outputs": [
    {
     "data": {
      "text/plain": [
       "array([0., 0.])"
      ]
     },
     "execution_count": 325,
     "metadata": {},
     "output_type": "execute_result"
    }
   ],
   "source": [
    "brain2d.weights"
   ]
  },
  {
   "cell_type": "code",
   "execution_count": 10,
   "metadata": {},
   "outputs": [
    {
     "data": {
      "text/plain": [
       "[<matplotlib.lines.Line2D at 0x114f4b17f48>]"
      ]
     },
     "execution_count": 10,
     "metadata": {},
     "output_type": "execute_result"
    },
    {
     "data": {
      "image/png": "[encoded data removed]",
      "text/plain": [
       "<Figure size 432x288 with 1 Axes>"
      ]
     },
     "metadata": {
      "needs_background": "light"
     },
     "output_type": "display_data"
    }
   ],
   "source": [
    "data1 = brain2d.dataset[np.where(1 == brain2d.dataset[:,brain2d.d])[0]]\n",
    "data2 = brain2d.dataset[np.where(-1 == brain2d.dataset[:,brain2d.d])[0]]\n",
    "data3 = brain2d.dataset[np.where(0 == brain2d.dataset[:,brain2d.d])[0]]\n",
    "\n",
    "plt.plot(k[:,0],k[:,1])\n",
    "\n",
    "plt.plot(data1[:,0],data1[:,1],'ro')\n",
    "plt.plot(data2[:,0],data2[:,1],'go')\n",
    "plt.plot(data3[:,0],data3[:,1],'bo')\n",
    "\n",
    "# x = np.random.uniform(-10,10,200)\n",
    "# y1 =  (brain2d.gamma - brain2d.weights[0] * x)/brain2d.weights[1]\n",
    "# y2 =  (-brain2d.gamma - brain2d.weights[0] * x)/brain2d.weights[1]\n",
    "# y = (- brain2d.weights[0] * x)/brain2d.weights[1]\n",
    "\n",
    "# plt.plot(x,y)\n",
    "# plt.plot(x,y1)\n",
    "# plt.plot(x,y2)"
   ]
  },
  {
   "cell_type": "code",
   "execution_count": null,
   "metadata": {},
   "outputs": [],
   "source": []
  }
 ],
 "metadata": {
  "kernelspec": {
   "display_name": "Python 3",
   "language": "python",
   "name": "python3"
  },
  "language_info": {
   "codemirror_mode": {
    "name": "ipython",
    "version": 3
   },
   "file_extension": ".py",
   "mimetype": "text/x-python",
   "name": "python",
   "nbconvert_exporter": "python",
   "pygments_lexer": "ipython3",
   "version": "3.7.4"
  }
 },
 "nbformat": 4,
 "nbformat_minor": 2
}
