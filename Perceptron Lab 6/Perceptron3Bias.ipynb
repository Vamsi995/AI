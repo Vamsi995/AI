{
 "cells": [
  {
   "cell_type": "code",
   "execution_count": 1,
   "metadata": {},
   "outputs": [],
   "source": [
    "import numpy as np"
   ]
  },
  {
   "cell_type": "code",
   "execution_count": 2,
   "metadata": {},
   "outputs": [],
   "source": [
    "from matplotlib import pyplot as plt"
   ]
  },
  {
   "cell_type": "code",
   "execution_count": 3,
   "metadata": {},
   "outputs": [],
   "source": [
    "import time"
   ]
  },
  {
   "cell_type": "code",
   "execution_count": 32,
   "metadata": {},
   "outputs": [],
   "source": [
    "class perceptron:\n",
    "    \n",
    "    def __init__(self,d,gamma,bias,R,n):\n",
    "        \n",
    "        self.d = d\n",
    "        self.gamma = gamma\n",
    "        self.bias = bias\n",
    "        self.R = R\n",
    "        self.n = n\n",
    "        \n",
    "        \n",
    "        weights = 2 * np.random.rand(d) - 1\n",
    "        mod = np.linalg.norm(weights)\n",
    "        self.weights = weights/mod\n",
    "        self.weights = np.hstack([self.weights,self.bias])\n",
    "        \n",
    "        \n",
    "        p_label = np.zeros((d))\n",
    "        n_label = np.zeros((d))\n",
    "        \n",
    "        \n",
    "        while len(p_label) <= n/2 or len(n_label) <= n/2:\n",
    "            \n",
    "            data = np.random.uniform(-R,R,d)\n",
    "            \n",
    "            if(np.linalg.norm(data) <= R):                \n",
    "\n",
    "                if(np.dot(self.weights[:self.d],data.T) + bias >= self.gamma):\n",
    "                    if(len(p_label) <= n/2):\n",
    "                        p_label = np.vstack([p_label,data])\n",
    "\n",
    "                elif(np.dot(self.weights[:self.d],data.T) + bias <= -self.gamma):\n",
    "                    if(len(n_label <= n/2)):\n",
    "                        n_label = np.vstack([n_label,data])\n",
    "\n",
    "                        \n",
    "        \n",
    "        labels = np.ones((len(p_label),1))\n",
    "        p_label = np.hstack([p_label,labels])\n",
    "        \n",
    "        \n",
    "        labels = np.full((len(n_label),1),-1)\n",
    "        n_label = np.hstack([n_label,labels])\n",
    "        \n",
    "        \n",
    "\n",
    "        self.dataset = np.vstack([p_label[1:],n_label[1:]])\n",
    "        \n",
    "        #     Plotting Lines\n",
    "        \n",
    "        \n",
    "        self.findHyperplanes()\n",
    "\n",
    "\n",
    "\n",
    "\n",
    "            \n",
    "    def check(self):\n",
    "\n",
    "        for pts in self.dataset:\n",
    "\n",
    "            label = pts[-1]\n",
    "            point = pts[:self.d]\n",
    "            point = np.hstack([point,1])\n",
    "            \n",
    "            if(label * np.dot(self.weights,point.T) <= 0):\n",
    "                return True\n",
    "\n",
    "        return False\n",
    "\n",
    "    \n",
    "    def train(self):\n",
    "        iterations = 0\n",
    "    \n",
    "        self.weights = np.zeros((self.d + 1))\n",
    "\n",
    "        while(self.check()):\n",
    "\n",
    "            ind = np.random.randint(len(self.dataset))\n",
    "\n",
    "            point = self.dataset[ind]\n",
    "            label = point[-1]\n",
    "            point = point[:self.d]\n",
    "            point = np.hstack([point,1])\n",
    "            \n",
    "            if(label * np.dot(self.weights,point.T) <= 0):\n",
    "                self.weights += label * point\n",
    "                print(self.weights)\n",
    "                iterations += 1\n",
    "        \n",
    "        \n",
    "        self.weights[self.d] = self.bias\n",
    "        self.findHyperplanes()\n",
    "\n",
    "        return iterations\n",
    "\n",
    "\n",
    "    def findHyperplanes(self):\n",
    "        \n",
    "        \n",
    "        if(self.d == 1):\n",
    "            self.weights[:self.d] /= np.linalg.norm(self.weights[:self.d])\n",
    "    \n",
    "            self.sepline_p = np.array([[self.weights[:self.d]*(self.gamma - self.weights[self.d]),0]])\n",
    "            self.sepline_n = np.array([[-self.weights[:self.d]*(self.weights[self.d] + self.gamma),0]])\n",
    "            self.classifier = np.array([[-self.weights[self.d]*self.weights[:self.d],0]])\n",
    "        \n",
    "        \n",
    "        if(self.d == 2):\n",
    "        \n",
    "        #     Plotting Lines\n",
    "            self.weights[:self.d] /= np.linalg.norm(self.weights[:self.d])\n",
    "            per_p = (self.gamma) * self.weights[:self.d]\n",
    "            per_n = - per_p\n",
    "\n",
    "            xs = np.random.uniform(-self.R,self.R,100)\n",
    "            mat = np.array([-self.weights[1],self.weights[0]])\n",
    "            p_set = np.array([[0,0]])\n",
    "            n_set = np.array([[0,0]])\n",
    "            actual = np.array([[0,0]])\n",
    "\n",
    "\n",
    "            for t in xs:\n",
    "\n",
    "                p = t * mat + per_p - self.weights[self.d] * self.weights[:self.d]\n",
    "                n = t * mat + per_n - self.weights[self.d] * self.weights[:self.d]\n",
    "                a = t * mat - self.weights[self.d] * self.weights[:self.d]\n",
    "\n",
    "                p_set = np.vstack([p_set,p])\n",
    "                n_set = np.vstack([n_set,n])\n",
    "                actual = np.vstack([actual,a])\n",
    "\n",
    "            self.sepline_p = p_set[1:]\n",
    "            self.sepline_n = n_set[1:]\n",
    "            self.classifier = actual[1:]\n",
    "            \n",
    "    def plotpoints(self):\n",
    "        print(self.weights)\n",
    "        \n",
    "#         Plotting the dataset\n",
    "        data1 = self.dataset[np.where(1 == self.dataset[:,self.d])[0]]\n",
    "        data2 = self.dataset[np.where(-1 == self.dataset[:,self.d])[0]]\n",
    "        \n",
    "        \n",
    "        if self.d == 2:\n",
    "        \n",
    "            plt.plot(data1[:,0],data1[:,1],'or')\n",
    "            plt.plot(data2[:,0],data2[:,1],'og')\n",
    "            \n",
    "            \n",
    "            x = -self.bias * self.weights\n",
    "            plt.plot(x[0],x[1],'ob')\n",
    "                    \n",
    "#         Plotting the separation lines\n",
    "            plt.plot(self.sepline_p[:,0],self.sepline_p[:,1])\n",
    "            plt.plot(self.sepline_n[:,0],self.sepline_n[:,1])\n",
    "            plt.plot(self.classifier[:,0],self.classifier[:,1])\n",
    "          \n",
    "        \n",
    "        if self.d == 1:\n",
    "            plt.plot(data1[:,0],np.zeros((len(data1))),'or')\n",
    "            plt.plot(data2[:,0],np.zeros((len(data2))),'og')\n",
    "        \n",
    "#         Plotting the separation lines\n",
    "            plt.plot(self.sepline_p[:,0],self.sepline_p[:,1],'y*')\n",
    "            plt.plot(self.sepline_n[:,0],self.sepline_n[:,1],'y*')\n",
    "            plt.plot(self.classifier[:,0],self.classifier[:,1],'y*')\n",
    "            \n",
    "            \n",
    "            \n",
    "         \n",
    "\n",
    "       \n",
    "\n",
    "\n",
    "            \n",
    "    "
   ]
  },
  {
   "cell_type": "code",
   "execution_count": 33,
   "metadata": {},
   "outputs": [],
   "source": [
    "brain = perceptron(d = 1,bias =4 ,gamma = 1,R = 10, n = 1000)"
   ]
  },
  {
   "cell_type": "code",
   "execution_count": 34,
   "metadata": {},
   "outputs": [
    {
     "name": "stdout",
     "output_type": "stream",
     "text": [
      "[-9.23138563 -1.        ]\n",
      "[-7.93426799  0.        ]\n",
      "[-7.85425685  1.        ]\n",
      "[-6.64050657  2.        ]\n",
      "[-4.04543004  3.        ]\n",
      "[-2.20626694  4.        ]\n",
      "[0.59492755 5.        ]\n",
      "[-8.67980644  4.        ]\n",
      "[-7.3826888  5.       ]\n",
      "[-5.87257089  6.        ]\n",
      "[-4.59358923  7.        ]\n",
      "[-2.54463955  8.        ]\n"
     ]
    },
    {
     "data": {
      "text/plain": [
       "12"
      ]
     },
     "execution_count": 34,
     "metadata": {},
     "output_type": "execute_result"
    }
   ],
   "source": [
    "brain.train()"
   ]
  },
  {
   "cell_type": "code",
   "execution_count": 35,
   "metadata": {},
   "outputs": [
    {
     "name": "stdout",
     "output_type": "stream",
     "text": [
      "[-1.  4.]\n"
     ]
    },
    {
     "data": {
      "image/png": "[encoded data removed]",
      "text/plain": [
       "<Figure size 432x288 with 1 Axes>"
      ]
     },
     "metadata": {
      "needs_background": "light"
     },
     "output_type": "display_data"
    }
   ],
   "source": [
    "brain.plotpoints()"
   ]
  },
  {
   "cell_type": "code",
   "execution_count": 46,
   "metadata": {},
   "outputs": [],
   "source": [
    "brain1 = perceptron(d = 2,bias = -4 ,gamma = 1,R = 10, n = 1000)"
   ]
  },
  {
   "cell_type": "code",
   "execution_count": 47,
   "metadata": {},
   "outputs": [
    {
     "name": "stdout",
     "output_type": "stream",
     "text": [
      "[-0.12146996 -0.99259511 -4.        ]\n"
     ]
    },
    {
     "data": {
      "image/png": "[encoded data removed]",
      "text/plain": [
       "<Figure size 432x288 with 1 Axes>"
      ]
     },
     "metadata": {
      "needs_background": "light"
     },
     "output_type": "display_data"
    }
   ],
   "source": [
    "brain1.plotpoints()"
   ]
  },
  {
   "cell_type": "code",
   "execution_count": 48,
   "metadata": {},
   "outputs": [
    {
     "name": "stdout",
     "output_type": "stream",
     "text": [
      "[-7.01555675  0.77644246 -1.        ]\n",
      "[-3.34551529 -7.57289144 -2.        ]\n",
      "[-4.50106077 -5.16899299 -3.        ]\n",
      "[ 2.30823378 -7.59562127 -4.        ]\n",
      "[-4.57674168 -4.85696932 -5.        ]\n",
      "[  1.91030867 -11.5376761   -4.        ]\n",
      "[ 3.71886404 -9.4201374  -5.        ]\n",
      "[ 2.41481521 -6.54264523 -6.        ]\n",
      "[ 0.77743948 -3.39679255 -7.        ]\n",
      "[-8.84008415 -2.16610276 -8.        ]\n",
      "[-5.7762451 -5.4591045 -9.       ]\n",
      "[  0.78074318  -8.20684803 -10.        ]\n",
      "[ -3.78273703  -6.78522532 -11.        ]\n",
      "[  4.91682476  -8.13976162 -12.        ]\n",
      "[ -2.92215836  -6.21443994 -13.        ]\n",
      "[ -1.19781499  -4.59471101 -14.        ]\n",
      "[  5.56095587  -2.86581362 -15.        ]\n",
      "[  2.34387336  -9.81938173 -14.        ]\n",
      "[ -4.0555302   -6.78687409 -15.        ]\n",
      "[  1.70135923  -5.66164663 -16.        ]\n",
      "[ -3.61757381  -2.24423825 -17.        ]\n",
      "[  4.62691712  -2.18780942 -18.        ]\n",
      "[ -3.22776781  -2.61357732 -19.        ]\n",
      "[  3.88555155  -2.22449269 -20.        ]\n",
      "[ -4.31616651   1.72061573 -21.        ]\n",
      "[-10.92467315  -3.0621175  -20.        ]\n",
      "[ -6.25032825  -6.64503078 -21.        ]\n",
      "[  0.61354597  -6.64675542 -22.        ]\n",
      "[ -7.05789526  -3.47661516 -23.        ]\n",
      "[ -5.7107621  -11.55718895 -22.        ]\n",
      "[  2.11696081 -11.12979656 -23.        ]\n",
      "[ -3.77350204  -7.88054505 -24.        ]\n",
      "[ -1.94094739  -5.30570608 -25.        ]\n",
      "[  5.73197332 -11.50997397 -24.        ]\n",
      "[ -1.30054699 -11.97674248 -25.        ]\n",
      "[  6.1687659  -10.53026216 -26.        ]\n",
      "[ -1.59171064  -7.43569021 -27.        ]\n",
      "[  7.40037544  -5.55916709 -28.        ]\n",
      "[  0.96379807  -7.96783536 -29.        ]\n",
      "[ -6.97564839 -12.31006196 -28.        ]\n",
      "[  0.51852073 -11.85757832 -29.        ]\n",
      "[ -0.51618895  -9.25543858 -30.        ]\n",
      "[ -9.52280443  -5.27957633 -31.        ]\n",
      "[ -4.57556614  -2.90559217 -32.        ]\n",
      "[ -0.46281768  -9.91961288 -31.        ]\n",
      "[ -6.23198703  -6.36537674 -32.        ]\n",
      "[  1.83099802  -8.49945326 -33.        ]\n",
      "[ -3.47207123 -12.908873   -32.        ]\n",
      "[  2.44639561 -12.00393972 -33.        ]\n",
      "[ -0.16149248  -9.52316571 -34.        ]\n",
      "[ -9.16810796  -5.54730345 -35.        ]\n",
      "[ -1.0606727   -5.80875452 -36.        ]\n",
      "[  4.95192055 -11.69541395 -35.        ]\n",
      "[ -0.29850827 -16.6997684  -34.        ]\n",
      "[ -4.1006246  -13.50346129 -35.        ]\n",
      "[ -0.30834138 -11.96235819 -36.        ]\n",
      "[ -7.661501   -8.6133416 -37.       ]\n",
      "[ -2.37794921  -7.31627537 -38.        ]\n",
      "[  0.83080604 -13.33329065 -37.        ]\n",
      "[ -7.80765188 -10.21633194 -38.        ]\n",
      "[  1.90426558  -8.6443991  -39.        ]\n",
      "[ -2.07278611 -13.5631266  -38.        ]\n",
      "[  5.87087619 -11.75136305 -39.        ]\n",
      "[ -3.59775214 -10.64536718 -40.        ]\n",
      "[  5.43762715  -8.96216726 -41.        ]\n",
      "[  2.30391223 -15.25711032 -40.        ]\n",
      "[ -5.65364403 -12.48318983 -41.        ]\n",
      "[ -0.40368605 -11.44285071 -42.        ]\n"
     ]
    },
    {
     "data": {
      "text/plain": [
       "68"
      ]
     },
     "execution_count": 48,
     "metadata": {},
     "output_type": "execute_result"
    }
   ],
   "source": [
    "brain1.train()"
   ]
  },
  {
   "cell_type": "code",
   "execution_count": 49,
   "metadata": {},
   "outputs": [
    {
     "name": "stdout",
     "output_type": "stream",
     "text": [
      "[-0.03525652 -0.9993783  -4.        ]\n"
     ]
    },
    {
     "data": {
      "image/png": "[encoded data removed]",
      "text/plain": [
       "<Figure size 432x288 with 1 Axes>"
      ]
     },
     "metadata": {
      "needs_background": "light"
     },
     "output_type": "display_data"
    }
   ],
   "source": [
    "brain1.plotpoints()"
   ]
  },
  {
   "cell_type": "code",
   "execution_count": 50,
   "metadata": {},
   "outputs": [
    {
     "name": "stdout",
     "output_type": "stream",
     "text": [
      "[-7.42613492 -1.        ]\n",
      "[-5.71928426  0.        ]\n",
      "[-3.30330532  1.        ]\n",
      "[-1.18673217  2.        ]\n",
      "[1.33522015 3.        ]\n",
      "[-5.18063279  2.        ]\n",
      "[-2.28843143  3.        ]\n",
      "[0.64476327 4.        ]\n",
      "[-5.59686352  3.        ]\n",
      "[-4.62134237  4.        ]\n",
      "[-3.54315466  5.        ]\n",
      "[-1.21157816  6.        ]\n",
      "0.02394390106201172\n"
     ]
    }
   ],
   "source": [
    "k = time.time()\n",
    "brain.train()\n",
    "t = time.time()\n",
    "print(t-k)"
   ]
  },
  {
   "cell_type": "code",
   "execution_count": null,
   "metadata": {},
   "outputs": [],
   "source": []
  }
 ],
 "metadata": {
  "kernelspec": {
   "display_name": "Python 3",
   "language": "python",
   "name": "python3"
  },
  "language_info": {
   "codemirror_mode": {
    "name": "ipython",
    "version": 3
   },
   "file_extension": ".py",
   "mimetype": "text/x-python",
   "name": "python",
   "nbconvert_exporter": "python",
   "pygments_lexer": "ipython3",
   "version": "3.7.4"
  }
 },
 "nbformat": 4,
 "nbformat_minor": 2
}
