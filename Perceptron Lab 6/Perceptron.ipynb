{
 "cells": [
  {
   "cell_type": "code",
   "execution_count": 4,
   "metadata": {},
   "outputs": [],
   "source": [
    "import numpy as np"
   ]
  },
  {
   "cell_type": "code",
   "execution_count": 5,
   "metadata": {},
   "outputs": [],
   "source": [
    "from matplotlib import pyplot as plt\n"
   ]
  },
  {
   "cell_type": "code",
   "execution_count": 6,
   "metadata": {},
   "outputs": [],
   "source": [
    "class perceptron:\n",
    "    \n",
    "    def __init__(self):\n",
    "        self.w_vec = np.random.rand(3)\n",
    "    \n",
    "    def update_vec(self,points):\n",
    "        for pts in points:\n",
    "            y = pts[1]\n",
    "            label = pts[3]\n",
    "            vector = pts[:3].T\n",
    "            check = label * np.dot(self.w_vec.T,vector)\n",
    "            if(check < 0):\n",
    "                self.w_vec += label * vector\n",
    "                self.update_vec(points)\n",
    "            \n",
    "        for pts in points:\n",
    "            y = pts[1]\n",
    "            label = pts[3]\n",
    "            vector = pts[:3].T\n",
    "            check = label * np.dot(self.w_vec.T,vector)\n",
    "            if(check < 0):\n",
    "                self.update_vec(points) \n",
    "            \n",
    "        \n",
    "    def classifier(self,xs):\n",
    "        y = -( nn.w_vec[0] * xs + nn.w_vec[2]) / nn.w_vec[1]\n",
    "        return y\n",
    "    \n",
    "    "
   ]
  },
  {
   "cell_type": "code",
   "execution_count": 27,
   "metadata": {},
   "outputs": [],
   "source": [
    "class Point:\n",
    "    \n",
    "    def __init__(self,number):\n",
    "        \n",
    "        x = np.random.uniform(1,50,number)\n",
    "        x = np.c_[x]\n",
    "    \n",
    "        y = np.random.uniform(1,50,number)\n",
    "        y = np.c_[y] \n",
    "    \n",
    "        line = y > 1-x\n",
    "        line = line.flatten()\n",
    "        labels = np.ones((number))\n",
    "       \n",
    "        labels[np.where(line == False)[0]] = -1 \n",
    "       \n",
    "        labels = np.c_[labels]\n",
    "        \n",
    "        bias = np.ones((number)) \n",
    "        bias = np.c_[bias] \n",
    "        \n",
    "        self.dataset = np.hstack([x,y,bias,labels])\n",
    "        \n",
    "        "
   ]
  },
  {
   "cell_type": "code",
   "execution_count": 28,
   "metadata": {},
   "outputs": [],
   "source": [
    "points = Point(100)"
   ]
  },
  {
   "cell_type": "code",
   "execution_count": 29,
   "metadata": {},
   "outputs": [],
   "source": [
    "nn = perceptron()"
   ]
  },
  {
   "cell_type": "code",
   "execution_count": 30,
   "metadata": {},
   "outputs": [],
   "source": [
    "nn.update_vec(points.dataset)"
   ]
  },
  {
   "cell_type": "code",
   "execution_count": 31,
   "metadata": {},
   "outputs": [
    {
     "data": {
      "text/plain": [
       "array([0.59231063, 0.53184405, 0.67129253])"
      ]
     },
     "execution_count": 31,
     "metadata": {},
     "output_type": "execute_result"
    }
   ],
   "source": [
    "nn.w_vec"
   ]
  },
  {
   "cell_type": "code",
   "execution_count": 32,
   "metadata": {},
   "outputs": [],
   "source": [
    "label1 = np.where(points.dataset[:,3] == 1)[0]\n",
    "labelset1 = points.dataset[label1]"
   ]
  },
  {
   "cell_type": "code",
   "execution_count": 33,
   "metadata": {},
   "outputs": [],
   "source": [
    "label2 = np.where(points.dataset[:,3] == -1)[0]\n",
    "labelset2 = points.dataset[label2]"
   ]
  },
  {
   "cell_type": "code",
   "execution_count": 34,
   "metadata": {},
   "outputs": [
    {
     "data": {
      "text/plain": [
       "[<matplotlib.lines.Line2D at 0x13e59076dc8>]"
      ]
     },
     "execution_count": 34,
     "metadata": {},
     "output_type": "execute_result"
    },
    {
     "data": {
      "image/png": "[encoded data removed]",
      "text/plain": [
       "<Figure size 432x288 with 1 Axes>"
      ]
     },
     "metadata": {
      "needs_background": "light"
     },
     "output_type": "display_data"
    }
   ],
   "source": [
    "plt.plot(labelset1[:,0],labelset1[:,1],'or')\n",
    "plt.plot(labelset2[:,0],labelset2[:,1],'og')\n",
    "plt.plot(points.dataset[:,0],nn.classifier(points.dataset[:,0]))"
   ]
  },
  {
   "cell_type": "code",
   "execution_count": 17,
   "metadata": {},
   "outputs": [
    {
     "data": {
      "text/plain": [
       "array([], dtype=int64)"
      ]
     },
     "execution_count": 17,
     "metadata": {},
     "output_type": "execute_result"
    }
   ],
   "source": [
    "label2"
   ]
  },
  {
   "cell_type": "code",
   "execution_count": 35,
   "metadata": {},
   "outputs": [
    {
     "data": {
      "text/plain": [
       "array([[21.95689063, 44.09142057,  1.        ,  1.        ],\n",
       "       [45.25991771, 10.0122976 ,  1.        ,  1.        ],\n",
       "       [24.06308538,  5.05948327,  1.        ,  1.        ],\n",
       "       [25.64618725, 14.61075676,  1.        ,  1.        ],\n",
       "       [ 4.97388534, 11.02392229,  1.        ,  1.        ],\n",
       "       [44.73275391, 40.02510781,  1.        ,  1.        ],\n",
       "       [36.22838404, 18.26341808,  1.        ,  1.        ],\n",
       "       [ 8.65001426, 39.3987056 ,  1.        ,  1.        ],\n",
       "       [12.72968395, 46.87385147,  1.        ,  1.        ],\n",
       "       [ 7.31657051, 15.7092915 ,  1.        ,  1.        ],\n",
       "       [31.45664766, 49.2295756 ,  1.        ,  1.        ],\n",
       "       [35.53261605, 39.45074434,  1.        ,  1.        ],\n",
       "       [41.86666325, 26.56179808,  1.        ,  1.        ],\n",
       "       [23.52153061,  9.92732743,  1.        ,  1.        ],\n",
       "       [21.39025084, 48.53696526,  1.        ,  1.        ],\n",
       "       [39.5271612 , 35.51612282,  1.        ,  1.        ],\n",
       "       [46.68348827, 29.83438819,  1.        ,  1.        ],\n",
       "       [10.92675275, 29.17660828,  1.        ,  1.        ],\n",
       "       [21.7050278 ,  8.36882102,  1.        ,  1.        ],\n",
       "       [40.24027685, 21.24772231,  1.        ,  1.        ],\n",
       "       [25.86027421,  6.37361488,  1.        ,  1.        ],\n",
       "       [34.10930441,  5.60141202,  1.        ,  1.        ],\n",
       "       [21.0363837 , 39.182369  ,  1.        ,  1.        ],\n",
       "       [15.58682522,  7.47233887,  1.        ,  1.        ],\n",
       "       [19.84508635, 21.16441638,  1.        ,  1.        ],\n",
       "       [ 5.75185379, 28.5484131 ,  1.        ,  1.        ],\n",
       "       [28.11591327, 47.5735058 ,  1.        ,  1.        ],\n",
       "       [23.49546295, 25.16414686,  1.        ,  1.        ],\n",
       "       [15.05105819, 43.88364215,  1.        ,  1.        ],\n",
       "       [28.01432053,  2.34641047,  1.        ,  1.        ],\n",
       "       [47.37951513, 31.47944122,  1.        ,  1.        ],\n",
       "       [49.83445688, 45.99584811,  1.        ,  1.        ],\n",
       "       [27.67669693,  9.19493473,  1.        ,  1.        ],\n",
       "       [ 6.96202901,  4.94140164,  1.        ,  1.        ],\n",
       "       [21.03995261, 15.88025163,  1.        ,  1.        ],\n",
       "       [45.22588775, 36.32202808,  1.        ,  1.        ],\n",
       "       [17.98165505,  1.83348979,  1.        ,  1.        ],\n",
       "       [22.45107683,  9.11636063,  1.        ,  1.        ],\n",
       "       [15.89766586, 36.92114809,  1.        ,  1.        ],\n",
       "       [ 8.44387066, 24.21791135,  1.        ,  1.        ],\n",
       "       [12.5355945 , 47.48349355,  1.        ,  1.        ],\n",
       "       [43.65820616, 20.24454236,  1.        ,  1.        ],\n",
       "       [42.37227796, 33.22143788,  1.        ,  1.        ],\n",
       "       [ 4.27591583, 44.58778024,  1.        ,  1.        ],\n",
       "       [42.15895171,  8.53298861,  1.        ,  1.        ],\n",
       "       [35.7256131 ,  8.67949969,  1.        ,  1.        ],\n",
       "       [30.41546857, 30.09521234,  1.        ,  1.        ],\n",
       "       [ 3.91930238, 48.05758399,  1.        ,  1.        ],\n",
       "       [25.18276978, 27.42145335,  1.        ,  1.        ],\n",
       "       [24.02672288, 33.18894478,  1.        ,  1.        ],\n",
       "       [ 8.09327956,  3.94340453,  1.        ,  1.        ],\n",
       "       [10.90975586, 15.4133025 ,  1.        ,  1.        ],\n",
       "       [38.17941037,  3.47383249,  1.        ,  1.        ],\n",
       "       [20.32147102, 29.20344518,  1.        ,  1.        ],\n",
       "       [41.22669172, 43.94753429,  1.        ,  1.        ],\n",
       "       [48.17017914, 18.56008143,  1.        ,  1.        ],\n",
       "       [25.96635397, 45.57260014,  1.        ,  1.        ],\n",
       "       [26.14036551,  2.32233011,  1.        ,  1.        ],\n",
       "       [17.45200507,  5.17687337,  1.        ,  1.        ],\n",
       "       [36.44698882,  5.61752543,  1.        ,  1.        ],\n",
       "       [25.12049588, 33.05183003,  1.        ,  1.        ],\n",
       "       [41.11613757,  5.91661331,  1.        ,  1.        ],\n",
       "       [35.65212407,  6.37096346,  1.        ,  1.        ],\n",
       "       [30.47058661,  3.27886904,  1.        ,  1.        ],\n",
       "       [29.61057879, 30.48339995,  1.        ,  1.        ],\n",
       "       [43.86022537, 49.80942436,  1.        ,  1.        ],\n",
       "       [ 5.25980011, 49.80505237,  1.        ,  1.        ],\n",
       "       [43.98924311, 16.43067845,  1.        ,  1.        ],\n",
       "       [33.0733585 , 31.25205   ,  1.        ,  1.        ],\n",
       "       [31.71882854, 46.66109065,  1.        ,  1.        ],\n",
       "       [ 4.58201156, 42.05467701,  1.        ,  1.        ],\n",
       "       [16.14334516, 36.06107617,  1.        ,  1.        ],\n",
       "       [26.59669799, 49.23115615,  1.        ,  1.        ],\n",
       "       [ 5.09665293, 25.19788675,  1.        ,  1.        ],\n",
       "       [ 7.99690264, 46.45897898,  1.        ,  1.        ],\n",
       "       [34.19452114, 46.7573258 ,  1.        ,  1.        ],\n",
       "       [16.76673312, 41.45387906,  1.        ,  1.        ],\n",
       "       [42.32120801, 27.07243826,  1.        ,  1.        ],\n",
       "       [22.19095079,  9.81921128,  1.        ,  1.        ],\n",
       "       [33.11231083, 42.55390937,  1.        ,  1.        ],\n",
       "       [22.67032053,  4.54584727,  1.        ,  1.        ],\n",
       "       [46.37252996, 31.20492816,  1.        ,  1.        ],\n",
       "       [14.47379966,  9.06656211,  1.        ,  1.        ],\n",
       "       [10.3625033 , 10.3586434 ,  1.        ,  1.        ],\n",
       "       [35.51819659, 32.84506824,  1.        ,  1.        ],\n",
       "       [ 5.64016738, 22.59952577,  1.        ,  1.        ],\n",
       "       [21.09407617, 38.45894931,  1.        ,  1.        ],\n",
       "       [ 3.67065651, 30.28904172,  1.        ,  1.        ],\n",
       "       [12.71403795, 15.14294627,  1.        ,  1.        ],\n",
       "       [36.37464726, 47.95373505,  1.        ,  1.        ],\n",
       "       [32.54387335, 23.02141436,  1.        ,  1.        ],\n",
       "       [18.90644488, 42.65928589,  1.        ,  1.        ],\n",
       "       [44.88039152, 39.64720331,  1.        ,  1.        ],\n",
       "       [ 6.92297369, 49.740739  ,  1.        ,  1.        ],\n",
       "       [46.13452964, 25.67018018,  1.        ,  1.        ],\n",
       "       [27.56125617, 17.47891368,  1.        ,  1.        ],\n",
       "       [14.00713749, 32.39966818,  1.        ,  1.        ],\n",
       "       [ 8.04592555, 15.95041489,  1.        ,  1.        ],\n",
       "       [47.43157374, 12.51030553,  1.        ,  1.        ],\n",
       "       [ 1.96258557, 49.3760572 ,  1.        ,  1.        ]])"
      ]
     },
     "execution_count": 35,
     "metadata": {},
     "output_type": "execute_result"
    }
   ],
   "source": [
    "points.dataset"
   ]
  },
  {
   "cell_type": "code",
   "execution_count": null,
   "metadata": {},
   "outputs": [],
   "source": []
  }
 ],
 "metadata": {
  "kernelspec": {
   "display_name": "Python 3",
   "language": "python",
   "name": "python3"
  },
  "language_info": {
   "codemirror_mode": {
    "name": "ipython",
    "version": 3
   },
   "file_extension": ".py",
   "mimetype": "text/x-python",
   "name": "python",
   "nbconvert_exporter": "python",
   "pygments_lexer": "ipython3",
   "version": "3.7.4"
  }
 },
 "nbformat": 4,
 "nbformat_minor": 2
}
