{
 "cells": [
  {
   "cell_type": "code",
   "execution_count": 1,
   "metadata": {},
   "outputs": [],
   "source": [
    "import numpy as np"
   ]
  },
  {
   "cell_type": "code",
   "execution_count": 200,
   "metadata": {},
   "outputs": [
    {
     "data": {
      "text/plain": [
       "array([1, 0, 0, 1, 1, 0, 0, 1, 0, 1])"
      ]
     },
     "execution_count": 200,
     "metadata": {},
     "output_type": "execute_result"
    }
   ],
   "source": [
    "# n=50\n",
    "np.random.choice([0,1],10,p=[0.5,0.5])\n",
    "# np.random.rand(100)\n",
    "# np.random.uniform(5,5.25,1)\n",
    "\n",
    "# arr = np.random.choice([0,1],1,p=[0.5,0.5]) \n",
    "# if(arr[0] == 1): #5 to 5.25\n",
    "#     h = np.random.uniform(4.5,5,1) \n",
    "# else: #5.25 to 5.75\n",
    "#     h = np.random.uniform(5,5.25,1)\n",
    "# w = np.random.uniform(30,50,1)\n"
   ]
  },
  {
   "cell_type": "code",
   "execution_count": 280,
   "metadata": {},
   "outputs": [],
   "source": [
    "def kids(ckid):\n",
    "    \n",
    "    arr = np.random.choice([0,1],1,p=[0.5,0.5]) \n",
    "    if(arr[0] == 1): #4.5 to 5\n",
    "           h = np.random.uniform(4.5,5,1) \n",
    "    else: #5 to 5.25\n",
    "           h = np.random.uniform(5,5.25,1)\n",
    "    w = np.random.uniform(30,50,1)\n",
    "    return np.hstack([h,w])"
   ]
  },
  {
   "cell_type": "code",
   "execution_count": 301,
   "metadata": {},
   "outputs": [],
   "source": [
    "def adults(cadult):\n",
    "    arr = np.random.choice([0,1],1,p=[0.5,0.5]) \n",
    "    if(arr[0] == 1): #5 to 5.25 \n",
    "           h = np.random.uniform(5,5.25,1) \n",
    "    else: #5.25 to 5.75\n",
    "           h = np.random.uniform(5.25,5.75,1)\n",
    "    w = np.random.uniform(45,60,1)\n",
    "    return np.hstack([h,w])"
   ]
  },
  {
   "cell_type": "code",
   "execution_count": 302,
   "metadata": {},
   "outputs": [],
   "source": [
    "\n",
    "def observation(pkid,ckid,cadult,obsCount):\n",
    "    global label\n",
    "    label = np.random.choice([0,1],obsCount,p=[pkid,1-pkid]) # 0 for kid 1 for adult\n",
    "    k = np.array([[0,0]])\n",
    "    for x in label:\n",
    "        if(x==1):\n",
    "            obs = adults(cadult)\n",
    "        else:\n",
    "            obs = kids(ckid)\n",
    "\n",
    "        k = np.vstack([obs,k])\n",
    "    return k"
   ]
  },
  {
   "cell_type": "code",
   "execution_count": 303,
   "metadata": {},
   "outputs": [],
   "source": [
    "arr = observation(0.4,2,2,1000)[0:1000]"
   ]
  },
  {
   "cell_type": "code",
   "execution_count": 304,
   "metadata": {},
   "outputs": [
    {
     "data": {
      "text/plain": [
       "array([[ 5.12874505, 58.06215582],\n",
       "       [ 5.02786355, 53.15068787],\n",
       "       [ 5.55457756, 54.34000364],\n",
       "       ...,\n",
       "       [ 5.01674829, 50.98587171],\n",
       "       [ 5.50887404, 47.96156063],\n",
       "       [ 5.71377764, 56.51767946]])"
      ]
     },
     "execution_count": 304,
     "metadata": {},
     "output_type": "execute_result"
    }
   ],
   "source": [
    "arr"
   ]
  },
  {
   "cell_type": "code",
   "execution_count": 305,
   "metadata": {},
   "outputs": [],
   "source": [
    "def agent_action(obs):\n",
    "    return np.random.randint(0,2,len(obs))\n",
    "        "
   ]
  },
  {
   "cell_type": "code",
   "execution_count": 306,
   "metadata": {},
   "outputs": [],
   "source": [
    "\n",
    "time = np.arange(0,1001,dtype='int')\n",
    "time = np.c_[1:1001]\n",
    "\n",
    "# a =  \n"
   ]
  },
  {
   "cell_type": "code",
   "execution_count": 307,
   "metadata": {},
   "outputs": [],
   "source": [
    "dataset = np.hstack([time,np.c_[0:1000],arr])"
   ]
  },
  {
   "cell_type": "code",
   "execution_count": 308,
   "metadata": {},
   "outputs": [],
   "source": [
    "np.savetxt(\"dataset.csv\",dataset, '%10.3f',delimiter=\",\")"
   ]
  },
  {
   "cell_type": "code",
   "execution_count": 309,
   "metadata": {},
   "outputs": [],
   "source": [
    "from matplotlib import pyplot as plt\n"
   ]
  },
  {
   "cell_type": "code",
   "execution_count": 310,
   "metadata": {},
   "outputs": [
    {
     "data": {
      "text/plain": [
       "(array([ 48.,  53.,  57.,  48., 265., 258.,  70.,  65.,  71.,  65.]),\n",
       " array([4.50045979, 4.6252764 , 4.75009301, 4.87490962, 4.99972623,\n",
       "        5.12454285, 5.24935946, 5.37417607, 5.49899268, 5.62380929,\n",
       "        5.74862591]),\n",
       " <a list of 10 Patch objects>)"
      ]
     },
     "execution_count": 310,
     "metadata": {},
     "output_type": "execute_result"
    },
    {
     "data": {
      "image/png": "[encoded data removed]",
      "text/plain": [
       "<Figure size 432x288 with 1 Axes>"
      ]
     },
     "metadata": {
      "needs_background": "light"
     },
     "output_type": "display_data"
    }
   ],
   "source": [
    "plt.hist(arr[:,0])"
   ]
  },
  {
   "cell_type": "code",
   "execution_count": 311,
   "metadata": {},
   "outputs": [
    {
     "data": {
      "text/plain": [
       "(array([ 60.,  56.,  57.,  62.,  64., 177., 157., 132., 104., 131.]),\n",
       " array([30.04422494, 33.03898562, 36.0337463 , 39.02850698, 42.02326767,\n",
       "        45.01802835, 48.01278903, 51.00754971, 54.0023104 , 56.99707108,\n",
       "        59.99183176]),\n",
       " <a list of 10 Patch objects>)"
      ]
     },
     "execution_count": 311,
     "metadata": {},
     "output_type": "execute_result"
    },
    {
     "data": {
      "image/png": "[encoded data removed]",
      "text/plain": [
       "<Figure size 432x288 with 1 Axes>"
      ]
     },
     "metadata": {
      "needs_background": "light"
     },
     "output_type": "display_data"
    }
   ],
   "source": [
    "plt.hist(arr[:,1])"
   ]
  },
  {
   "cell_type": "code",
   "execution_count": 312,
   "metadata": {},
   "outputs": [],
   "source": [
    "def reward():\n",
    "    action = agent_action(arr)\n",
    "    array = np.zeros(1000)\n",
    "    ans = np.where(action == label , 1 ,array)\n",
    "    return ans.mean() * 100"
   ]
  },
  {
   "cell_type": "code",
   "execution_count": 313,
   "metadata": {},
   "outputs": [
    {
     "data": {
      "text/plain": [
       "50.1"
      ]
     },
     "execution_count": 313,
     "metadata": {},
     "output_type": "execute_result"
    }
   ],
   "source": [
    "reward()"
   ]
  },
  {
   "cell_type": "code",
   "execution_count": null,
   "metadata": {},
   "outputs": [],
   "source": []
  },
  {
   "cell_type": "code",
   "execution_count": null,
   "metadata": {},
   "outputs": [],
   "source": []
  },
  {
   "cell_type": "code",
   "execution_count": null,
   "metadata": {},
   "outputs": [],
   "source": []
  },
  {
   "cell_type": "code",
   "execution_count": null,
   "metadata": {},
   "outputs": [],
   "source": []
  }
 ],
 "metadata": {
  "kernelspec": {
   "display_name": "Python 3",
   "language": "python",
   "name": "python3"
  },
  "language_info": {
   "codemirror_mode": {
    "name": "ipython",
    "version": 3
   },
   "file_extension": ".py",
   "mimetype": "text/x-python",
   "name": "python",
   "nbconvert_exporter": "python",
   "pygments_lexer": "ipython3",
   "version": "3.7.4"
  }
 },
 "nbformat": 4,
 "nbformat_minor": 2
}
