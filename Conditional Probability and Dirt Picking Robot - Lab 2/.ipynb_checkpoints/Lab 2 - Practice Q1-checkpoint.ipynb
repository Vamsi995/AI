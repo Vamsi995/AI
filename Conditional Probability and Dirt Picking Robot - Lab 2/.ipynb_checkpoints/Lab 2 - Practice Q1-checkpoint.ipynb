{
 "cells": [
  {
   "cell_type": "code",
   "execution_count": 1,
   "metadata": {},
   "outputs": [],
   "source": [
    "import numpy as np"
   ]
  },
  {
   "cell_type": "code",
   "execution_count": 200,
   "metadata": {},
   "outputs": [
    {
     "data": {
      "text/plain": [
       "array([1, 0, 0, 1, 1, 0, 0, 1, 0, 1])"
      ]
     },
     "execution_count": 200,
     "metadata": {},
     "output_type": "execute_result"
    }
   ],
   "source": [
    "# n=50\n",
    "np.random.choice([0,1],10,p=[0.5,0.5])\n",
    "# np.random.rand(100)\n",
    "# np.random.uniform(5,5.25,1)\n",
    "\n",
    "# arr = np.random.choice([0,1],1,p=[0.5,0.5]) \n",
    "# if(arr[0] == 1): #5 to 5.25\n",
    "#     h = np.random.uniform(4.5,5,1) \n",
    "# else: #5.25 to 5.75\n",
    "#     h = np.random.uniform(5,5.25,1)\n",
    "# w = np.random.uniform(30,50,1)\n"
   ]
  },
  {
   "cell_type": "code",
   "execution_count": 216,
   "metadata": {},
   "outputs": [],
   "source": [
    "def kids(ckid):\n",
    "    arr = np.random.choice([0,1],1,p=[0.25 * ckid,1 - (0.25 * ckid)]) \n",
    "    if(arr[0] == 1): #5 to 5.25\n",
    "           h = np.random.uniform(4.5,5,1) \n",
    "    else: #5.25 to 5.75\n",
    "           h = np.random.uniform(5,5.25,1)\n",
    "    w = np.random.uniform(30,50,1)\n",
    "    return np.hstack([h,w])"
   ]
  },
  {
   "cell_type": "code",
   "execution_count": 217,
   "metadata": {},
   "outputs": [],
   "source": [
    "def adults(cadult):\n",
    "    arr = np.random.choice([0,1],1,p=[0.25 * cadult,1 - (0.25 * cadult)]) \n",
    "    if(arr[0] == 1): #5 to 5.25 \n",
    "           x = np.random.uniform(5,5.25,1) \n",
    "    else: #5.25 to 5.75\n",
    "           x = np.random.uniform(5.25,5.75,1)\n",
    "    w = np.random.uniform(45,60,1)\n",
    "    return np.hstack([h,w])"
   ]
  },
  {
   "cell_type": "code",
   "execution_count": 232,
   "metadata": {},
   "outputs": [],
   "source": [
    "\n",
    "def observation(pkid,ckid,cadult,obsCount):\n",
    "    global label\n",
    "    label = np.random.choice([0,1],obsCount,p=[pkid,1-pkid]) # 0 for kid 1 for adult\n",
    "    k = np.array([[0,0]])\n",
    "    for x in label:\n",
    "        if(x==1):\n",
    "            obs = adults(cadult)\n",
    "        else:\n",
    "            obs = kids(ckid)\n",
    "\n",
    "        k = np.vstack([obs,k])\n",
    "    return k"
   ]
  },
  {
   "cell_type": "code",
   "execution_count": 233,
   "metadata": {},
   "outputs": [],
   "source": [
    "arr = observation(0.4,2,2,1000)[0:1000]"
   ]
  },
  {
   "cell_type": "code",
   "execution_count": 220,
   "metadata": {},
   "outputs": [
    {
     "data": {
      "text/plain": [
       "array([[ 5.12458723, 51.22707988],\n",
       "       [ 5.12458723, 59.29878301],\n",
       "       [ 5.12458723, 46.36755475],\n",
       "       ...,\n",
       "       [ 5.12458723, 55.24835547],\n",
       "       [ 5.12458723, 52.54352729],\n",
       "       [ 5.12458723, 47.85470715]])"
      ]
     },
     "execution_count": 220,
     "metadata": {},
     "output_type": "execute_result"
    }
   ],
   "source": [
    "arr"
   ]
  },
  {
   "cell_type": "code",
   "execution_count": 221,
   "metadata": {},
   "outputs": [],
   "source": [
    "def agent_action(obs):\n",
    "    return np.random.randint(0,2,len(obs))\n",
    "        "
   ]
  },
  {
   "cell_type": "code",
   "execution_count": 222,
   "metadata": {},
   "outputs": [],
   "source": [
    "\n",
    "time = np.arange(0,1001,dtype='int')\n",
    "time = np.c_[1:1001]\n",
    "\n",
    "# a =  \n"
   ]
  },
  {
   "cell_type": "code",
   "execution_count": 223,
   "metadata": {},
   "outputs": [],
   "source": [
    "dataset = np.hstack([time,np.c_[0:1000],arr])"
   ]
  },
  {
   "cell_type": "code",
   "execution_count": 224,
   "metadata": {},
   "outputs": [],
   "source": [
    "np.savetxt(\"dataset.csv\",dataset, '%10.3f',delimiter=\",\")"
   ]
  },
  {
   "cell_type": "code",
   "execution_count": 225,
   "metadata": {},
   "outputs": [],
   "source": [
    "from matplotlib import pyplot as plt\n"
   ]
  },
  {
   "cell_type": "code",
   "execution_count": 226,
   "metadata": {},
   "outputs": [
    {
     "data": {
      "text/plain": [
       "(array([ 31.,  32.,  35.,  35.,  26.,  23.,  32.,  62., 661.,  63.]),\n",
       " array([4.50345389, 4.57804767, 4.65264145, 4.72723522, 4.801829  ,\n",
       "        4.87642278, 4.95101656, 5.02561034, 5.10020412, 5.1747979 ,\n",
       "        5.24939167]),\n",
       " <a list of 10 Patch objects>)"
      ]
     },
     "execution_count": 226,
     "metadata": {},
     "output_type": "execute_result"
    },
    {
     "data": {
      "image/png": "[encoded data removed]",
      "text/plain": [
       "<Figure size 432x288 with 1 Axes>"
      ]
     },
     "metadata": {
      "needs_background": "light"
     },
     "output_type": "display_data"
    }
   ],
   "source": [
    "plt.hist(arr[:,0])"
   ]
  },
  {
   "cell_type": "code",
   "execution_count": 227,
   "metadata": {},
   "outputs": [
    {
     "data": {
      "text/plain": [
       "(array([ 57.,  61.,  55.,  74.,  67., 175., 144., 117., 126., 124.]),\n",
       " array([30.09612984, 33.08593484, 36.07573983, 39.06554483, 42.05534982,\n",
       "        45.04515482, 48.03495981, 51.02476481, 54.0145698 , 57.0043748 ,\n",
       "        59.99417979]),\n",
       " <a list of 10 Patch objects>)"
      ]
     },
     "execution_count": 227,
     "metadata": {},
     "output_type": "execute_result"
    },
    {
     "data": {
      "image/png": "[encoded data removed]",
      "text/plain": [
       "<Figure size 432x288 with 1 Axes>"
      ]
     },
     "metadata": {
      "needs_background": "light"
     },
     "output_type": "display_data"
    }
   ],
   "source": [
    "plt.hist(arr[:,1])"
   ]
  },
  {
   "cell_type": "code",
   "execution_count": 256,
   "metadata": {},
   "outputs": [],
   "source": [
    "def reward():\n",
    "    action = agent_action(arr)\n",
    "    array = np.zeros(1000)\n",
    "    ans = np.where(action == label , 1 ,array)\n",
    "    return ans.mean() * 100"
   ]
  },
  {
   "cell_type": "code",
   "execution_count": 257,
   "metadata": {},
   "outputs": [
    {
     "data": {
      "text/plain": [
       "49.3"
      ]
     },
     "execution_count": 257,
     "metadata": {},
     "output_type": "execute_result"
    }
   ],
   "source": [
    "reward()"
   ]
  },
  {
   "cell_type": "code",
   "execution_count": null,
   "metadata": {},
   "outputs": [],
   "source": []
  },
  {
   "cell_type": "code",
   "execution_count": null,
   "metadata": {},
   "outputs": [],
   "source": []
  },
  {
   "cell_type": "code",
   "execution_count": null,
   "metadata": {},
   "outputs": [],
   "source": []
  },
  {
   "cell_type": "code",
   "execution_count": null,
   "metadata": {},
   "outputs": [],
   "source": []
  }
 ],
 "metadata": {
  "kernelspec": {
   "display_name": "Python 3",
   "language": "python",
   "name": "python3"
  },
  "language_info": {
   "codemirror_mode": {
    "name": "ipython",
    "version": 3
   },
   "file_extension": ".py",
   "mimetype": "text/x-python",
   "name": "python",
   "nbconvert_exporter": "python",
   "pygments_lexer": "ipython3",
   "version": "3.7.4"
  }
 },
 "nbformat": 4,
 "nbformat_minor": 2
}
