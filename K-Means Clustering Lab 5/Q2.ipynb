{
 "cells": [
  {
   "cell_type": "code",
   "execution_count": 1,
   "metadata": {},
   "outputs": [],
   "source": [
    "import numpy as np"
   ]
  },
  {
   "cell_type": "code",
   "execution_count": 2,
   "metadata": {},
   "outputs": [],
   "source": [
    "from matplotlib import pyplot as plt"
   ]
  },
  {
   "cell_type": "code",
   "execution_count": 12,
   "metadata": {},
   "outputs": [],
   "source": [
    "class knn:\n",
    "    \n",
    "    def __init__(self,kfactor):\n",
    "        height = np.random.uniform(100,180,100)\n",
    "        height = np.c_[height]\n",
    "        \n",
    "        \n",
    "        weight = np.random.uniform(30,70,100)\n",
    "        weight = np.c_[weight]\n",
    "        \n",
    "        part = np.hstack([height,weight,np.zeros((100,1))])\n",
    "        \n",
    "        for x in range(len(part)):\n",
    "            \n",
    "            if(part[x][0] > 150 and part[x][1] > 60):\n",
    "                part[x][2] = 1 \n",
    "            else:\n",
    "                part[x][2] = -1\n",
    "        \n",
    "        self.dataset = part\n",
    "        self.kfactor = kfactor\n",
    "    \n",
    "    def guess(self,new_point):\n",
    "        \n",
    "        temp = self.dataset[:,:-1]\n",
    "        dist = np.linalg.norm(np.array([new_point]) - temp,axis=1)\n",
    "        mindist = np.argsort(dist)\n",
    "        \n",
    "        mindist = mindist[:self.kfactor]\n",
    "        \n",
    "        data = self.dataset[mindist][:,2]\n",
    "        data,count = np.unique(data,return_counts=True)\n",
    "        \n",
    "        count = np.argmax(count)\n",
    "        \n",
    "        return data[count]\n",
    "        \n",
    "        \n",
    "        \n",
    "        \n",
    "        \n",
    "        \n",
    "        \n",
    "        \n",
    "        "
   ]
  },
  {
   "cell_type": "code",
   "execution_count": 13,
   "metadata": {},
   "outputs": [],
   "source": [
    "classify = knn(5)"
   ]
  },
  {
   "cell_type": "code",
   "execution_count": 14,
   "metadata": {},
   "outputs": [
    {
     "data": {
      "text/plain": [
       "-1.0"
      ]
     },
     "execution_count": 14,
     "metadata": {},
     "output_type": "execute_result"
    }
   ],
   "source": [
    "classify.guess([120,40])"
   ]
  },
  {
   "cell_type": "code",
   "execution_count": 22,
   "metadata": {},
   "outputs": [],
   "source": [
    "tem = classify.dataset"
   ]
  },
  {
   "cell_type": "code",
   "execution_count": 23,
   "metadata": {},
   "outputs": [
    {
     "data": {
      "text/plain": [
       "[<matplotlib.lines.Line2D at 0x1764f867d88>]"
      ]
     },
     "execution_count": 23,
     "metadata": {},
     "output_type": "execute_result"
    },
    {
     "data": {
      "image/png": "[encoded data removed]",
      "text/plain": [
       "<Figure size 432x288 with 1 Axes>"
      ]
     },
     "metadata": {
      "needs_background": "light"
     },
     "output_type": "display_data"
    }
   ],
   "source": [
    "plt.plot(classify.dataset[:,0],np.zeros((len(tem))),'o')\n",
    "plt.plot(classify.dataset[:,1],np.zeros(len(tem)),'o')\n"
   ]
  },
  {
   "cell_type": "code",
   "execution_count": null,
   "metadata": {},
   "outputs": [],
   "source": []
  }
 ],
 "metadata": {
  "kernelspec": {
   "display_name": "Python 3",
   "language": "python",
   "name": "python3"
  },
  "language_info": {
   "codemirror_mode": {
    "name": "ipython",
    "version": 3
   },
   "file_extension": ".py",
   "mimetype": "text/x-python",
   "name": "python",
   "nbconvert_exporter": "python",
   "pygments_lexer": "ipython3",
   "version": "3.7.4"
  }
 },
 "nbformat": 4,
 "nbformat_minor": 2
}
