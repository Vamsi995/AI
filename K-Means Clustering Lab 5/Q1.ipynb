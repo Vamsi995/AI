{
 "cells": [
  {
   "cell_type": "code",
   "execution_count": 4,
   "metadata": {},
   "outputs": [],
   "source": [
    "import numpy as np"
   ]
  },
  {
   "cell_type": "code",
   "execution_count": 5,
   "metadata": {},
   "outputs": [],
   "source": [
    "from matplotlib import pyplot as plt\n"
   ]
  },
  {
   "cell_type": "code",
   "execution_count": 608,
   "metadata": {},
   "outputs": [],
   "source": [
    "class kmeans_cluster:\n",
    "    \n",
    "    def __init__(self,dataset,centres):\n",
    "        dataset1 = np.random.uniform(-1,1,100)\n",
    "        dataset1 = np.c_[dataset1]\n",
    "\n",
    "        dataset2 = np.random.uniform(-0.5,1.5,100)\n",
    "        dataset2 = np.c_[dataset2]\n",
    "        \n",
    "        dataset3 = np.random.uniform(1,2,100)\n",
    "        dataset3 = np.c_[dataset3]\n",
    "        \n",
    "        \n",
    "        self.centres = [dataset1.mean(),dataset2.mean()]\n",
    "#         self.centres = [0,1]\n",
    "\n",
    "        self.dataset = np.vstack([dataset1,dataset2,dataset3])\n",
    "    \n",
    "    \n",
    "    \n",
    "    def kmeans(self,dataset,prev_centres,centres):\n",
    "        \n",
    "        while all(prev_centres != centres):\n",
    "            \n",
    "            cluster_set = {key: np.array([0]) for key in range(len(centres))}\n",
    "            for pt in dataset:\n",
    "                \n",
    "                dist = np.linalg.norm(pt - np.c_[centres],axis=1)\n",
    "                mindist_ind = np.argmin(dist)\n",
    "                \n",
    "                temp = cluster_set[mindist_ind]\n",
    "                cluster_set[mindist_ind] = np.hstack([temp,pt])\n",
    "               \n",
    "            \n",
    "            for c in range(len(centres)):\n",
    "                temp = cluster_set[c]\n",
    "                cluster_set[c] = temp[1:]\n",
    "            \n",
    "            \n",
    "            for i in range(len(centres)):\n",
    "                if(len(cluster_set[i]) > 0):\n",
    "                    prev_centres[i] = centres[i]\n",
    "                    temp = cluster_set[i]\n",
    "                    temp = temp.mean()\n",
    "                    centres[i] = temp\n",
    "                    \n",
    "                    \n",
    "                else:\n",
    "                    prev_centres[i] = centres[i]\n",
    "                  \n",
    "    \n",
    "    \n",
    "    def find_clusters(self,dataset,centres):\n",
    "            cluster_set = {key: np.array([0]) for key in range(len(centres))}\n",
    "            for pt in dataset:\n",
    "                \n",
    "                dist = np.linalg.norm(pt - np.c_[centres],axis=1)\n",
    "                mindist_ind = np.argmin(dist)\n",
    "                \n",
    "                temp = cluster_set[mindist_ind]\n",
    "                cluster_set[mindist_ind] = np.hstack([temp,pt])\n",
    "               \n",
    "            \n",
    "            for c in range(len(centres)):\n",
    "                temp = cluster_set[c]\n",
    "                cluster_set[c] = temp[1:]\n",
    "          \n",
    "            return cluster_set\n",
    "    \n",
    "    def plotpoints(self,cluster_dict,centres):\n",
    "        temp = 0\n",
    "        for x in range(len(centres)):\n",
    "            temp += 1\n",
    "            plt.plot(cluster_dict[x],temp + np.zeros((len(cluster_dict[x]))),'o')\n",
    "            plt.plot(centres[x],np.ones((1)),'*')\n",
    "#         print(len(cluster_dict[centres[0]]))\n",
    "#         plt.plot(cluster_dict[0],1+np.zeros((len(cluster_dict[0]))),'o')\n",
    "#         plt.plot(cluster_dict[1],2+np.zeros((len(cluster_dict[1]))),'o')\n",
    "# #         plt.plot(cluster_dict[centres[2]],3+np.zeros((len(cluster_dict[centres[2]]))),'o')\n",
    "\n",
    "#         plt.plot(centres,np.ones(len(centres)),'*')\n",
    "        \n",
    "    "
   ]
  },
  {
   "cell_type": "code",
   "execution_count": 609,
   "metadata": {},
   "outputs": [],
   "source": [
    "t = kmeans_cluster(dataset,centres)"
   ]
  },
  {
   "cell_type": "code",
   "execution_count": 610,
   "metadata": {},
   "outputs": [],
   "source": [
    "prev_centres = np.full((len(t.centres)),float('inf'))"
   ]
  },
  {
   "cell_type": "code",
   "execution_count": 611,
   "metadata": {},
   "outputs": [],
   "source": [
    "t.kmeans(t.dataset,prev_centres,t.centres)"
   ]
  },
  {
   "cell_type": "code",
   "execution_count": 612,
   "metadata": {},
   "outputs": [
    {
     "data": {
      "text/plain": [
       "[-0.06974226309380839, 1.240700099676885]"
      ]
     },
     "execution_count": 612,
     "metadata": {},
     "output_type": "execute_result"
    }
   ],
   "source": [
    "t.centres"
   ]
  },
  {
   "cell_type": "code",
   "execution_count": 613,
   "metadata": {},
   "outputs": [],
   "source": [
    "clusters = t.find_clusters(t.dataset,t.centres)"
   ]
  },
  {
   "cell_type": "code",
   "execution_count": 614,
   "metadata": {},
   "outputs": [
    {
     "data": {
      "text/plain": [
       "173"
      ]
     },
     "execution_count": 614,
     "metadata": {},
     "output_type": "execute_result"
    }
   ],
   "source": [
    "len(clusters[1])"
   ]
  },
  {
   "cell_type": "code",
   "execution_count": 615,
   "metadata": {},
   "outputs": [
    {
     "data": {
      "image/png": "[encoded data removed]",
      "text/plain": [
       "<Figure size 432x288 with 1 Axes>"
      ]
     },
     "metadata": {
      "needs_background": "light"
     },
     "output_type": "display_data"
    }
   ],
   "source": [
    "t.plotpoints(clusters,t.centres)"
   ]
  },
  {
   "cell_type": "code",
   "execution_count": null,
   "metadata": {},
   "outputs": [],
   "source": []
  }
 ],
 "metadata": {
  "kernelspec": {
   "display_name": "Python 3",
   "language": "python",
   "name": "python3"
  },
  "language_info": {
   "codemirror_mode": {
    "name": "ipython",
    "version": 3
   },
   "file_extension": ".py",
   "mimetype": "text/x-python",
   "name": "python",
   "nbconvert_exporter": "python",
   "pygments_lexer": "ipython3",
   "version": "3.7.4"
  }
 },
 "nbformat": 4,
 "nbformat_minor": 2
}
